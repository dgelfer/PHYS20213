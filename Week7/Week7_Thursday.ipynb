{
 "metadata": {
  "name": "Week7_Thursday"
 },
 "nbformat": 3,
 "nbformat_minor": 0,
 "worksheets": [
  {
   "cells": [
    {
     "cell_type": "markdown",
     "metadata": {},
     "source": [
      "Euler's Method\n",
      "="
     ]
    },
    {
     "cell_type": "markdown",
     "metadata": {},
     "source": [
      "Example 1: Free-fall\n",
      "="
     ]
    },
    {
     "cell_type": "code",
     "collapsed": false,
     "input": [
      "# attempting example\n",
      "import numpy\n",
      "\n",
      "def Euler_method(deriv,v_0,S): \n",
      "    dvdt = lambda t,v: 5*v + t # just made up dv dx equation\n",
      "    t = np.arange(0, 1+S,S) \n",
      "    v = np.zeros(t.size) \n",
      "    \n",
      "    v[0] = v_0 \n",
      "    for n in range(v.size -1): \n",
      "     v[n+1] = v[n] + deriv(t[n],v[n])*S    \n",
      "    return t,v \n",
      "Velocity = Euler_method(dvdt,0,0.01)"
     ],
     "language": "python",
     "metadata": {},
     "outputs": [
      {
       "ename": "NameError",
       "evalue": "name 'dvdt' is not defined",
       "output_type": "pyerr",
       "traceback": [
        "\u001b[0;31m---------------------------------------------------------------------------\u001b[0m\n\u001b[0;31mNameError\u001b[0m                                 Traceback (most recent call last)",
        "\u001b[0;32m<ipython-input-37-6fd64e7f7a20>\u001b[0m in \u001b[0;36m<module>\u001b[0;34m()\u001b[0m\n\u001b[1;32m     11\u001b[0m      \u001b[0mv\u001b[0m\u001b[0;34m[\u001b[0m\u001b[0mn\u001b[0m\u001b[0;34m+\u001b[0m\u001b[0;36m1\u001b[0m\u001b[0;34m]\u001b[0m \u001b[0;34m=\u001b[0m \u001b[0mv\u001b[0m\u001b[0;34m[\u001b[0m\u001b[0mn\u001b[0m\u001b[0;34m]\u001b[0m \u001b[0;34m+\u001b[0m \u001b[0mderiv\u001b[0m\u001b[0;34m(\u001b[0m\u001b[0mt\u001b[0m\u001b[0;34m[\u001b[0m\u001b[0mn\u001b[0m\u001b[0;34m]\u001b[0m\u001b[0;34m,\u001b[0m\u001b[0mv\u001b[0m\u001b[0;34m[\u001b[0m\u001b[0mn\u001b[0m\u001b[0;34m]\u001b[0m\u001b[0;34m)\u001b[0m\u001b[0;34m*\u001b[0m\u001b[0mS\u001b[0m\u001b[0;34m\u001b[0m\u001b[0m\n\u001b[1;32m     12\u001b[0m     \u001b[0;32mreturn\u001b[0m \u001b[0mt\u001b[0m\u001b[0;34m,\u001b[0m\u001b[0mv\u001b[0m\u001b[0;34m\u001b[0m\u001b[0m\n\u001b[0;32m---> 13\u001b[0;31m \u001b[0mVelocity\u001b[0m \u001b[0;34m=\u001b[0m \u001b[0mEuler_method\u001b[0m\u001b[0;34m(\u001b[0m\u001b[0mdvdt\u001b[0m\u001b[0;34m,\u001b[0m\u001b[0;36m0\u001b[0m\u001b[0;34m,\u001b[0m\u001b[0;36m0.01\u001b[0m\u001b[0;34m)\u001b[0m\u001b[0;34m\u001b[0m\u001b[0m\n\u001b[0m",
        "\u001b[0;31mNameError\u001b[0m: name 'dvdt' is not defined"
       ]
      }
     ],
     "prompt_number": 37
    },
    {
     "cell_type": "markdown",
     "metadata": {},
     "source": [
      "Exercise 1\n",
      "="
     ]
    },
    {
     "cell_type": "markdown",
     "metadata": {},
     "source": [
      "a) Use Eulre's method to solve the following firs-order differential equation with given initial condition y(0) = 0\n",
      "$\\frac{dy}{dx} = x +2y$\n",
      "\n",
      "Find the value of y when x =1, that is y(1) using a first step size of 0.25, and then 0.02. "
     ]
    },
    {
     "cell_type": "code",
     "collapsed": false,
     "input": [
      "\n",
      "def Euler_method2(deriv,y_0,S): # function that takes parameters of the derivativ of a function, inital condition of y , and step sizes \n",
      "    dydx = lambda x,y: x + 2*y # dydx function\n",
      "    x = np.arange(0, 1+S, S) # x range\n",
      "    y = np.zeros(x.size) # y as function of x\n",
      "    \n",
      "    y[0] = y_0 # first element in y array is the intial condition\n",
      "    for n in range(y.size -1): \n",
      "        y[n+1] = y[n] + deriv(x[n], y[n])*S #takes method equation and iterates over the given range         \n",
      "    return x,y # returns integral value\n",
      "\n",
      "solution1 = Euler_method2(dydx, 0, .25)[1][-1]# prints solution of euler method by calling on the v array\n",
      "print solution1\n",
      "solution2 = Euler_method2(dydx, 0, .02)[1][-1]\n",
      "print solution2"
     ],
     "language": "python",
     "metadata": {},
     "outputs": [
      {
       "output_type": "stream",
       "stream": "stdout",
       "text": [
        "0.515625\n",
        "1.02667083657\n"
       ]
      }
     ],
     "prompt_number": 42
    },
    {
     "cell_type": "code",
     "collapsed": false,
     "input": [
      "solution1 = Euler_method2(dydx, 0, .25)[1][-1]# prints solution of euler method by calling on the v array\n",
      "print solution1\n",
      "solution2 = Euler_method2(dydx, 0, .02)[1][-1]\n",
      "print solution2"
     ],
     "language": "python",
     "metadata": {},
     "outputs": [
      {
       "output_type": "stream",
       "stream": "stdout",
       "text": [
        "0.515625\n",
        "1.02667083657\n"
       ]
      }
     ],
     "prompt_number": 36
    },
    {
     "cell_type": "markdown",
     "metadata": {},
     "source": [
      "b)\n",
      "Plot the results from part (a) for the two different step sizes  with the exact solution ?\n",
      "$y=0.25e^{2x}\u22120.5x\u22120.25$"
     ]
    },
    {
     "cell_type": "code",
     "collapsed": false,
     "input": [
      "f = lambda x: 0.25*e**(2*x)-0.5*x-0.25 # exact value equation\n",
      "X = Euler_method2(dydx, 0, .2)[0] #  x array\n",
      "Y = Euler_method2(dydx, 0, .2)[1]# y array\n",
      "plot(X,Y, color = 'blue', label = 'step size of 0.2')\n",
      "X2 = Euler_method2(dydx, 0, .25)[0]\n",
      "Y2 = Euler_method2(dydx, 0, .25)[1]\n",
      "plot(X2,Y2, color = 'orange', label = 'step size of 0.25')\n",
      "x = arange(0.,1.0001,0.01)\n",
      "plot(x, 0.25*e**(2*x)-0.5*x-0.25, 'green', label='Exact solution')\n",
      "title(\"Euler method\")\n",
      "xlabel(\"x\")\n",
      "ylabel(\"y\")\n",
      "legend(loc='upper left')\n",
      "show()"
     ],
     "language": "python",
     "metadata": {},
     "outputs": [
      {
       "output_type": "display_data",
       "png": "[encoded data removed]"
      }
     ],
     "prompt_number": 43
    },
    {
     "cell_type": "code",
     "collapsed": false,
     "input": [],
     "language": "python",
     "metadata": {},
     "outputs": []
    }
   ],
   "metadata": {}
  }
 ]
}