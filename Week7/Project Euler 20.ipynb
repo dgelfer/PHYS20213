{
 "metadata": {
  "name": "Project Euler 20"
 },
 "nbformat": 3,
 "nbformat_minor": 0,
 "worksheets": [
  {
   "cells": [
    {
     "cell_type": "markdown",
     "metadata": {},
     "source": [
      "Project Euler 20\n",
      "=\n",
      "n! means n  (n  1)  ...  3  2  1\n",
      "\n",
      "For example, 10! = 10  9  ...  3  2  1 = 3628800,\n",
      "and the sum of the digits in the number 10! is 3 + 6 + 2 + 8 + 8 + 0 + 0 = 27.\n",
      "\n",
      "Find the sum of the digits in the number 100!"
     ]
    },
    {
     "cell_type": "code",
     "collapsed": false,
     "input": [
      "\n",
      "def Sum_factorial(n): # my factorial function\n",
      "    \n",
      "    def factorial(n):\n",
      "        \n",
      "        if n == 0 or n == 1 : # created an if statements that claims when ever n= 0,1 it equals 1\n",
      "            return 1\n",
      "        elif n == 2: # then for n=2 , the factorial should return 2\n",
      "            return 2\n",
      "        else:    # for all the other numbers , it should follow this equation which essentially iterates based upon our n value and then it should be multiplied by n minus 1.\n",
      "            return n*factorial(n-1)\n",
      "    print factorial(n), 'factorial value'           \n",
      "    def digit_sum(n): # for our sum of the factorials value digits\n",
      "        \n",
      "        return sum([int(i) for i in str(n)]) # so we converted every n value into a string , and then for every element in the string of n , we converter it into an integer\n",
      "       \n",
      "    return digit_sum(factorial(n))# takes the value of the factorial function, then it sums the integer converted elements (digits)\n",
      "\n",
      "print Sum_factorial(100),'sum of digits of 100 factorial'          \n"
     ],
     "language": "python",
     "metadata": {},
     "outputs": [
      {
       "output_type": "stream",
       "stream": "stdout",
       "text": [
        "93326215443944152681699238856266700490715968264381621468592963895217599993229915608941463976156518286253697920827223758251185210916864000000000000000000000000 factorial value\n",
        "648 sum of digits of 100 factorial\n"
       ]
      }
     ],
     "prompt_number": 61
    },
    {
     "cell_type": "code",
     "collapsed": false,
     "input": [
      "\"\"\" Test Case\"\"\"\n",
      "print Sum_factorial(10)"
     ],
     "language": "python",
     "metadata": {},
     "outputs": [
      {
       "output_type": "stream",
       "stream": "stdout",
       "text": [
        "3628800 factorial value\n",
        "27\n"
       ]
      }
     ],
     "prompt_number": 62
    }
   ],
   "metadata": {}
  }
 ]
}