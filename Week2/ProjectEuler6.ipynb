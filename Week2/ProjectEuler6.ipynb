{
 "metadata": {
  "name": "ProjectEuler6"
 },
 "nbformat": 3,
 "nbformat_minor": 0,
 "worksheets": [
  {
   "cells": [
    {
     "cell_type": "markdown",
     "metadata": {},
     "source": [
      "Problem 6\n",
      "\n",
      "The sum of the squares of the first ten natural numbers is,\n",
      "1$^2$ + 2$^2$ + ... + 10$^2$ = 385\n",
      "\n",
      "The square of the sum of the first ten natural numbers is,\n",
      "(1 + 2 + ... + 10)$^2$ = 55$^2$ = 3025\n",
      "\n",
      "Hence the difference between the sum of the squares of the first ten natural numbers and the square of the sum is 3025 \u2212 385 = 2640.\n",
      "\n",
      "Find the difference between the sum of the squares of the first one hundred natural numbers and the square of the sum.\n"
     ]
    },
    {
     "cell_type": "markdown",
     "metadata": {},
     "source": []
    },
    {
     "cell_type": "code",
     "collapsed": false,
     "input": [
      "squarenumbers = 0\n",
      "for n in range(1,11):\n",
      "    squarenumbers += n**2\n",
      "    \n",
      "print squarenumbers\n"
     ],
     "language": "python",
     "metadata": {},
     "outputs": [
      {
       "output_type": "stream",
       "stream": "stdout",
       "text": [
        "385\n"
       ]
      }
     ],
     "prompt_number": 9
    },
    {
     "cell_type": "code",
     "collapsed": false,
     "input": [
      "sumofn = 0\n",
      "squareofsum = 0\n",
      "for n in range(1,11):\n",
      "    sumofn += n\n",
      "squareofsum = sumofn ** 2\n",
      "print squareofsum\n",
      "\n"
     ],
     "language": "python",
     "metadata": {},
     "outputs": [
      {
       "output_type": "stream",
       "stream": "stdout",
       "text": [
        "3025\n"
       ]
      }
     ],
     "prompt_number": 14
    },
    {
     "cell_type": "code",
     "collapsed": false,
     "input": [
      "difference = squareofsum - squarenumbers\n",
      "print difference"
     ],
     "language": "python",
     "metadata": {},
     "outputs": [
      {
       "output_type": "stream",
       "stream": "stdout",
       "text": [
        "2640\n"
       ]
      }
     ],
     "prompt_number": 15
    },
    {
     "cell_type": "code",
     "collapsed": false,
     "input": [
      "squarenumbers = 0\n",
      "for n in range(1,101):\n",
      "    squarenumbers += n ** 2\n",
      "print squarenumbers"
     ],
     "language": "python",
     "metadata": {},
     "outputs": [
      {
       "output_type": "stream",
       "stream": "stdout",
       "text": [
        "338350\n"
       ]
      }
     ],
     "prompt_number": 17
    },
    {
     "cell_type": "code",
     "collapsed": false,
     "input": [
      "sumofn = 0\n",
      "squareofsum = 0\n",
      "for n in range(1,101):\n",
      "    sumofn += n\n",
      "squareofsum = sumofn ** 2\n",
      "print squareofsum"
     ],
     "language": "python",
     "metadata": {},
     "outputs": [
      {
       "output_type": "stream",
       "stream": "stdout",
       "text": [
        "25502500\n"
       ]
      }
     ],
     "prompt_number": 18
    },
    {
     "cell_type": "code",
     "collapsed": false,
     "input": [
      "difference = squareofsum - squarenumbers\n",
      "print difference"
     ],
     "language": "python",
     "metadata": {},
     "outputs": [
      {
       "output_type": "stream",
       "stream": "stdout",
       "text": [
        "25164150\n"
       ]
      }
     ],
     "prompt_number": 19
    },
    {
     "cell_type": "code",
     "collapsed": false,
     "input": [],
     "language": "python",
     "metadata": {},
     "outputs": []
    }
   ],
   "metadata": {}
  }
 ]
}