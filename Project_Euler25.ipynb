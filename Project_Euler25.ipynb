{
 "metadata": {
  "name": "Project_Euler25"
 },
 "nbformat": 3,
 "nbformat_minor": 0,
 "worksheets": [
  {
   "cells": [
    {
     "cell_type": "markdown",
     "metadata": {},
     "source": [
      "Project Euler 25\n",
      "= \n",
      "\n",
      "\n",
      "\n",
      "What is the first term in the Fibonacci sequence to contain 1000 digits?"
     ]
    },
    {
     "cell_type": "code",
     "collapsed": false,
     "input": [
      "f = 1 # second fibonnaci number ( but will serve as every as the fibonnaci term for nth fibonnaci number).\n",
      "previous1 = 0 # as according to the fn equation you must add the previous number and in this case \n",
      "previous2 = 1 # first fibonnaci number\n",
      "term = 1 # default term\n",
      "\n",
      "while len(str(f)) < 1000: # the loop iterates every term in the string \"f\" and counts the length up to 999 digits.\n",
      "\tf = previous1 + previous2# takes every previous number and every secondly previous fibonnaci number and keeps reiterating\n",
      "\tprevious1 = previous2 # stating the condition of how the second and first fibonnaci numbers equals each other\n",
      "\tprevious2 = f\n",
      "\tprevious2 = f\n",
      "\tterm = term + 1 #then as the while the loop is true it adds all the terms and adds 1 in order to get the appropriate one.\n",
      "print f # prints the actual first 1000 digit fibonnaci number\n",
      "print term # prints the fibonnaci term of the first 1000 digit number "
     ],
     "language": "python",
     "metadata": {},
     "outputs": [
      {
       "output_type": "stream",
       "stream": "stdout",
       "text": [
        "1070066266382758936764980584457396885083683896632151665013235203375314520604694040621889147582489792657804694888177591957484336466672569959512996030461262748092482186144069433051234774442750273781753087579391666192149259186759553966422837148943113074699503439547001985432609723067290192870526447243726117715821825548491120525013201478612965931381792235559657452039506137551467837543229119602129934048260706175397706847068202895486902666185435124521900369480641357447470911707619766945691070098024393439617474103736912503231365532164773697023167755051595173518460579954919410967778373229665796581646513903488154256310184224190259846088000110186255550245493937113651657039447629584714548523425950428582425306083544435428212611008992863795048006894330309773217834864543113205765659868456288616808718693835297350643986297640660000723562917905207051164077614812491885830945940566688339109350944456576357666151619317753792891661581327159616877487983821820492520348473874384736771934512787029218636250627816\n",
        "4782\n"
       ]
      }
     ],
     "prompt_number": 5
    },
    {
     "cell_type": "code",
     "collapsed": false,
     "input": [
      "\"\"\"Test case \"\"\"\n",
      "f = 1 \n",
      "previous1 = 0 \n",
      "previous2 = 1 \n",
      "term = 1\n",
      "\n",
      "while len(str(f)) < 2:\n",
      "\tf = previous1 + previous2\n",
      "\tprevious1 = previous2\n",
      "\tprevious2 = f\n",
      "\tterm = term + 1\n",
      "print f # prints the actual first 2 digit fibonnaci number\n",
      "print term # prints the fibonnaci term "
     ],
     "language": "python",
     "metadata": {},
     "outputs": [
      {
       "output_type": "stream",
       "stream": "stdout",
       "text": [
        "13\n",
        "7\n"
       ]
      }
     ],
     "prompt_number": 4
    },
    {
     "cell_type": "code",
     "collapsed": false,
     "input": [],
     "language": "python",
     "metadata": {},
     "outputs": [],
     "prompt_number": 2
    },
    {
     "cell_type": "code",
     "collapsed": false,
     "input": [],
     "language": "python",
     "metadata": {},
     "outputs": [],
     "prompt_number": 2
    },
    {
     "cell_type": "code",
     "collapsed": false,
     "input": [],
     "language": "python",
     "metadata": {},
     "outputs": []
    }
   ],
   "metadata": {}
  }
 ]
}