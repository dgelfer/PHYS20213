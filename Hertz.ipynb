{
 "metadata": {
  "name": "Hertz"
 },
 "nbformat": 3,
 "nbformat_minor": 0,
 "worksheets": [
  {
   "cells": [
    {
     "cell_type": "code",
     "collapsed": false,
     "input": [
      "#Voltage-Current Dips\n",
      "#165 Celcius\n",
      "Dip1=7.67 #volts\n",
      "I1= 1.04*10**(-11)\n",
      "Dip2=12.43\n",
      "I2= 2.37*10**(-11)\n",
      "D_2 = Dip2-Dip1\n",
      "Dip3=17.31\n",
      "I3= 3.88*10**(-11)\n",
      "D_3 = Dip3-Dip2\n",
      "Dip4=22.27\n",
      "I4= 6.34*10**(-11)\n",
      "D_4 = Dip4-Dip3\n",
      "Dip5=27.39\n",
      "D_5 = Dip5-Dip4\n",
      "I5 = 9.99*10**(-11)\n",
      "Dip6=32.51\n",
      "I6 = 1.47*10**(-10)\n",
      "D_6 = Dip6-Dip5\n",
      "Dip7=37.63\n",
      "D_7 = Dip7-Dip6\n",
      "I7 = (2.09*10**(-10))\n",
      "print I7\n",
      "print D_2\n",
      "print D_3\n",
      "print D_4\n",
      "print D_5\n",
      "print D_6\n",
      "print D_7\n",
      "D_avg = (Dip1+D_2+D_3+D_4+D_5+D_6+D_7)/7\n",
      "print D_avg\n",
      "D165= array([Dip1,Dip2,Dip3,Dip4,Dip5,Dip6,Dip7])\n",
      "I165= array([I1,I2,I3,I4,I5,I6,I7])\n",
      "\n",
      "print D165\n",
      "print I165"
     ],
     "language": "python",
     "metadata": {},
     "outputs": [
      {
       "output_type": "stream",
       "stream": "stdout",
       "text": [
        "2.09e-10\n",
        "4.76\n",
        "4.88\n",
        "4.96\n",
        "5.12\n",
        "5.12\n",
        "5.12\n",
        "5.37571428571\n",
        "[  7.67  12.43  17.31  22.27  27.39  32.51  37.63]\n",
        "[  1.04000000e-11   2.37000000e-11   3.88000000e-11   6.34000000e-11\n",
        "   9.99000000e-11   1.47000000e-10   2.09000000e-10]\n"
       ]
      }
     ],
     "prompt_number": 20
    },
    {
     "cell_type": "code",
     "collapsed": false,
     "input": [
      "def lin(x,a,b):\n",
      "    return a*x+b\n",
      "from scipy.optimize import curve_fit\n",
      "p_0=[2.09*10**(-10),25]\n",
      "plsq,pcov=curve_fit(lin,I165,D165,p_0)\n",
      "\n",
      "print plsq[1]"
     ],
     "language": "python",
     "metadata": {},
     "outputs": [
      {
       "output_type": "stream",
       "stream": "stdout",
       "text": [
        "22.4585714286\n"
       ]
      }
     ],
     "prompt_number": 21
    },
    {
     "cell_type": "code",
     "collapsed": false,
     "input": [
      "xlim(8.5*e-12,3.5*10**(-10))\n",
      "ylim(7,40)\n",
      "xlots=linspace(9.0*e-12,3.0*10**(-10),1000)\n",
      "plot(xlots,lin(xlots,plsq[0],plsq[1]))\n",
      "scatter(I165,D165)"
     ],
     "language": "python",
     "metadata": {},
     "outputs": [
      {
       "output_type": "pyout",
       "prompt_number": 22,
       "text": [
        "<matplotlib.collections.PathCollection at 0x10b8743d0>"
       ]
      },
      {
       "output_type": "display_data",
       "png": "[encoded data removed]"
      }
     ],
     "prompt_number": 22
    },
    {
     "cell_type": "code",
     "collapsed": false,
     "input": [
      "#188 Celcius\n",
      "Dipp1=8.68\n",
      "Dipp2=12.86\n",
      "Dp_2 = Dipp2-Dipp1\n",
      "Dipp3=17.42\n",
      "Dp_3 = Dipp3-Dipp2\n",
      "Dipp4=22.26\n",
      "Dp_4 = Dipp4-Dipp3\n",
      "Dipp5=26.9\n",
      "Dp_5 = Dipp5-Dipp4\n",
      "Dipp6=31.8\n",
      "Dp_6 = Dipp6-Dipp5\n",
      "\n",
      "Dipp7=36.67\n",
      "Dp_7 = Dipp7-Dipp6\n",
      "\n",
      "print Dp_2\n",
      "print Dp_3\n",
      "print Dp_4\n",
      "print Dp_5\n",
      "print Dp_6\n",
      "print Dp_7\n",
      "DD_avg = (Dipp1+Dp_2+Dp_3+Dp_4+Dp_5+Dp_6+Dp_7)/7\n",
      "DDD2 = array([Dipp1,Dipp2,Dipp3,Dipp4,Dipp5,Dipp6,Dipp7])\n",
      "print DDD2\n",
      "print DD_avg"
     ],
     "language": "python",
     "metadata": {},
     "outputs": [
      {
       "output_type": "stream",
       "stream": "stdout",
       "text": [
        "4.18\n",
        "4.56\n",
        "4.84\n",
        "4.64\n",
        "4.9\n",
        "4.87\n",
        "[  8.68  12.86  17.42  22.26  26.9   31.8   36.67]\n",
        "5.23857142857\n"
       ]
      }
     ],
     "prompt_number": 23
    },
    {
     "cell_type": "code",
     "collapsed": false,
     "input": [
      "DAVE = (D_avg+DD_avg)/2\n",
      "print DAVE"
     ],
     "language": "python",
     "metadata": {},
     "outputs": [
      {
       "output_type": "stream",
       "stream": "stdout",
       "text": [
        "5.30714285714\n"
       ]
      }
     ],
     "prompt_number": 5
    },
    {
     "cell_type": "code",
     "collapsed": false,
     "input": [],
     "language": "python",
     "metadata": {},
     "outputs": []
    }
   ],
   "metadata": {}
  }
 ]
}