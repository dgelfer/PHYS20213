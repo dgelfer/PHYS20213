{
 "metadata": {
  "name": "Project_Euler4"
 },
 "nbformat": 3,
 "nbformat_minor": 0,
 "worksheets": [
  {
   "cells": [
    {
     "cell_type": "markdown",
     "metadata": {},
     "source": [
      "Project Euler # 4\n",
      "="
     ]
    },
    {
     "cell_type": "code",
     "collapsed": false,
     "input": [
      "def largest_palinumber(a,b): # defined function\n",
      "    largest_palinumber = 0 # set my larget palinumber variable intially equal to zero\n",
      "    for x in xrange(a, b, 1): # this for loops says for each x value within my range in steps of 1. Used xrange because it retrieves the numbers in the arrange more efficiently.\n",
      "        for y in xrange(a, x, 1):# similar to the first for loop of , except it assures that our second number would be different than our first, yet its numbers can be up to x-1.\n",
      "            f = x * y # the product of the two different three digit numbers\n",
      "            if f > largest_palinumber:  # assures that as the loops reiterates the product is larger than the previous palindromic number until it max out.\n",
      "               g = str(x * y) # then it converts the number into a string\n",
      "               if g ==g[::-1]: # if our product value equals the same value while flipping the numbers (palindromic), then it returns the palindromic\n",
      "                   largest_palinumber = x * y # larget palindromic returned because the foor loop reiterates up until the largest palindromic number in our range.\n",
      "    return largest_palinumber\n",
      "print palindromic(100,1000) "
     ],
     "language": "python",
     "metadata": {},
     "outputs": [
      {
       "output_type": "stream",
       "stream": "stdout",
       "text": [
        "906609\n"
       ]
      }
     ],
     "prompt_number": 35
    },
    {
     "cell_type": "markdown",
     "metadata": {},
     "source": [
      "Test Case "
     ]
    },
    {
     "cell_type": "code",
     "collapsed": false,
     "input": [
      "print palindromic(10,100) # which is true because this is the correct palindromic number for multiples of two digits."
     ],
     "language": "python",
     "metadata": {},
     "outputs": [
      {
       "output_type": "stream",
       "stream": "stdout",
       "text": [
        "9009\n"
       ]
      }
     ],
     "prompt_number": 36
    },
    {
     "cell_type": "code",
     "collapsed": false,
     "input": [],
     "language": "python",
     "metadata": {},
     "outputs": []
    }
   ],
   "metadata": {}
  }
 ]
}