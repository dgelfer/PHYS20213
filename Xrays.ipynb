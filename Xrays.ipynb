{
 "metadata": {
  "name": "Xrays"
 },
 "nbformat": 3,
 "nbformat_minor": 0,
 "worksheets": [
  {
   "cells": [
    {
     "cell_type": "code",
     "collapsed": false,
     "input": [
      "#Fe\n",
      "CFe1=81.33\n",
      "Cfe2=89.56\n",
      "c=81.33/6.4\n",
      "#peak 1 is alpha\n",
      "FWHMpeak1=2.611\n",
      "#peak 2 is beta\n",
      "FWHMpeak2=2.381\n",
      "#Kev\n",
      "E_Fealph1=6.404\n",
      "E_Fealph2=6.391\n",
      "E_Febeta1=7.058\n",
      "E_Febeta2=E_Febeta1\n",
      "E_alph_avg1=(6.404+6.391)/(2)+(.013/3.)\n",
      "\n",
      "EFe1=(6.404+6.391)/(2)+(.013/3.)\n",
      "\n",
      "print EFe1\n",
      "print 'resolution is', ((2.611)/c*1000.)\n",
      "Efe2=7.058"
     ],
     "language": "python",
     "metadata": {},
     "outputs": [
      {
       "output_type": "stream",
       "stream": "stdout",
       "text": [
        "6.40183333333\n",
        "resolution is 205.464158367\n"
       ]
      }
     ],
     "prompt_number": 2
    },
    {
     "cell_type": "code",
     "collapsed": false,
     "input": [
      "#Copper\n",
      "EalphCu1=8.048\n",
      "EalphCu2=8.028\n",
      "EbetaCu1=8.905\n",
      "EbetaCu2=8.905\n",
      "\n",
      "E_Cu_avg1=(EalphCu1+EalphCu2)/2.\n",
      "print E_Cu_avg1\n",
      "CCualph=102.09\n",
      "CCubeta=112.91"
     ],
     "language": "python",
     "metadata": {},
     "outputs": [
      {
       "output_type": "stream",
       "stream": "stdout",
       "text": [
        "8.038\n"
       ]
      }
     ],
     "prompt_number": 13
    },
    {
     "cell_type": "code",
     "collapsed": false,
     "input": [
      "#Nickel\n",
      "EalphNi1=7.478\n",
      "EalphNi2=7.461\n",
      "\n",
      "E_Ni_avg1=(EalphNi1+EalphNi2)/2.\n",
      "print E_Ni_avg1\n",
      "EbetaNi1=8.265\n",
      "EbetaNi2=8.265\n",
      "CNialph=94.95\n",
      "CNibeta=104.82"
     ],
     "language": "python",
     "metadata": {},
     "outputs": [
      {
       "output_type": "stream",
       "stream": "stdout",
       "text": [
        "7.4695\n"
       ]
      }
     ],
     "prompt_number": 14
    },
    {
     "cell_type": "code",
     "collapsed": false,
     "input": [
      "#Zinc\n",
      "EalphZn1=8.639\n",
      "EalphZn2=8.616\n",
      "EbetaZn1=9.572\n",
      "EbetaZn2=9.572\n",
      "CZnalph=109.40\n",
      "CZnbeta=121.47\n",
      "E_Zn_avg1=(EalphZn1+EalphZn2)/2.\n",
      "print E_Zn_avg1\n"
     ],
     "language": "python",
     "metadata": {},
     "outputs": [
      {
       "output_type": "stream",
       "stream": "stdout",
       "text": [
        "8.6275\n"
       ]
      }
     ],
     "prompt_number": 15
    },
    {
     "cell_type": "code",
     "collapsed": false,
     "input": [
      "E_array1=array([E_alph_avg1,E_Febeta1,E_Cu_avg1,EbetaCu1,E_Ni_avg1,EbetaNi1,E_Zn_avg1,EbetaZn1])\n",
      "\n",
      "C_array1=array([81.33,89.56, CCualph,CCubeta,CNialph,CNibeta,CZnalph,CZnbeta])"
     ],
     "language": "python",
     "metadata": {},
     "outputs": [],
     "prompt_number": 6
    },
    {
     "cell_type": "code",
     "collapsed": false,
     "input": [
      "#Plot energy vs channel\n",
      "def Calib(x,a,b):\n",
      "    return a*x+b\n",
      "\n",
      "p=[2.,3.]\n",
      "from scipy.optimize import curve_fit\n",
      "plsq1,pcov1=curve_fit(Calib,C_array1,E_array1,p)\n",
      "print plsq1[1]\n",
      "print plsq1[0]"
     ],
     "language": "python",
     "metadata": {},
     "outputs": [
      {
       "output_type": "stream",
       "stream": "stdout",
       "text": [
        "-0.0328943166028\n",
        "0.0791152656436\n"
       ]
      }
     ],
     "prompt_number": 7
    },
    {
     "cell_type": "code",
     "collapsed": false,
     "input": [
      "scatter(C_array1,E_array1)\n",
      "xlots=linspace(60,140,1000)\n",
      "xlim(70,130)\n",
      "plot(xlots,Calib(xlots,plsq1[0],plsq1[1]))\n",
      "title('Preliminary calibration')\n",
      "xlabel('Channel')\n",
      "ylabel('Energy (keV)')\n",
      "show()"
     ],
     "language": "python",
     "metadata": {},
     "outputs": [
      {
       "output_type": "display_data",
       "png": "[encoded data removed]"
      }
     ],
     "prompt_number": 12
    },
    {
     "cell_type": "code",
     "collapsed": false,
     "input": [
      "#Zirconium\n",
      "EalphZr1=15.775 #More Intense factor of 2\n",
      "EalphZr2=15.691 #Less Intense\n",
      "EbetaZr1=18.623 #More Intense factor of 6\n",
      "EbetaZr2=18.952 #Less Intense\n",
      "CZralph=199.53\n",
      "CZrbeta=223.94\n",
      "E_Zr_avg1=(EalphZr1+EalphZr2)/2.\n",
      "E_Zr_avg2=(EbetaZr1+EbetaZr2)/2.\n",
      "print E_Zr_avg1\n",
      "print E_Zr_avg2"
     ],
     "language": "python",
     "metadata": {},
     "outputs": [
      {
       "output_type": "stream",
       "stream": "stdout",
       "text": [
        "15.733\n",
        "18.7875\n"
       ]
      }
     ],
     "prompt_number": 19
    },
    {
     "cell_type": "code",
     "collapsed": false,
     "input": [
      "#Mo\n",
      "EalphMo1=17.479\n",
      "EalphMo2=17.374\n",
      "EbetaMo1=19.607\n",
      "EbetaMo2=19.965\n",
      "CMoalph=220.89\n",
      "CMobeta=248.49\n",
      "E_Mo_avg1=(EalphMo1+EalphMo2)/2.\n",
      "E_Mo_avg2=(EbetaMo1+EbetaMo2)/2.\n",
      "print E_Mo_avg1\n",
      "print E_Mo_avg2"
     ],
     "language": "python",
     "metadata": {},
     "outputs": [
      {
       "output_type": "stream",
       "stream": "stdout",
       "text": [
        "17.4265\n",
        "19.786\n"
       ]
      }
     ],
     "prompt_number": 20
    },
    {
     "cell_type": "code",
     "collapsed": false,
     "input": [
      "#Rh\n",
      "EalphRh1=20.216\n",
      "EalphRh2=20.074\n",
      "EbetaRh1=22.724\n",
      "EbetaRh2=23.172\n",
      "CRhalph=255.83\n",
      "CRhbeta=287.33\n",
      "E_Rh_avg1=(EalphRh1+EalphRh2)/2.\n",
      "E_Rh_avg2=(EbetaRh1+EbetaRh2)/2.\n",
      "print E_Rh_avg1\n",
      "print E_Rh_avg2"
     ],
     "language": "python",
     "metadata": {},
     "outputs": [
      {
       "output_type": "stream",
       "stream": "stdout",
       "text": [
        "20.145\n",
        "22.948\n"
       ]
      }
     ],
     "prompt_number": 21
    },
    {
     "cell_type": "code",
     "collapsed": false,
     "input": [
      "E_array2=array([E_alph_avg1,E_Febeta1,E_Cu_avg1,EbetaCu1,E_Ni_avg1,EbetaNi1,E_Zn_avg1,EbetaZn1,E_Zr_avg1,E_Zr_avg2,E_Mo_avg1,E_Mo_avg2,E_Rh_avg1,E_Rh_avg2])\n",
      "\n",
      "C_array2=array([81.33,89.56, CCualph,CCubeta,CNialph,CNibeta,CZnalph,CZnbeta,CZralph,CZrbeta,CMoalph,CMobeta,CRhalph,CRhbeta])"
     ],
     "language": "python",
     "metadata": {},
     "outputs": [],
     "prompt_number": 22
    },
    {
     "cell_type": "code",
     "collapsed": false,
     "input": [
      "p=[2.,3.]\n",
      "from scipy.optimize import curve_fit\n",
      "plsq2,pcov2=curve_fit(Calib,C_array2,E_array2,p)\n",
      "print plsq2[1]\n",
      "print plsq2[0]"
     ],
     "language": "python",
     "metadata": {},
     "outputs": [
      {
       "output_type": "stream",
       "stream": "stdout",
       "text": [
        "-0.176487316218\n",
        "0.0806350412023\n"
       ]
      }
     ],
     "prompt_number": 23
    },
    {
     "cell_type": "code",
     "collapsed": false,
     "input": [
      "scatter(C_array2,E_array2)\n",
      "xlots=linspace(60,350,1000)\n",
      "xlim(70,350)\n",
      "plot(xlots,Calib(xlots,plsq2[0],plsq2[1]))\n",
      "title( 'Best Calibration')\n",
      "title('Preliminary calibration')\n",
      "xlabel('Channel')\n",
      "ylabel('Energy (keV)')\n",
      "show()\n"
     ],
     "language": "python",
     "metadata": {},
     "outputs": [
      {
       "output_type": "display_data",
       "png": "[encoded data removed]"
      }
     ],
     "prompt_number": 26
    },
    {
     "cell_type": "code",
     "collapsed": false,
     "input": [
      "#Mosley's law\n",
      "Z_array1 = ([26,28,29,30,40,42,45])\n",
      "E_arraymos = ([E_alph_avg1,E_Ni_avg1,E_Cu_avg1,E_Zn_avg1,E_Zr_avg1,E_Mo_avg1,E_Rh_avg1])\n",
      "def E_1_h(x,a,b):\n",
      "    return a*(x-b)\n",
      "p=[2.,3.]\n",
      "from scipy.optimize import curve_fit\n",
      "plsq1,pcov1=curve_fit(Calib,Z_array1,E_arraymos,p)\n",
      "print plsq1[1]\n",
      "print plsq1[0]"
     ],
     "language": "python",
     "metadata": {},
     "outputs": []
    },
    {
     "cell_type": "markdown",
     "metadata": {},
     "source": [
      "##Other Samples"
     ]
    },
    {
     "cell_type": "code",
     "collapsed": false,
     "input": [
      "#Sn\n",
      "#Looking for 3 betas 2 alphas\n",
      "EalphSn1=25.271\n",
      "EalphSn2=25.044\n",
      "\n",
      "EbetaSn1=28.486\n",
      "EbetaSn2=29.111\n",
      "EbetaSn3=28.444 #Cant distinguish from beta1\n",
      "\n",
      "CSnalph1=319.1 #Primary peak\n",
      "CSnalph2=308 #Guestimation\n",
      "CSnbeta1 = 359.95 #Primary\n",
      "CSnbeta2 = 368 #Guesstimation\n",
      "E_Sn_avg1=(EalphSn1+EalphSn2)/2.\n",
      "E_Sn_avg2=(EbetaSn1+EbetaSn2+EbetaSn3)/3."
     ],
     "language": "python",
     "metadata": {},
     "outputs": []
    },
    {
     "cell_type": "code",
     "collapsed": false,
     "input": [
      "#Pb\n",
      "#Looking at Ls!\n",
      "#Looking for 3 betas 2 alphas\n",
      "EalphPb1=74.969\n",
      "EalphPb2=72.805\n",
      "\n",
      "EbetaPb1=84.938\n",
      "EbetaPb2=87.3\n",
      "EbetaPb3=84.450 #Cant distinguish from beta1\n",
      "\n",
      "CPbalph1=133.93 #Primary peak\n",
      "CPbalph2=117 #Guestimation\n",
      "CPbbeta1 = 160.02 #Primary\n",
      "CPbbeta2 = 187 #Guesstimation\n",
      "E_Pb_avg1=(EalphPb1+EalphPb2)/2.\n",
      "E_Pb_avg2=(EbetaPb1+EbetaPb2+EbetaPb3)/3."
     ],
     "language": "python",
     "metadata": {},
     "outputs": []
    },
    {
     "cell_type": "code",
     "collapsed": false,
     "input": [
      "#Stainless Steel\n",
      "#In decsending order of intensity\n",
      "C_stainless1=81.19\n",
      "C_stainless2=68.66 #equal intensity to 3\n",
      "C_stainless3=89.52\n",
      "C_stainless4=95.27\n",
      "C_stainless5=75 #faint\n",
      "C_stainless6=104 #faintest"
     ],
     "language": "python",
     "metadata": {},
     "outputs": []
    },
    {
     "cell_type": "code",
     "collapsed": false,
     "input": [
      "#Brass\n",
      "C_brass1=102.21\n",
      "C_brass2=109.34\n",
      "C_brass3=121 #guesstimation\n",
      "C_brass4=96"
     ],
     "language": "python",
     "metadata": {},
     "outputs": []
    },
    {
     "cell_type": "code",
     "collapsed": false,
     "input": [
      "#Galvanized Steel\n",
      "C_Galv1=109.38\n",
      "C_Galv2=121.31\n",
      "C_Galv3=81.09\n",
      "C_Galv4=89.5 #guesstimation\n",
      "C_Galv5=99 #guesstimation"
     ],
     "language": "python",
     "metadata": {},
     "outputs": []
    },
    {
     "cell_type": "code",
     "collapsed": false,
     "input": [
      "#Steel\n",
      "C_Steel1=81.23\n",
      "C_Steel2=89.52\n",
      "C_Steel3=76 #faint guesstimation"
     ],
     "language": "python",
     "metadata": {},
     "outputs": []
    },
    {
     "cell_type": "markdown",
     "metadata": {},
     "source": [
      "##K-1 Unknown"
     ]
    },
    {
     "cell_type": "code",
     "collapsed": false,
     "input": [
      "#K1\n",
      "C_k11=123.18\n",
      "C_k12=145.35\n",
      "C_k13=169.65\n",
      "C_k14=108 #roughly\n",
      "C_k15=215 #roughly\n",
      "#Look at picture for more semi-peaks"
     ],
     "language": "python",
     "metadata": {},
     "outputs": []
    },
    {
     "cell_type": "code",
     "collapsed": false,
     "input": [
      "#K2\n",
      "C_k21=279.91\n",
      "C_k22=316 #roughly"
     ],
     "language": "python",
     "metadata": {},
     "outputs": [],
     "prompt_number": 9
    },
    {
     "cell_type": "code",
     "collapsed": false,
     "input": [
      "#Paint on block\n",
      "C_paint1=212\n",
      "C_paint2=214 #Really close in intensity to C1\n",
      "C_paint3=168.82\n",
      "C_paint4=225\n",
      "C_paint5=247\n",
      "C_paint6=95\n",
      "C_paint7=160\n",
      "#see plot for a bunch of other peaks"
     ],
     "language": "python",
     "metadata": {},
     "outputs": [],
     "prompt_number": 10
    },
    {
     "cell_type": "code",
     "collapsed": false,
     "input": [
      "#Red Rock (iron?)\n",
      "C_rock1=81.22\n",
      "C_rock2=89\n",
      "C_rock3=94\n",
      "C_rock4=104 #smaller peaks now\n",
      "#Noise from 20 to 75 see plot\n",
      "C_rock5=217 #smaller central peaks\n",
      "C_rock6=208\n",
      "C_rock7=203\n",
      "C_rock8=225"
     ],
     "language": "python",
     "metadata": {},
     "outputs": [],
     "prompt_number": 11
    },
    {
     "cell_type": "code",
     "collapsed": false,
     "input": [],
     "language": "python",
     "metadata": {},
     "outputs": [],
     "prompt_number": 11
    },
    {
     "cell_type": "code",
     "collapsed": false,
     "input": [],
     "language": "python",
     "metadata": {},
     "outputs": [],
     "prompt_number": 11
    },
    {
     "cell_type": "code",
     "collapsed": false,
     "input": [],
     "language": "python",
     "metadata": {},
     "outputs": []
    }
   ],
   "metadata": {}
  }
 ]
}