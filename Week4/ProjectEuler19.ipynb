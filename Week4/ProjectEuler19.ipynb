{
 "metadata": {
  "name": "ProjectEuler19"
 },
 "nbformat": 3,
 "nbformat_minor": 0,
 "worksheets": [
  {
   "cells": [
    {
     "cell_type": "markdown",
     "metadata": {},
     "source": [
      "Poject Euler: Problem 19\n",
      "=\n",
      "You are given the following information, but you may prefer to do some research for yourself.\n",
      "\n",
      "1 Jan 1900 was a Monday.\n",
      "Thirty days has September,\n",
      "April, June and November.\n",
      "All the rest have thirty-one,\n",
      "Saving February alone,\n",
      "Which has twenty-eight, rain or shine.\n",
      "And on leap years, twenty-nine.\n",
      "A leap year occurs on any year evenly divisible by 4, but not on a century unless it is divisible by 400.\n",
      "How many Sundays fell on the first of the month during the twentieth century (1 Jan 1901 to 31 Dec 2000)?"
     ]
    },
    {
     "cell_type": "code",
     "collapsed": false,
     "input": [
      "week = array(['Monday', 'Tuesday', 'Wednesday', 'Thursday','Friday', 'Saturday', 'Sunday'])\n",
      "item = 0\n",
      "\n",
      "sundays_total = 0\n",
      "leap_year = 0\n",
      "for x in range(0,365):\n",
      "    item += 1\n",
      "    if item > 6:\n",
      "       item = 0\n",
      "print item # first day of january 1901\n",
      "for l in range(1901,2001):\n",
      "    if l%4 == 0:\n",
      "       d = 366\n",
      "       leap_year = 1\n",
      "    else:\n",
      "        d = 365\n",
      "        leap_year = 0\n",
      "    for q in range(0,d): # for every day in either a standard or leaped year\n",
      "        if q == 0 and  item ==6: # January \n",
      "            sundays_total += 1\n",
      "        elif q == 31 and item == 6: #Februrary\n",
      "            sundays_total += 1\n",
      "        elif q == 59 + leap_year and item == 6: #march\n",
      "            sundays_total += 1\n",
      "        elif q == 90 + leap_year and item == 6:# april\n",
      "            sundays_total += 1\n",
      "        elif q == 120 + leap_year and item == 6: # may\n",
      "            sundays_total += 1\n",
      "        elif q == 151 + leap_year and item == 6: # june\n",
      "            sundays_total += 1\n",
      "        elif q == 181 + leap_year and item == 6: # July\n",
      "            sundays_total += 1\n",
      "        elif q == 212 + leap_year and item == 6: # August\n",
      "            sundays_total += 1\n",
      "        elif q == 243 + leap_year and item == 6: # September\n",
      "            sundays_total += 1\n",
      "        elif q == 273 + leap_year and item == 6: # October\n",
      "            sundays_total += 1\n",
      "        elif q == 304 + leap_year and item == 6: # November\n",
      "            sundays_total += 1\n",
      "        elif q == 334 + leap_year and item == 6: # December\n",
      "            sundays_total += 1\n",
      "        item +=1\n",
      "        if item > 6:\n",
      "           item = 0\n",
      "print sundays_total"
     ],
     "language": "python",
     "metadata": {},
     "outputs": [
      {
       "output_type": "stream",
       "stream": "stdout",
       "text": [
        "1\n",
        "171"
       ]
      },
      {
       "output_type": "stream",
       "stream": "stdout",
       "text": [
        "\n"
       ]
      }
     ],
     "prompt_number": 10
    },
    {
     "cell_type": "code",
     "collapsed": false,
     "input": [
      "\n",
      "     \n",
      "\n"
     ],
     "language": "python",
     "metadata": {},
     "outputs": [],
     "prompt_number": 4
    },
    {
     "cell_type": "code",
     "collapsed": false,
     "input": [],
     "language": "python",
     "metadata": {},
     "outputs": []
    },
    {
     "cell_type": "code",
     "collapsed": false,
     "input": [],
     "language": "python",
     "metadata": {},
     "outputs": []
    }
   ],
   "metadata": {}
  }
 ]
}