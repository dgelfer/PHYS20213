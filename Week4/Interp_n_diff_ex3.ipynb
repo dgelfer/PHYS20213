{
 "metadata": {
  "name": "Interp_n_diff_ex3"
 },
 "nbformat": 3,
 "nbformat_minor": 0,
 "worksheets": [
  {
   "cells": [
    {
     "cell_type": "markdown",
     "metadata": {},
     "source": [
      "1. \n",
      "=\n",
      "It is common to test functions where you know the answer. Let's test the dipolePotential()\n",
      "function that you previously wrote and saved in a python script to see that the function is\n",
      "zero along the bisector between the charges. First, set up a grid and evaluate the function."
     ]
    },
    {
     "cell_type": "code",
     "collapsed": false,
     "input": [
      "from Electrostatics import *\n",
      "x,y = meshgrid(arange(-5,5,0.5),arange(-5,5,0.5))\n",
      "Vdipole = dipolePotential(x,y,1e-9,2.);\n",
      "contour(x,y,Vdipole,cmap=cm.coolwarm)\n",
      "xlabel('x(m)')\n",
      "ylabel('y(m)')\n",
      "title('Dipole potential')\n",
      "show()"
     ],
     "language": "python",
     "metadata": {},
     "outputs": [
      {
       "output_type": "display_data",
       "png": "[encoded data removed]"
      }
     ],
     "prompt_number": 12
    },
    {
     "cell_type": "markdown",
     "metadata": {},
     "source": [
      "a)"
     ]
    },
    {
     "cell_type": "code",
     "collapsed": false,
     "input": [
      "mask = (y == 0)\n"
     ],
     "language": "python",
     "metadata": {},
     "outputs": [],
     "prompt_number": 13
    },
    {
     "cell_type": "markdown",
     "metadata": {},
     "source": [
      "B)"
     ]
    },
    {
     "cell_type": "code",
     "collapsed": false,
     "input": [
      "print Vdipole[mask]"
     ],
     "language": "python",
     "metadata": {},
     "outputs": [
      {
       "output_type": "stream",
       "stream": "stdout",
       "text": [
        "[ -0.75        -0.93506494  -1.2         -1.6         -2.25        -3.42857143\n",
        "  -6.         -14.4                -inf -12.           0.          12.\n",
        "          inf  14.4          6.           3.42857143   2.25         1.6\n",
        "   1.2          0.93506494]\n"
       ]
      }
     ],
     "prompt_number": 14
    },
    {
     "cell_type": "markdown",
     "metadata": {},
     "source": [
      "2)"
     ]
    },
    {
     "cell_type": "code",
     "collapsed": false,
     "input": [
      "from scipy.interpolate import interp1d\n",
      "data = loadtxt(\"/Users/dangelfer/PHYS20213/Week4/Thermister.txt\",float)\n",
      "x = data[:,0] # degrees coulombs\n",
      "y = data[:,1]#degrees omega\n",
      "    \n",
      "def Temp(Resistance):\n",
      "    TempInterp = interp1d(x,y)\n",
      "    return TempInterp"
     ],
     "language": "python",
     "metadata": {},
     "outputs": [],
     "prompt_number": 15
    },
    {
     "cell_type": "code",
     "collapsed": false,
     "input": [
      "def Temp(resistance):"
     ],
     "language": "python",
     "metadata": {},
     "outputs": [
      {
       "ename": "SyntaxError",
       "evalue": "unexpected EOF while parsing (<ipython-input-16-0092514ee6fc>, line 1)",
       "output_type": "pyerr",
       "traceback": [
        "\u001b[0;36m  File \u001b[0;32m\"<ipython-input-16-0092514ee6fc>\"\u001b[0;36m, line \u001b[0;32m1\u001b[0m\n\u001b[0;31m    def Temp(resistance):\u001b[0m\n\u001b[0m                         ^\u001b[0m\n\u001b[0;31mSyntaxError\u001b[0m\u001b[0;31m:\u001b[0m unexpected EOF while parsing\n"
       ]
      }
     ],
     "prompt_number": 16
    },
    {
     "cell_type": "code",
     "collapsed": false,
     "input": [
      "print x"
     ],
     "language": "python",
     "metadata": {},
     "outputs": [
      {
       "output_type": "stream",
       "stream": "stdout",
       "text": [
        "[[-5.  -4.5 -4.  -3.5 -3.  -2.5 -2.  -1.5 -1.  -0.5  0.   0.5  1.   1.5  2.\n",
        "   2.5  3.   3.5  4.   4.5]\n",
        " [-5.  -4.5 -4.  -3.5 -3.  -2.5 -2.  -1.5 -1.  -0.5  0.   0.5  1.   1.5  2.\n",
        "   2.5  3.   3.5  4.   4.5]\n",
        " [-5.  -4.5 -4.  -3.5 -3.  -2.5 -2.  -1.5 -1.  -0.5  0.   0.5  1.   1.5  2.\n",
        "   2.5  3.   3.5  4.   4.5]\n",
        " [-5.  -4.5 -4.  -3.5 -3.  -2.5 -2.  -1.5 -1.  -0.5  0.   0.5  1.   1.5  2.\n",
        "   2.5  3.   3.5  4.   4.5]\n",
        " [-5.  -4.5 -4.  -3.5 -3.  -2.5 -2.  -1.5 -1.  -0.5  0.   0.5  1.   1.5  2.\n",
        "   2.5  3.   3.5  4.   4.5]\n",
        " [-5.  -4.5 -4.  -3.5 -3.  -2.5 -2.  -1.5 -1.  -0.5  0.   0.5  1.   1.5  2.\n",
        "   2.5  3.   3.5  4.   4.5]\n",
        " [-5.  -4.5 -4.  -3.5 -3.  -2.5 -2.  -1.5 -1.  -0.5  0.   0.5  1.   1.5  2.\n",
        "   2.5  3.   3.5  4.   4.5]\n",
        " [-5.  -4.5 -4.  -3.5 -3.  -2.5 -2.  -1.5 -1.  -0.5  0.   0.5  1.   1.5  2.\n",
        "   2.5  3.   3.5  4.   4.5]\n",
        " [-5.  -4.5 -4.  -3.5 -3.  -2.5 -2.  -1.5 -1.  -0.5  0.   0.5  1.   1.5  2.\n",
        "   2.5  3.   3.5  4.   4.5]\n",
        " [-5.  -4.5 -4.  -3.5 -3.  -2.5 -2.  -1.5 -1.  -0.5  0.   0.5  1.   1.5  2.\n",
        "   2.5  3.   3.5  4.   4.5]\n",
        " [-5.  -4.5 -4.  -3.5 -3.  -2.5 -2.  -1.5 -1.  -0.5  0.   0.5  1.   1.5  2.\n",
        "   2.5  3.   3.5  4.   4.5]\n",
        " [-5.  -4.5 -4.  -3.5 -3.  -2.5 -2.  -1.5 -1.  -0.5  0.   0.5  1.   1.5  2.\n",
        "   2.5  3.   3.5  4.   4.5]\n",
        " [-5.  -4.5 -4.  -3.5 -3.  -2.5 -2.  -1.5 -1.  -0.5  0.   0.5  1.   1.5  2.\n",
        "   2.5  3.   3.5  4.   4.5]\n",
        " [-5.  -4.5 -4.  -3.5 -3.  -2.5 -2.  -1.5 -1.  -0.5  0.   0.5  1.   1.5  2.\n",
        "   2.5  3.   3.5  4.   4.5]\n",
        " [-5.  -4.5 -4.  -3.5 -3.  -2.5 -2.  -1.5 -1.  -0.5  0.   0.5  1.   1.5  2.\n",
        "   2.5  3.   3.5  4.   4.5]\n",
        " [-5.  -4.5 -4.  -3.5 -3.  -2.5 -2.  -1.5 -1.  -0.5  0.   0.5  1.   1.5  2.\n",
        "   2.5  3.   3.5  4.   4.5]\n",
        " [-5.  -4.5 -4.  -3.5 -3.  -2.5 -2.  -1.5 -1.  -0.5  0.   0.5  1.   1.5  2.\n",
        "   2.5  3.   3.5  4.   4.5]\n",
        " [-5.  -4.5 -4.  -3.5 -3.  -2.5 -2.  -1.5 -1.  -0.5  0.   0.5  1.   1.5  2.\n",
        "   2.5  3.   3.5  4.   4.5]\n",
        " [-5.  -4.5 -4.  -3.5 -3.  -2.5 -2.  -1.5 -1.  -0.5  0.   0.5  1.   1.5  2.\n",
        "   2.5  3.   3.5  4.   4.5]\n",
        " [-5.  -4.5 -4.  -3.5 -3.  -2.5 -2.  -1.5 -1.  -0.5  0.   0.5  1.   1.5  2.\n",
        "   2.5  3.   3.5  4.   4.5]]\n"
       ]
      }
     ],
     "prompt_number": 17
    },
    {
     "cell_type": "code",
     "collapsed": false,
     "input": [],
     "language": "python",
     "metadata": {},
     "outputs": []
    }
   ],
   "metadata": {}
  }
 ]
}