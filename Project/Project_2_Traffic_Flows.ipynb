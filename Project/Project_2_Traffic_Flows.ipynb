{
 "metadata": {
  "name": "Project_2_Traffic_Flows"
 },
 "nbformat": 3,
 "nbformat_minor": 0,
 "worksheets": [
  {
   "cells": [
    {
     "cell_type": "markdown",
     "metadata": {},
     "source": [
      "Project 2: One-dimensional tra\u000effic flows\n",
      "==\n",
      "Date: 5/15/13\n",
      "=\n",
      "Dan Gelfer\n",
      "="
     ]
    },
    {
     "cell_type": "markdown",
     "metadata": {},
     "source": [
      "Checkpoint 1\n",
      "=\n",
      "Create a function called CA184 that takes an array of car positions and veloc-\n",
      "ities along with the road length as arguments. The function should implement the CA184\n",
      "ruleset for the cars and return the array with the new positions and velocities of the cars\n",
      "after one time step. Now test your function. Start with a road of length 40 and 5 cars.\n",
      "Generate a random integer starting location xi and velocity vi for each car and store it in\n",
      "an array that you can pass into your CA184 function. Print the values for xi\n",
      ", vi\n",
      ", gi before\n",
      "and after the function is called. Verify by hand that the function has worked as expected.\n",
      "Try a few more time steps just to be sure."
     ]
    },
    {
     "cell_type": "code",
     "collapsed": false,
     "input": [
      "import numpy as np\n",
      "import random\n"
     ],
     "language": "python",
     "metadata": {},
     "outputs": [],
     "prompt_number": 152
    },
    {
     "cell_type": "code",
     "collapsed": false,
     "input": [
      "# function for obtainning positions of cars\n",
      "def pos(cars_number,R_L):\n",
      "    pos = np.arange(1,R_L)\n",
      "    shuffle(pos)\n",
      "    return sort(pos[:cars_number]) # relative to car values\n",
      "pos(5,40) #position of 5 cars in road length of 40"
     ],
     "language": "python",
     "metadata": {},
     "outputs": [
      {
       "output_type": "pyout",
       "prompt_number": 153,
       "text": [
        "array([13, 17, 22, 25, 28])"
       ]
      }
     ],
     "prompt_number": 153
    },
    {
     "cell_type": "code",
     "collapsed": false,
     "input": [
      "# function for velocities \n",
      "\n",
      "def vel(cars_number, V_maximum):\n",
      "    v = np.array([]) # empty array for velocities\n",
      "    for j in range(cars_number):\n",
      "        v = np.append(v,random.randint(0,V_maximum))\n",
      "    return v\n",
      "\n",
      "#vel(2,5)\n",
      "#vel(3,5)\n",
      "vel(5,5) #  an array of random velocities of 4 cars \n",
      "\n",
      "\n"
     ],
     "language": "python",
     "metadata": {},
     "outputs": [
      {
       "output_type": "pyout",
       "prompt_number": 154,
       "text": [
        "array([ 3.,  1.,  5.,  3.,  1.])"
       ]
      }
     ],
     "prompt_number": 154
    },
    {
     "cell_type": "code",
     "collapsed": false,
     "input": [
      "# this array is an array of both car positions and velocities)\n",
      "x_v = np.array([pos(5,40),vel(5,5)])\n",
      "x_v\n"
     ],
     "language": "python",
     "metadata": {},
     "outputs": [
      {
       "output_type": "pyout",
       "prompt_number": 155,
       "text": [
        "array([[ 10.,  13.,  18.,  31.,  35.],\n",
        "       [  3.,   0.,   2.,   4.,   0.]])"
       ]
      }
     ],
     "prompt_number": 155
    },
    {
     "cell_type": "code",
     "collapsed": false,
     "input": [
      "print x_v[0,0] # useful indexing which allows to call on elements from either the postion or velocity array within \n",
      "print x_v[0,1]\n",
      "print x_v[1,0]\n",
      "print x_v[1,1]\n"
     ],
     "language": "python",
     "metadata": {},
     "outputs": [
      {
       "output_type": "stream",
       "stream": "stdout",
       "text": [
        "10.0\n",
        "13.0\n",
        "3.0\n",
        "0.0\n"
       ]
      }
     ],
     "prompt_number": 156
    },
    {
     "cell_type": "code",
     "collapsed": false,
     "input": [
      "def CA184(x_v,cars_number,R_L,V_maximum): # CA184 Function\n",
      "    \n",
      "    for q in range(cars_number): # set all conditions for all possible cases of empty sites for  g \n",
      "        if q<(cars_number-1): # amount of \"spots\"in between two cars where none of the cars stand at last position within array\n",
      "            if x_v[0][q+1] > x_v[0][q]: # if next car is in a position a head of another one\n",
      "                g = x_v[0][q+1]-x_v[0][q]-1 # spots between them\n",
      "            else:# g for car in last spot\n",
      "                g = (R_L-x_v[0][q])+(x_v[0][q+1]-1)\n",
      "        else:# g for the last car which needs to return back to start of the road\n",
      "            if x_v[0][1]>x_v[0][q]: # essentially  the car in last spot will to go to start\n",
      "                g = x_v[0][1]-x_v[0][q]-1 # calculates difference between last spot to to the second which should essentially loop the car to go to the beginning of the road.\n",
      "            else:\n",
      "                g =(R_L-x_v[0][q])+(x_v[0][1]-1)\n",
      "        if g ==0: # rule 2\n",
      "            x_v[1][q] = 0\n",
      "        elif g > x_v[1][q] and x_v[1][q] < V_maximum: # rule 4\n",
      "            x_v[1][q] = x_v[1][q]+1 \n",
      "        elif g<x_v[1][q]: # rule 3\n",
      "            x_v[1][q]=g\n",
      "    for q in range(cars_number): # rule 6 , allowing all cars to move forward\n",
      "        if x_v[0][q]+x_v[1][q]<=R_L: \n",
      "            x_v[0][q]=x_v[0][q]+x_v[1][q]\n",
      "        else:\n",
      "            x_v[0][q]=x_v[1][q]-(R_L-x_v[0][q]) # the application of rule 6 to the last car case.\n",
      "    \n",
      "    return x_v    \n",
      "            \n"
     ],
     "language": "python",
     "metadata": {},
     "outputs": [],
     "prompt_number": 157
    },
    {
     "cell_type": "code",
     "collapsed": false,
     "input": [
      "\"\"\" Test Cases\"\"\"\n",
      "CA184(x_v,5,40,10)\n"
     ],
     "language": "python",
     "metadata": {},
     "outputs": [
      {
       "output_type": "pyout",
       "prompt_number": 158,
       "text": [
        "array([[ 12.,  14.,  21.,  34.,  36.],\n",
        "       [  2.,   1.,   3.,   3.,   1.]])"
       ]
      }
     ],
     "prompt_number": 158
    },
    {
     "cell_type": "code",
     "collapsed": false,
     "input": [
      "CA184(x_v,5,40,10)"
     ],
     "language": "python",
     "metadata": {},
     "outputs": [
      {
       "output_type": "pyout",
       "prompt_number": 159,
       "text": [
        "array([[ 13.,  16.,  25.,  35.,  38.],\n",
        "       [  1.,   2.,   4.,   1.,   2.]])"
       ]
      }
     ],
     "prompt_number": 159
    },
    {
     "cell_type": "code",
     "collapsed": false,
     "input": [
      "CA184(x_v,5,40,10)"
     ],
     "language": "python",
     "metadata": {},
     "outputs": [
      {
       "output_type": "pyout",
       "prompt_number": 160,
       "text": [
        "array([[ 15.,  19.,  30.,  37.,   1.],\n",
        "       [  2.,   3.,   5.,   2.,   3.]])"
       ]
      }
     ],
     "prompt_number": 160
    },
    {
     "cell_type": "markdown",
     "metadata": {},
     "source": [
      "Check point 2\n",
      "= \n",
      "Project 2: Subscribe to the PolyLearn Help Forum for Project 2. Now that you have the CA184 ruleset implemented, you can edit it slightly to also give you the STCA ruleset. Test that it works with a road and some cars. Now implement the ASEP algorithm and create a function that will let you call it in the same way as the others - pass it an array of positions and velocities for the cars and the road length. Have it return the new positions/velocities after one time step. Test it the same way you tested your other functions to make sure it\n",
      "is working. Now create a program that will allow you to create the initial conditions for each model and call the functions N times each for those initial conditions. Compute the\n",
      "density of cars and the average velocity at each time step. Plot the current vs time and car position vs. time for each case. Now you are ready to explore current as a function of density. Create road/car pairs for 80 density values between 0 and 0.8. Make sure your road is long enough to have at least 10 cars on it in each case. Run the simulation for 150 time steps and plot the average velocity vs. density for each ruleset. Identify any phase transitions."
     ]
    },
    {
     "cell_type": "code",
     "collapsed": false,
     "input": [
      "def STCA(x_v,cars_number,R_L,V_maximum,Slowdown_Probability): # STCA Function , which is virtualy the same as CA184 with the exception of few modifications.\n",
      "    \n",
      "    for q in range(cars_number): # set all conditions for all possible cases of empty sites for  g \n",
      "        if q<(cars_number-1): # amount of \"spots\"in between two cars where none of the cars stand at last position within array\n",
      "            if x_v[0][q+1] > x_v[0][q]: # if next car is in a position a head of another one\n",
      "                g = x_v[0][q+1]-x_v[0][q]-1 # spots between them\n",
      "            else:# g for car in last spot\n",
      "                g = (R_L-x_v[0][q])+(x_v[0][q+1]-1)\n",
      "        else:# g for the last car which needs to return back to start of the road\n",
      "            if x_v[0][1]>x_v[0][q]: # essentially  the car in last spot will to go to start\n",
      "                g = x_v[0][1]-x_v[0][q]-1 # calculates difference between last spot to to the second which should essentially loop the car to go to the beginning of the road.\n",
      "            else:\n",
      "                g =(R_L-x_v[0][q])+(x_v[0][1]-1)\n",
      "        if g ==0: # Rule set\n",
      "            x_v[1][q] = 0\n",
      "        elif g > x_v[1][q] and x_v[1][q] < V_maximum: \n",
      "            x_v[1][q] = x_v[1][q]+1 \n",
      "        elif g<x_v[1][q]: \n",
      "            x_v[1][q]=g\n",
      "        if random_sample(1)<Slowdown_Probability and x_v[1]>0: # essentially it says when the cars are moving , allow a random slow down when our chosen probability value is greater than the random probability given from random_sample\n",
      "            x_v[1]=x_v[1]-1\n",
      "    for q in range(cars_number): \n",
      "        if x_v[0][q]+x_v[1][q]<=R_L: \n",
      "            x_v[0][q]=x_v[0][q]+x_v[1][q]\n",
      "        else:\n",
      "            x_v[0][q]=x_v[1][q]-(R_L-x_v[0][q]) \n",
      "    \n",
      "    return x_v"
     ],
     "language": "python",
     "metadata": {},
     "outputs": [],
     "prompt_number": 161
    },
    {
     "cell_type": "code",
     "collapsed": false,
     "input": [
      "\"\"\" Test Case for STCA\"\"\"\n",
      "STCA(x_v,5,40,10,0.)"
     ],
     "language": "python",
     "metadata": {},
     "outputs": [
      {
       "output_type": "pyout",
       "prompt_number": 162,
       "text": [
        "array([[ 18.,  23.,  36.,  40.,   5.],\n",
        "       [  3.,   4.,   6.,   3.,   4.]])"
       ]
      }
     ],
     "prompt_number": 162
    },
    {
     "cell_type": "code",
     "collapsed": false,
     "input": [
      "STCA(x_v,5,40,10,0.1)"
     ],
     "language": "python",
     "metadata": {},
     "outputs": [
      {
       "output_type": "pyout",
       "prompt_number": 169,
       "text": [
        "array([[ 22.,  30.,  39.,   4.,  11.],\n",
        "       [  4.,   7.,   3.,   4.,   6.]])"
       ]
      }
     ],
     "prompt_number": 169
    },
    {
     "cell_type": "code",
     "collapsed": false,
     "input": [
      "STCA(x_v,5,40,10,0.11)"
     ],
     "language": "python",
     "metadata": {},
     "outputs": [
      {
       "output_type": "pyout",
       "prompt_number": 170,
       "text": [
        "array([[ 27.,  38.,   3.,   9.,  18.],\n",
        "       [  5.,   8.,   4.,   5.,   7.]])"
       ]
      }
     ],
     "prompt_number": 170
    },
    {
     "cell_type": "code",
     "collapsed": false,
     "input": [
      "STCA(x_v,5,40,10,0.15)"
     ],
     "language": "python",
     "metadata": {},
     "outputs": [
      {
       "output_type": "pyout",
       "prompt_number": 172,
       "text": [
        "array([[ 34.,   2.,   8.,  15.,  26.],\n",
        "       [  7.,   4.,   5.,   6.,   8.]])"
       ]
      }
     ],
     "prompt_number": 172
    },
    {
     "cell_type": "code",
     "collapsed": false,
     "input": [
      "def ASEP(x_v,cars_number,R_L,V_maximum): # This function will return a new positions and velocities array yet with an addition condition of picking one random car, as described by ASEP\n",
      "    new_carnumber = range(cars_number)\n",
      "    shuffle(new_carnumber) # randomizing our cars\n",
      "    \n",
      "    for n in range(len(new_carnumber)): # set all conditions for all possible cases of empty sites for  g \n",
      "        q = new_carnumber[n]  # picking one random car\n",
      "        if q<(cars_number-1): # amount of \"spots\"in between two cars where none of the cars stand at last position within array\n",
      "            if x_v[0][q+1] > x_v[0][q]: # if next car is in a position a head of another one\n",
      "                g = x_v[0][q+1]-x_v[0][q]-1 # spots between them\n",
      "            else:# g for car in last spot\n",
      "                g = (R_L-x_v[0][q])+(x_v[0][q+1]-1)\n",
      "        else:# g for the last car which needs to return back to start of the road\n",
      "            if x_v[0][1]>x_v[0][q]: # essentially  the car in last spot will to go to start\n",
      "                g = x_v[0][1]-x_v[0][q]-1 # calculates difference between last spot to to the second which should essentially loop the car to go to the beginning of the road.\n",
      "            else:\n",
      "                g =(R_L-x_v[0][q])+(x_v[0][1]-1)\n",
      "        if g ==0: # rule 2\n",
      "            x_v[1][q] = 0\n",
      "        elif g > x_v[1][q] and x_v[1][q] < V_maximum: # rule 4\n",
      "            x_v[1][q] = x_v[1][q]+1 \n",
      "        elif g<x_v[1][q]: # rule 3\n",
      "            x_v[1][q]=g\n",
      "    for q in range(cars_number): # rule 6 , allowing all cars to move forward\n",
      "        if x_v[0][q]+x_v[1][q]<=R_L: \n",
      "            x_v[0][q]=x_v[0][q]+x_v[1][q]\n",
      "        else:\n",
      "            x_v[0][q]=x_v[1][q]-(R_L-x_v[0][q]) # the application of rule 6 to the last car case.\n",
      "    \n",
      "    return x_v"
     ],
     "language": "python",
     "metadata": {},
     "outputs": [],
     "prompt_number": 175
    },
    {
     "cell_type": "code",
     "collapsed": false,
     "input": [
      "ASEP(x_v,5,40,10)"
     ],
     "language": "python",
     "metadata": {},
     "outputs": [
      {
       "output_type": "pyout",
       "prompt_number": 176,
       "text": [
        "array([[  1.,   7.,  14.,  22.,  35.],\n",
        "       [  7.,   5.,   6.,   7.,   9.]])"
       ]
      }
     ],
     "prompt_number": 176
    },
    {
     "cell_type": "code",
     "collapsed": false,
     "input": [
      "ASEP(x_v,5,40,8)"
     ],
     "language": "python",
     "metadata": {},
     "outputs": [
      {
       "output_type": "pyout",
       "prompt_number": 177,
       "text": [
        "array([[  6.,  13.,  21.,  30.,   4.],\n",
        "       [  5.,   6.,   7.,   8.,   9.]])"
       ]
      }
     ],
     "prompt_number": 177
    },
    {
     "cell_type": "code",
     "collapsed": false,
     "input": [
      "ASEP(x_v,5,40,5)"
     ],
     "language": "python",
     "metadata": {},
     "outputs": [
      {
       "output_type": "pyout",
       "prompt_number": 178,
       "text": [
        "array([[ 11.,  19.,  28.,  38.,  12.],\n",
        "       [  5.,   6.,   7.,   8.,   8.]])"
       ]
      }
     ],
     "prompt_number": 178
    },
    {
     "cell_type": "code",
     "collapsed": false,
     "input": [],
     "language": "python",
     "metadata": {},
     "outputs": []
    }
   ],
   "metadata": {}
  }
 ]
}