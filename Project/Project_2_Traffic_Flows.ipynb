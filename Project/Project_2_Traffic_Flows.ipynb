{
 "metadata": {
  "name": "Project_2_Traffic_Flows"
 },
 "nbformat": 3,
 "nbformat_minor": 0,
 "worksheets": [
  {
   "cells": [
    {
     "cell_type": "markdown",
     "metadata": {},
     "source": [
      "Project 2: One-dimensional tra\u000effic flows\n",
      "==\n",
      "Date: 5/15/13\n",
      "=\n",
      "Dan Gelfer\n",
      "="
     ]
    },
    {
     "cell_type": "markdown",
     "metadata": {},
     "source": [
      "Checkpoint 1\n",
      "=\n",
      "Create a function called CA184 that takes an array of car positions and veloc-\n",
      "ities along with the road length as arguments. The function should implement the CA184\n",
      "ruleset for the cars and return the array with the new positions and velocities of the cars\n",
      "after one time step. Now test your function. Start with a road of length 40 and 5 cars.\n",
      "Generate a random integer starting location xi and velocity vi for each car and store it in\n",
      "an array that you can pass into your CA184 function. Print the values for xi\n",
      ", vi\n",
      ", gi before\n",
      "and after the function is called. Verify by hand that the function has worked as expected.\n",
      "Try a few more time steps just to be sure."
     ]
    },
    {
     "cell_type": "code",
     "collapsed": false,
     "input": [
      "import numpy as np\n",
      "import random\n"
     ],
     "language": "python",
     "metadata": {},
     "outputs": [],
     "prompt_number": 30
    },
    {
     "cell_type": "code",
     "collapsed": false,
     "input": [
      "# function for obtainning positions of cars\n",
      "def pos(cars_number,R_L):\n",
      "    pos = np.arange(1,R_L)\n",
      "    shuffle(pos)\n",
      "    return sort(pos[:cars_number]) # relative to car values\n",
      "pos(5,40) #position of 5 cars in road length of 40"
     ],
     "language": "python",
     "metadata": {},
     "outputs": [
      {
       "output_type": "pyout",
       "prompt_number": 39,
       "text": [
        "array([ 7, 13, 18, 26, 33])"
       ]
      }
     ],
     "prompt_number": 39
    },
    {
     "cell_type": "code",
     "collapsed": false,
     "input": [
      "# function for velocities \n",
      "\n",
      "def vel(cars_number, V_maximum):\n",
      "    v = np.array([]) # empty array for velocities\n",
      "    for j in range(cars_number):\n",
      "        v = np.append(v,random.randint(0,V_maximum))\n",
      "    return v\n",
      "\n",
      "#vel(2,5)\n",
      "#vel(3,5)\n",
      "vel(5,5) #  an array of random velocities of 4 cars \n",
      "\n",
      "\n"
     ],
     "language": "python",
     "metadata": {},
     "outputs": [
      {
       "output_type": "pyout",
       "prompt_number": 40,
       "text": [
        "array([ 1.,  5.,  2.,  5.,  0.])"
       ]
      }
     ],
     "prompt_number": 40
    },
    {
     "cell_type": "code",
     "collapsed": false,
     "input": [
      "# this array is an array of both car positions and velocities)\n",
      "x_v = np.array([pos(5,40),vel(5,5)])\n",
      "x_v\n"
     ],
     "language": "python",
     "metadata": {},
     "outputs": [
      {
       "output_type": "pyout",
       "prompt_number": 41,
       "text": [
        "array([[  5.,  24.,  30.,  34.,  38.],\n",
        "       [  0.,   3.,   1.,   4.,   2.]])"
       ]
      }
     ],
     "prompt_number": 41
    },
    {
     "cell_type": "code",
     "collapsed": false,
     "input": [
      "print x_v[0,0] # useful indexing which allows to call on elements from either the postion or velocity array within \n",
      "print x_v[0,1]\n",
      "print x_v[1,0]\n",
      "print x_v[1,1]\n"
     ],
     "language": "python",
     "metadata": {},
     "outputs": [
      {
       "output_type": "stream",
       "stream": "stdout",
       "text": [
        "5.0\n",
        "24.0\n",
        "0.0\n",
        "3.0\n"
       ]
      }
     ],
     "prompt_number": 42
    },
    {
     "cell_type": "code",
     "collapsed": false,
     "input": [
      "def CA184(x_v,cars_number,R_L,V_maximum): # CA184 Function\n",
      "    \n",
      "    for q in range(cars_number): # set all conditions for all possible cases of empty sites for  g \n",
      "        if q<(cars_number-1): # amount of \"spots\"in between two cars where none of the cars stand at last position within array\n",
      "            if x_v[0][q+1] > x_v[0][q]: # if next car is in a position a head of another one\n",
      "                g = x_v[0][q+1]-x_v[0][q]-1 # spots between them\n",
      "            else:# g for car in last spot\n",
      "                g = (R_L-x_v[0][q])+(x_v[0][q+1]-1)\n",
      "        else:# g for the last car which needs to return back to start of the road\n",
      "            if x_v[0][1]>x_v[0][q]: # essentially  the car in last spot will to go to start\n",
      "                g = x_v[0][1]-x_v[0][q]-1 # calculates difference between last spot to to the second which should essentially loop the car to go to the beginning of the road.\n",
      "            else:\n",
      "                g =(R_L-x_v[0][q])+(x_v[0][1]-1)\n",
      "        if g ==0: # rule 2\n",
      "            x_v[1][q] = 0\n",
      "        elif g > x_v[1][q] and x_v[1][q] < V_maximum: # rule 4\n",
      "            x_v[1][q] = x_v[1][q]+1 \n",
      "        elif g<x_v[1][q]: # rule 3\n",
      "            x_v[1][q]=g\n",
      "    for q in range(cars_number): # rule 6 , allowing all cars to move forward\n",
      "        if x_v[0][q]+x_v[1][q]<=R_L: \n",
      "            x_v[0][q]=x_v[0][q]+x_v[1][q]\n",
      "        else:\n",
      "            x_v[0][q]=x_v[1][q]-(R_L-x_v[0][q]) # the application of rule 6 to the last car case.\n",
      "    \n",
      "    return x_v    \n",
      "            \n"
     ],
     "language": "python",
     "metadata": {},
     "outputs": [],
     "prompt_number": 43
    },
    {
     "cell_type": "code",
     "collapsed": false,
     "input": [
      "\"\"\" Test Cases\"\"\"\n",
      "CA184(x_v,5,40,10)\n"
     ],
     "language": "python",
     "metadata": {},
     "outputs": [
      {
       "output_type": "pyout",
       "prompt_number": 44,
       "text": [
        "array([[  6.,  28.,  32.,  37.,   1.],\n",
        "       [  1.,   4.,   2.,   3.,   3.]])"
       ]
      }
     ],
     "prompt_number": 44
    },
    {
     "cell_type": "code",
     "collapsed": false,
     "input": [
      "CA184(x_v,5,40,10)"
     ],
     "language": "python",
     "metadata": {},
     "outputs": [
      {
       "output_type": "pyout",
       "prompt_number": 45,
       "text": [
        "array([[  8.,  31.,  35.,  40.,   5.],\n",
        "       [  2.,   3.,   3.,   3.,   4.]])"
       ]
      }
     ],
     "prompt_number": 45
    },
    {
     "cell_type": "code",
     "collapsed": false,
     "input": [
      "CA184(x_v,5,40,10)"
     ],
     "language": "python",
     "metadata": {},
     "outputs": [
      {
       "output_type": "pyout",
       "prompt_number": 46,
       "text": [
        "array([[ 11.,  34.,  39.,   4.,  10.],\n",
        "       [  3.,   3.,   4.,   4.,   5.]])"
       ]
      }
     ],
     "prompt_number": 46
    },
    {
     "cell_type": "code",
     "collapsed": false,
     "input": [
      "Check point 2:"
     ],
     "language": "python",
     "metadata": {},
     "outputs": [],
     "prompt_number": 46
    },
    {
     "cell_type": "code",
     "collapsed": false,
     "input": [],
     "language": "python",
     "metadata": {},
     "outputs": [],
     "prompt_number": 46
    },
    {
     "cell_type": "code",
     "collapsed": false,
     "input": [],
     "language": "python",
     "metadata": {},
     "outputs": [],
     "prompt_number": 46
    },
    {
     "cell_type": "code",
     "collapsed": false,
     "input": [],
     "language": "python",
     "metadata": {},
     "outputs": []
    }
   ],
   "metadata": {}
  }
 ]
}