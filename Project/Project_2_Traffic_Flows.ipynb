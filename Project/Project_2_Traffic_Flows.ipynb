{
 "metadata": {
  "name": "Project_2_Traffic_Flows"
 },
 "nbformat": 3,
 "nbformat_minor": 0,
 "worksheets": [
  {
   "cells": [
    {
     "cell_type": "markdown",
     "metadata": {},
     "source": [
      "Project 2: One-dimensional tra\u000effic flows\n",
      "==\n",
      "Date: 5/15/13\n",
      "=\n",
      "Dan Gelfer\n",
      "="
     ]
    },
    {
     "cell_type": "markdown",
     "metadata": {},
     "source": [
      "Checkpoint 1\n",
      "=\n",
      "Create a function called CA184 that takes an array of car positions and veloc-\n",
      "ities along with the road length as arguments. The function should implement the CA184\n",
      "ruleset for the cars and return the array with the new positions and velocities of the cars\n",
      "after one time step. Now test your function. Start with a road of length 40 and 5 cars.\n",
      "Generate a random integer starting location xi and velocity vi for each car and store it in\n",
      "an array that you can pass into your CA184 function. Print the values for xi\n",
      ", vi\n",
      ", gi before\n",
      "and after the function is called. Verify by hand that the function has worked as expected.\n",
      "Try a few more time steps just to be sure."
     ]
    },
    {
     "cell_type": "code",
     "collapsed": false,
     "input": [
      "import numpy as np\n",
      "import random\n"
     ],
     "language": "python",
     "metadata": {},
     "outputs": [],
     "prompt_number": 54
    },
    {
     "cell_type": "code",
     "collapsed": false,
     "input": [
      "# function for obtainning positions of cars\n",
      "def pos(cars_number,road_length):\n",
      "    pos = np.arange(1,road_length)\n",
      "    shuffle(pos)\n",
      "    return sort(pos[:cars_number]) # relative to car values\n",
      "pos(5,40) #position of 5 cars in road length of 40"
     ],
     "language": "python",
     "metadata": {},
     "outputs": [
      {
       "output_type": "pyout",
       "prompt_number": 55,
       "text": [
        "array([17, 20, 33, 37, 38])"
       ]
      }
     ],
     "prompt_number": 55
    },
    {
     "cell_type": "code",
     "collapsed": false,
     "input": [
      "# function for velocities \n",
      "\n",
      "def vel(cars_number, V_maximum):\n",
      "    v = np.array([]) # empty array for velocities\n",
      "    for j in range(cars_number):\n",
      "        v = np.append(v,random.randint(0,V_maximum))\n",
      "    return v\n",
      "\n",
      "#vel(2,5)\n",
      "#vel(3,5)\n",
      "vel(5,5) #  an array of random velocities of 4 cars \n",
      "\n",
      "\n"
     ],
     "language": "python",
     "metadata": {},
     "outputs": [
      {
       "output_type": "pyout",
       "prompt_number": 56,
       "text": [
        "array([ 4.,  4.,  1.,  2.,  4.])"
       ]
      }
     ],
     "prompt_number": 56
    },
    {
     "cell_type": "code",
     "collapsed": false,
     "input": [
      "# this array is an array of both car positions and velocities)\n",
      "x_v = np.array([pos(5,40),vel(5,5)])\n",
      "x_v\n"
     ],
     "language": "python",
     "metadata": {},
     "outputs": [
      {
       "output_type": "pyout",
       "prompt_number": 57,
       "text": [
        "array([[  8.,  10.,  11.,  21.,  39.],\n",
        "       [  3.,   2.,   3.,   2.,   0.]])"
       ]
      }
     ],
     "prompt_number": 57
    },
    {
     "cell_type": "code",
     "collapsed": false,
     "input": [
      "print x_v[0,0] # useful indexing which allows to call on elements from either the postion or velocity array within \n",
      "print x_v[0,1]\n",
      "print x_v[1,0]\n",
      "print x_v[1,1]\n"
     ],
     "language": "python",
     "metadata": {},
     "outputs": [
      {
       "output_type": "stream",
       "stream": "stdout",
       "text": [
        "8.0"
       ]
      },
      {
       "output_type": "stream",
       "stream": "stdout",
       "text": [
        "\n",
        "10.0\n",
        "3.0\n",
        "2.0\n"
       ]
      }
     ],
     "prompt_number": 58
    },
    {
     "cell_type": "code",
     "collapsed": false,
     "input": [
      "def CA184(x_v,cars_number,road_length,V_maximum): # CA184 Function\n",
      "    for q in range(cars_number): # set all conditions for all possible cases of empty sites for  g \n",
      "        if q<(cars_number-1): # amount of \"spots\"in between two cars where none of the cars stand at last position within array\n",
      "            if x_v[0][q+1]>x_v[0][q]: # if next car is in a position a head of another one\n",
      "                g = x_v[0][q+1]-x_v[0][q]-1 # spots between them\n",
      "            else:# g for car in last spot\n",
      "                g = (road_length-x_v[0][q])+(x_v[0][q+1]-1)\n",
      "        else:# g for the last car which needs to return back to start of the road\n",
      "            if x_v[0][1]>x_v[0][q]: # essentially  the car in last spot will to go to start\n",
      "                g = x_v[0][1]-x_v[0][q]-1 # calculates difference between last spot to to the second which should essentially loop the car to go to the beginning of the road.\n",
      "            else:\n",
      "                g =(L-x_v[0][q])+(x_v[0][1]-1)\n",
      "        if g ==0: # rule 2\n",
      "           x_v[1][q] = 0\n",
      "        elif g>x_v[1][q] and x_v[1][q]<V_maxium: # rule 4\n",
      "             x_v[1][q] = x_v[1][q]+1 \n",
      "        elif g<x_v[1][q]: # rule 3\n",
      "             x_v[1][q]=g\n",
      "    for q in range(cars_number): # rule 6 , allowing all cars to move forward\n",
      "       if x_v[0][q]+x_v[1][q]<=road_length: \n",
      "           x_v[0][q]=x_v[0][q]+x_v[1][q]\n",
      "       else:\n",
      "           x_v[0][i]=x_v[1][q]-(L-x_v[0][q])\n",
      "    \n",
      "    return x_v    \n",
      "            \n"
     ],
     "language": "python",
     "metadata": {},
     "outputs": [],
     "prompt_number": 59
    },
    {
     "cell_type": "code",
     "collapsed": false,
     "input": [
      "#CA184(np.array([pos(5,40),vel(5,5)]),5,40,5)\n",
      "\"\"\" I'm not sure why my test case is not working.Perhaps we can meet in office hours. I have created a postion and velcoity array as well as a functio\n",
      "CA184 that monitors all the movement conditions of the cars on the road\"\"\""
     ],
     "language": "python",
     "metadata": {},
     "outputs": [
      {
       "ename": "NameError",
       "evalue": "global name 'V_maxium' is not defined",
       "output_type": "pyerr",
       "traceback": [
        "\u001b[0;31m---------------------------------------------------------------------------\u001b[0m\n\u001b[0;31mNameError\u001b[0m                                 Traceback (most recent call last)",
        "\u001b[0;32m<ipython-input-60-a8d0b99aebbd>\u001b[0m in \u001b[0;36m<module>\u001b[0;34m()\u001b[0m\n\u001b[0;32m----> 1\u001b[0;31m \u001b[0mCA184\u001b[0m\u001b[0;34m(\u001b[0m\u001b[0mnp\u001b[0m\u001b[0;34m.\u001b[0m\u001b[0marray\u001b[0m\u001b[0;34m(\u001b[0m\u001b[0;34m[\u001b[0m\u001b[0mpos\u001b[0m\u001b[0;34m(\u001b[0m\u001b[0;36m5\u001b[0m\u001b[0;34m,\u001b[0m\u001b[0;36m40\u001b[0m\u001b[0;34m)\u001b[0m\u001b[0;34m,\u001b[0m\u001b[0mvel\u001b[0m\u001b[0;34m(\u001b[0m\u001b[0;36m5\u001b[0m\u001b[0;34m,\u001b[0m\u001b[0;36m5\u001b[0m\u001b[0;34m)\u001b[0m\u001b[0;34m]\u001b[0m\u001b[0;34m)\u001b[0m\u001b[0;34m,\u001b[0m\u001b[0;36m5\u001b[0m\u001b[0;34m,\u001b[0m\u001b[0;36m40\u001b[0m\u001b[0;34m,\u001b[0m\u001b[0;36m5\u001b[0m\u001b[0;34m)\u001b[0m\u001b[0;34m\u001b[0m\u001b[0m\n\u001b[0m",
        "\u001b[0;32m<ipython-input-59-cb30ebe57fb5>\u001b[0m in \u001b[0;36mCA184\u001b[0;34m(x_v, cars_number, road_length, V_maximum)\u001b[0m\n\u001b[1;32m     13\u001b[0m         \u001b[0;32mif\u001b[0m \u001b[0mg\u001b[0m \u001b[0;34m==\u001b[0m\u001b[0;36m0\u001b[0m\u001b[0;34m:\u001b[0m \u001b[0;31m# rule 2\u001b[0m\u001b[0;34m\u001b[0m\u001b[0m\n\u001b[1;32m     14\u001b[0m            \u001b[0mx_v\u001b[0m\u001b[0;34m[\u001b[0m\u001b[0;36m1\u001b[0m\u001b[0;34m]\u001b[0m\u001b[0;34m[\u001b[0m\u001b[0mq\u001b[0m\u001b[0;34m]\u001b[0m \u001b[0;34m=\u001b[0m \u001b[0;36m0\u001b[0m\u001b[0;34m\u001b[0m\u001b[0m\n\u001b[0;32m---> 15\u001b[0;31m         \u001b[0;32melif\u001b[0m \u001b[0mg\u001b[0m\u001b[0;34m>\u001b[0m\u001b[0mx_v\u001b[0m\u001b[0;34m[\u001b[0m\u001b[0;36m1\u001b[0m\u001b[0;34m]\u001b[0m\u001b[0;34m[\u001b[0m\u001b[0mq\u001b[0m\u001b[0;34m]\u001b[0m \u001b[0;32mand\u001b[0m \u001b[0mx_v\u001b[0m\u001b[0;34m[\u001b[0m\u001b[0;36m1\u001b[0m\u001b[0;34m]\u001b[0m\u001b[0;34m[\u001b[0m\u001b[0mq\u001b[0m\u001b[0;34m]\u001b[0m\u001b[0;34m<\u001b[0m\u001b[0mV_maxium\u001b[0m\u001b[0;34m:\u001b[0m \u001b[0;31m# rule 4\u001b[0m\u001b[0;34m\u001b[0m\u001b[0m\n\u001b[0m\u001b[1;32m     16\u001b[0m              \u001b[0mx_v\u001b[0m\u001b[0;34m[\u001b[0m\u001b[0;36m1\u001b[0m\u001b[0;34m]\u001b[0m\u001b[0;34m[\u001b[0m\u001b[0mq\u001b[0m\u001b[0;34m]\u001b[0m \u001b[0;34m=\u001b[0m \u001b[0mx_v\u001b[0m\u001b[0;34m[\u001b[0m\u001b[0;36m1\u001b[0m\u001b[0;34m]\u001b[0m\u001b[0;34m[\u001b[0m\u001b[0mq\u001b[0m\u001b[0;34m]\u001b[0m\u001b[0;34m+\u001b[0m\u001b[0;36m1\u001b[0m\u001b[0;34m\u001b[0m\u001b[0m\n\u001b[1;32m     17\u001b[0m         \u001b[0;32melif\u001b[0m \u001b[0mg\u001b[0m\u001b[0;34m<\u001b[0m\u001b[0mx_v\u001b[0m\u001b[0;34m[\u001b[0m\u001b[0;36m1\u001b[0m\u001b[0;34m]\u001b[0m\u001b[0;34m[\u001b[0m\u001b[0mq\u001b[0m\u001b[0;34m]\u001b[0m\u001b[0;34m:\u001b[0m \u001b[0;31m# rule 3\u001b[0m\u001b[0;34m\u001b[0m\u001b[0m\n",
        "\u001b[0;31mNameError\u001b[0m: global name 'V_maxium' is not defined"
       ]
      }
     ],
     "prompt_number": 60
    },
    {
     "cell_type": "code",
     "collapsed": false,
     "input": [],
     "language": "python",
     "metadata": {},
     "outputs": [],
     "prompt_number": 60
    },
    {
     "cell_type": "code",
     "collapsed": false,
     "input": [],
     "language": "python",
     "metadata": {},
     "outputs": [],
     "prompt_number": 60
    },
    {
     "cell_type": "code",
     "collapsed": false,
     "input": [],
     "language": "python",
     "metadata": {},
     "outputs": []
    }
   ],
   "metadata": {}
  }
 ]
}