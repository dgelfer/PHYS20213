{
 "metadata": {
  "name": "Project_2_Traffic_Flows"
 },
 "nbformat": 3,
 "nbformat_minor": 0,
 "worksheets": [
  {
   "cells": [
    {
     "cell_type": "markdown",
     "metadata": {},
     "source": [
      "Project 2: One-dimensional tra\u000effic flows\n",
      "==\n",
      "Date: 5/15/13\n",
      "=\n",
      "Dan Gelfer\n",
      "="
     ]
    },
    {
     "cell_type": "markdown",
     "metadata": {},
     "source": [
      "\n",
      "Description/Abstract:\n",
      "\n",
      "This porject essentially illustrates one dimensional trafic flow of set amount of cars and length of a road. The behavior of the car's positions and velocities on the road are bounded by rules set by ASEP and STCA (includes CA184 rules within it).\n",
      "\n",
      "STCA conditions/Rules are: \n",
      "1. Let gi equal the number of empty sites in front of each car.\n",
      "\n",
      "2. If gi = 0, that car does not move during this time step.\n",
      "\n",
      "3. If vi > gi, slow down to vi = gi.\n",
      "\n",
      "4. If vi < gi and vi < vmax, speed up by one unit: vi = vi + 1.\n",
      "\n",
      "5. For vi > 0, allow for random slowdowns by letting vi = vi  1 with probability p.\n",
      "6. Move all cars forward by vi.\n",
      "\n",
      "ASEP conditions/Rules are:\n",
      "1. Pick one car at random.\n",
      "\n",
      "2. Let gi equal the number of empty sites in front of this car.\n",
      "\n",
      "3. If gi = 0, that car does not move during this time step.\n",
      "\n",
      "4. If vi > gi,slow down to vi = gi.\n",
      "\n",
      "5. If vi < gi and vi < vmax, speed up by one unit: vi = vi + 1.\n",
      "\n",
      "6. Move this car forward by vi.\n",
      "\n",
      "From obtaining and running such models, traffic flow denisty and current could be examined as well as the relationship between them. In order to visualize the project, a visual animation will be included in order to determine the models effects on traffic density and currrent through the programs user base manipulation/control.   "
     ]
    },
    {
     "cell_type": "markdown",
     "metadata": {},
     "source": [
      "Checkpoint 1\n",
      "=\n",
      "Create a function called CA184 that takes an array of car positions and veloc-\n",
      "ities along with the road length as arguments. The function should implement the CA184\n",
      "ruleset for the cars and return the array with the new positions and velocities of the cars\n",
      "after one time step. Now test your function. Start with a road of length 40 and 5 cars.\n",
      "Generate a random integer starting location xi and velocity vi for each car and store it in\n",
      "an array that you can pass into your CA184 function. Print the values for xi\n",
      ", vi\n",
      ", gi before\n",
      "and after the function is called. Verify by hand that the function has worked as expected.\n",
      "Try a few more time steps just to be sure."
     ]
    },
    {
     "cell_type": "code",
     "collapsed": false,
     "input": [
      "import numpy as np\n",
      "import random\n"
     ],
     "language": "python",
     "metadata": {},
     "outputs": [],
     "prompt_number": 168
    },
    {
     "cell_type": "markdown",
     "metadata": {},
     "source": [
      "I created a position array that will provide the cars chronological yet random position on the road."
     ]
    },
    {
     "cell_type": "code",
     "collapsed": false,
     "input": [
      "# function for obtainning positions of cars\n",
      "def pos(cars_number,R_L):\n",
      "    pos = np.arange(1,R_L)\n",
      "    shuffle(pos)\n",
      "    return sort(pos[:cars_number]) # relative to car values\n",
      "pos(5,40) #position of 5 cars in road length of 40"
     ],
     "language": "python",
     "metadata": {},
     "outputs": [
      {
       "output_type": "pyout",
       "prompt_number": 169,
       "text": [
        "array([ 9, 11, 14, 23, 33])"
       ]
      }
     ],
     "prompt_number": 169
    },
    {
     "cell_type": "markdown",
     "metadata": {},
     "source": [
      "Here, I created a velciity array that will assess the cars speed ( how many steps is the car taking at a certain instant)"
     ]
    },
    {
     "cell_type": "code",
     "collapsed": false,
     "input": [
      "# function for velocities \n",
      "\n",
      "def vel(cars_number, V_maximum):\n",
      "    v = np.array([]) # empty array for velocities\n",
      "    for j in range(cars_number):\n",
      "        v = np.append(v,random.randint(0,V_maximum))\n",
      "    return v\n",
      "\n",
      "#vel(2,5)\n",
      "#vel(3,5)\n",
      "vel(5,5) #  an array of random velocities of 4 cars \n",
      "\n",
      "\n"
     ],
     "language": "python",
     "metadata": {},
     "outputs": [
      {
       "output_type": "pyout",
       "prompt_number": 170,
       "text": [
        "array([ 4.,  5.,  1.,  4.,  2.])"
       ]
      }
     ],
     "prompt_number": 170
    },
    {
     "cell_type": "markdown",
     "metadata": {},
     "source": [
      "Now for this function I will combine both my velocity and position arrays of which I will be able to call on for the upcoming models."
     ]
    },
    {
     "cell_type": "code",
     "collapsed": false,
     "input": [
      "def X_V(cars_number,R_L,V_maximum):\n",
      "    x_v = np.array([pos(5,40),vel(5,5)])\n",
      "    return x_v"
     ],
     "language": "python",
     "metadata": {},
     "outputs": [],
     "prompt_number": 171
    },
    {
     "cell_type": "code",
     "collapsed": false,
     "input": [
      "X_V(3,35,3)"
     ],
     "language": "python",
     "metadata": {},
     "outputs": [
      {
       "output_type": "pyout",
       "prompt_number": 172,
       "text": [
        "array([[  7.,   9.,  16.,  32.,  35.],\n",
        "       [  3.,   4.,   3.,   0.,   0.]])"
       ]
      }
     ],
     "prompt_number": 172
    },
    {
     "cell_type": "code",
     "collapsed": false,
     "input": [
      "#x_v = np.array([pos(5,40),vel(5,5)])\n",
      "#print x_v[0,0] # useful indexing which allows to call on elements from either the postion or velocity array within \n",
      "#print x_v[0,1]\n",
      "#print x_v[1,0]\n",
      "#print x_v[1,1]\n"
     ],
     "language": "python",
     "metadata": {},
     "outputs": [],
     "prompt_number": 173
    },
    {
     "cell_type": "markdown",
     "metadata": {},
     "source": [
      "Here I am creating the CA184 function which essentially includes all the STCA rules with the exception that there is zero probability for random slow down."
     ]
    },
    {
     "cell_type": "code",
     "collapsed": false,
     "input": [
      "def CA184(x_v,cars_number,R_L,V_maximum): # CA184 Function\n",
      "    \"\"\"Function returns new x_v array based upon the rule set of CA184\"\"\"\n",
      "    for q in range(cars_number): # set all conditions for all possible cases of empty sites for  g \n",
      "        if q<(cars_number-1): # amount of \"spots\"in between two cars where none of the cars stand at last position within array\n",
      "            if x_v[0][q+!] > x_v[0][q]: # if next car is in a position a head of another one\n",
      "                g = x_v[0][q+1]-x_v[0][q]-1 # spots between them\n",
      "            else:# g for car in last spot\n",
      "                g = (R_L-x_v[0][q])+(x_v[0][q+1]-1)\n",
      "        else:# g for the last car which needs to return back to start of the road\n",
      "            if x_v[0][1]>x_v[0][q]: # essentially  the car in last spot will to go to start\n",
      "                g = x_v[0][1]-x_v[0][q]-1 # calculates difference between last spot to to the second which should essentially loop the car to go to the beginning of the road.\n",
      "            else:\n",
      "                g =(R_L-x_v[0][q])+(x_v[0][1]-1)\n",
      "        if g ==0: # rule 2\n",
      "            x_v[1][q] = 0\n",
      "        elif g > x_v[1][q] and x_v[1][q] < V_maximum: # rule 4\n",
      "            x_v[1][q] = x_v[1][q]+1 \n",
      "        elif g<x_v[1][q]: # rule 3\n",
      "            x_v[1][q]=g\n",
      "    for q in range(cars_number): # rule 6 , allowing all cars to move forward\n",
      "        if x_v[0][q]+x_v[1][q]<=R_L: \n",
      "            x_v[0][q]=x_v[0][q]+x_v[1][q]\n",
      "        else:\n",
      "            x_v[0][q]=x_v[1][q]-(R_L-x_v[0][q]) # the application of rule 6 to the last car case.\n",
      "    \n",
      "    return x_v    \n",
      "            \n"
     ],
     "language": "python",
     "metadata": {},
     "outputs": [
      {
       "ename": "SyntaxError",
       "evalue": "invalid syntax (<ipython-input-174-151ca3409171>, line 5)",
       "output_type": "pyerr",
       "traceback": [
        "\u001b[0;36m  File \u001b[0;32m\"<ipython-input-174-151ca3409171>\"\u001b[0;36m, line \u001b[0;32m5\u001b[0m\n\u001b[0;31m    if x_v[0][q+!] > x_v[0][q]: # if next car is in a position a head of another one\u001b[0m\n\u001b[0m                ^\u001b[0m\n\u001b[0;31mSyntaxError\u001b[0m\u001b[0;31m:\u001b[0m invalid syntax\n"
       ]
      }
     ],
     "prompt_number": 174
    },
    {
     "cell_type": "code",
     "collapsed": false,
     "input": [
      "\"\"\" Test Cases\"\"\"\n",
      "F = X_V(5,40,10)"
     ],
     "language": "python",
     "metadata": {},
     "outputs": [],
     "prompt_number": 175
    },
    {
     "cell_type": "code",
     "collapsed": false,
     "input": [
      "\n",
      "CA184(F,5,40,10)\n"
     ],
     "language": "python",
     "metadata": {},
     "outputs": [
      {
       "output_type": "pyout",
       "prompt_number": 176,
       "text": [
        "array([[ 24.,  25.,  33.,  37.,   1.],\n",
        "       [  4.,   2.,   3.,   2.,   3.]])"
       ]
      }
     ],
     "prompt_number": 176
    },
    {
     "cell_type": "code",
     "collapsed": false,
     "input": [
      "CA184(F,5,40,10)"
     ],
     "language": "python",
     "metadata": {},
     "outputs": [
      {
       "output_type": "pyout",
       "prompt_number": 177,
       "text": [
        "array([[ 29.,  25.,  37.,  40.,   5.],\n",
        "       [  5.,   0.,   4.,   3.,   4.]])"
       ]
      }
     ],
     "prompt_number": 177
    },
    {
     "cell_type": "code",
     "collapsed": false,
     "input": [
      "CA184(F,5,40,10)"
     ],
     "language": "python",
     "metadata": {},
     "outputs": [
      {
       "output_type": "pyout",
       "prompt_number": 178,
       "text": [
        "array([[ 35.,  26.,   2.,   2.,  10.],\n",
        "       [  6.,   1.,   5.,   2.,   5.]])"
       ]
      }
     ],
     "prompt_number": 178
    },
    {
     "cell_type": "markdown",
     "metadata": {},
     "source": [
      "Check point 2\n",
      "= \n",
      "Project 2: Subscribe to the PolyLearn Help Forum for Project 2. Now that you have the CA184 ruleset implemented, you can edit it slightly to also give you the STCA ruleset. Test that it works with a road and some cars. Now implement the ASEP algorithm and create a function that will let you call it in the same way as the others - pass it an array of positions and velocities for the cars and the road length. Have it return the new positions/velocities after one time step. Test it the same way you tested your other functions to make sure it\n",
      "is working. Now create a program that will allow you to create the initial conditions for each model and call the functions N times each for those initial conditions. Compute the\n",
      "density of cars and the average velocity at each time step. Plot the current vs time and car position vs. time for each case. Now you are ready to explore current as a function of density. Create road/car pairs for 80 density values between 0 and 0.8. Make sure your road is long enough to have at least 10 cars on it in each case. Run the simulation for 150 time steps and plot the average velocity vs. density for each ruleset. Identify any phase transitions."
     ]
    },
    {
     "cell_type": "markdown",
     "metadata": {},
     "source": [
      "For STCA function I will slightly modify my CA184 code by including a probability for random slowdown as one of my functions paramers as described by the STCA Rules."
     ]
    },
    {
     "cell_type": "code",
     "collapsed": false,
     "input": [
      "def STCA(x_v,R_L,cars_number,V_maximum,Slowdown_Probability): # STCA Function , which is virtualy the same as CA184 with the exception of few modifications.\n",
      "    \"\"\"Returns a new x_v array based upon the STCA ruleset which includes slow down proability\"\"\"\n",
      "    \n",
      "    for q in range(cars_number): # set all conditions for all possible cases of empty sites for  g\n",
      "        if q<(cars_number-1): # amount of \"spots\"in between two cars where none of the cars stand at last position within array\n",
      "            if x_v[0][q+1]>x_v[0][q]: # if next car is in a position a head of another one\n",
      "                g = x_v[0][q+1]-x_v[0][q]-1 # spots between them\n",
      "            else: \n",
      "                g = (R_L-x_v[0][q])+(x_v[0][q+1]-1)\n",
      "        else: #g for the last car which needs to return back to start of the road\n",
      "            if x_v[0][1]>x_v[0][q]:# essentially  the car in last spot will to go to start\n",
      "                g = x_v[0][1]-x_v[0][q]-1 # calculates difference between last spot to to the second which should essentially loop the car to go to the beginning of the road.\n",
      "            else:\n",
      "                g = (R_L-x_v[0][q])+(x_v[0][1]-1)\n",
      "        if g==0: # rule 2\n",
      "            x_v[1][q]=0\n",
      "        elif g>x_v[1][q] and x_v[1][q]<V_maximum: # rule 4\n",
      "            x_v[1][q]=x_v[1][q]+1\n",
      "        elif g<x_v[1][q]: # rule 3\n",
      "            x_v[1][q]=g\n",
      "        if random_sample(1)<Slowdown_Probability and x_v[1][q]>0:\n",
      "            x_v[1][q]=x_v[1][q]-1\n",
      "    for q in range(cars_number): # rule 6 , allowing all cars to move forward\n",
      "        if x_v[0][q]+x_v[1][q]<=R_L: \n",
      "            x_v[0][q]=x_v[0][q]+x_v[1][q]\n",
      "        else: \n",
      "            x_v[0][q]=x_v[1][q]-(R_L-x_v[0][q]) # the application of rule 6 to the last car case.\n",
      "    \n",
      "    return x_v    "
     ],
     "language": "python",
     "metadata": {},
     "outputs": [],
     "prompt_number": 179
    },
    {
     "cell_type": "code",
     "collapsed": false,
     "input": [
      "\"\"\" Test Case for STCA\"\"\"\n",
      "F = X_V(5,40,10)"
     ],
     "language": "python",
     "metadata": {},
     "outputs": [],
     "prompt_number": 180
    },
    {
     "cell_type": "code",
     "collapsed": false,
     "input": [
      "F = STCA(F,30,3,8,0.01)\n",
      "print F"
     ],
     "language": "python",
     "metadata": {},
     "outputs": [
      {
       "output_type": "stream",
       "stream": "stdout",
       "text": [
        "[[ 10.  17.  29.  26.  37.]\n",
        " [  5.   1.   6.   1.   3.]]\n"
       ]
      }
     ],
     "prompt_number": 181
    },
    {
     "cell_type": "code",
     "collapsed": false,
     "input": [
      "F = STCA(F,30,3,8,0.01)\n",
      "print F"
     ],
     "language": "python",
     "metadata": {},
     "outputs": [
      {
       "output_type": "stream",
       "stream": "stdout",
       "text": [
        "[[ 16.  19.   6.  26.  37.]\n",
        " [  6.   2.   7.   1.   3.]]\n"
       ]
      }
     ],
     "prompt_number": 182
    },
    {
     "cell_type": "code",
     "collapsed": false,
     "input": [
      "F = STCA(F,30,3,8,0.01)\n",
      "print F"
     ],
     "language": "python",
     "metadata": {},
     "outputs": [
      {
       "output_type": "stream",
       "stream": "stdout",
       "text": [
        "[[ 18.  22.  14.  26.  37.]\n",
        " [  2.   3.   8.   1.   3.]]\n"
       ]
      }
     ],
     "prompt_number": 183
    },
    {
     "cell_type": "code",
     "collapsed": false,
     "input": [
      "F = STCA(F,30,3,8,0.01)\n",
      "print F"
     ],
     "language": "python",
     "metadata": {},
     "outputs": [
      {
       "output_type": "stream",
       "stream": "stdout",
       "text": [
        "[[ 21.  26.  21.  26.  37.]\n",
        " [  3.   4.   7.   1.   3.]]\n"
       ]
      }
     ],
     "prompt_number": 184
    },
    {
     "cell_type": "code",
     "collapsed": false,
     "input": [
      "def ASEP(x_v,R_L,cars_number,V_maximum): # This function will return a new positions and velocities array yet with an addition condition of picking one random car, as described by ASEP\n",
      "    \"\"\"This function returns a new x_v array as attributed by ASEP ruleset\"\"\"\n",
      "    \n",
      "    c = range(cars_number)\n",
      "    random.shuffle(c) # randomizing our cars\n",
      "    for w in range(len(c)): # set all conditions for all possible cases of empty sites for  g\n",
      "        q = c[w]  # picking one random car\n",
      "        if q<(cars_number-1): # amount of \"spots\"in between two cars where none of the cars stand at last position within array\n",
      "            if x_v[0][q+1]>x_v[0][q]: # if next car is in a position a head of another one\n",
      "                g = x_v[0][q+1]-x_v[0][q]-1 # spots between them\n",
      "            else: \n",
      "                g = (R_L-x_v[0][q])+(x_v[0][q+1]-1)\n",
      "        else: #g for the last car which needs to return back to start of the road\n",
      "            if x_v[0][1]>x_v[0][q]: # essentially  the car in last spot will to go to start\n",
      "                g = x_v[0][1]-x_v[0][q]-1 # calculates difference between last spot to to the second which should essentially loop the car to go to the beginning of the road.\n",
      "            else: \n",
      "                g = (R_L-x_v[0][q])+(x_v[0][1]-1)\n",
      "        if g==0: # rule 2\n",
      "            x_v[1][q]=0\n",
      "        elif g>x_v[1][q] and x_v[1][q]<V_maximum: # rule 4\n",
      "            x_v[1][q]=x_v[1][q]+1\n",
      "        elif g<x_v[1][q]: # rule 3\n",
      "            x_v[1][q]=g\n",
      "        #rule 6 , allowing all cars to move forward\n",
      "        if x_v[0][q]+x_v[1][q]<=R_L: \n",
      "            x_v[0][q]=x_v[0][q]+x_v[1][q]\n",
      "        else: \n",
      "            x_v[0][q]=x_v[1][q]-(R_L-x_v[0][q])\n",
      "        \n",
      "    \n",
      "    return x_v"
     ],
     "language": "python",
     "metadata": {},
     "outputs": [],
     "prompt_number": 185
    },
    {
     "cell_type": "code",
     "collapsed": false,
     "input": [
      "\"\"\"Test Cases\"\"\"\n",
      "F1=X_V(10,50,10)\n",
      "print F1"
     ],
     "language": "python",
     "metadata": {},
     "outputs": [
      {
       "output_type": "stream",
       "stream": "stdout",
       "text": [
        "[[  6.  10.  13.  23.  38.]\n",
        " [  1.   4.   2.   2.   0.]]\n"
       ]
      }
     ],
     "prompt_number": 186
    },
    {
     "cell_type": "code",
     "collapsed": false,
     "input": [
      "ASEP(F,10,50,10)"
     ],
     "language": "python",
     "metadata": {},
     "outputs": [
      {
       "ename": "IndexError",
       "evalue": "index out of bounds",
       "output_type": "pyerr",
       "traceback": [
        "\u001b[0;31m---------------------------------------------------------------------------\u001b[0m\n\u001b[0;31mIndexError\u001b[0m                                Traceback (most recent call last)",
        "\u001b[0;32m<ipython-input-187-6074cee5f7cf>\u001b[0m in \u001b[0;36m<module>\u001b[0;34m()\u001b[0m\n\u001b[0;32m----> 1\u001b[0;31m \u001b[0mASEP\u001b[0m\u001b[0;34m(\u001b[0m\u001b[0mF\u001b[0m\u001b[0;34m,\u001b[0m\u001b[0;36m10\u001b[0m\u001b[0;34m,\u001b[0m\u001b[0;36m50\u001b[0m\u001b[0;34m,\u001b[0m\u001b[0;36m10\u001b[0m\u001b[0;34m)\u001b[0m\u001b[0;34m\u001b[0m\u001b[0m\n\u001b[0m",
        "\u001b[0;32m<ipython-input-185-8de65b0a2b76>\u001b[0m in \u001b[0;36mASEP\u001b[0;34m(x_v, R_L, cars_number, V_maximum)\u001b[0m\n\u001b[1;32m      7\u001b[0m         \u001b[0mq\u001b[0m \u001b[0;34m=\u001b[0m \u001b[0mc\u001b[0m\u001b[0;34m[\u001b[0m\u001b[0mw\u001b[0m\u001b[0;34m]\u001b[0m  \u001b[0;31m# picking one random car\u001b[0m\u001b[0;34m\u001b[0m\u001b[0m\n\u001b[1;32m      8\u001b[0m         \u001b[0;32mif\u001b[0m \u001b[0mq\u001b[0m\u001b[0;34m<\u001b[0m\u001b[0;34m(\u001b[0m\u001b[0mcars_number\u001b[0m\u001b[0;34m-\u001b[0m\u001b[0;36m1\u001b[0m\u001b[0;34m)\u001b[0m\u001b[0;34m:\u001b[0m \u001b[0;31m# amount of \"spots\"in between two cars where none of the cars stand at last position within array\u001b[0m\u001b[0;34m\u001b[0m\u001b[0m\n\u001b[0;32m----> 9\u001b[0;31m             \u001b[0;32mif\u001b[0m \u001b[0mx_v\u001b[0m\u001b[0;34m[\u001b[0m\u001b[0;36m0\u001b[0m\u001b[0;34m]\u001b[0m\u001b[0;34m[\u001b[0m\u001b[0mq\u001b[0m\u001b[0;34m+\u001b[0m\u001b[0;36m1\u001b[0m\u001b[0;34m]\u001b[0m\u001b[0;34m>\u001b[0m\u001b[0mx_v\u001b[0m\u001b[0;34m[\u001b[0m\u001b[0;36m0\u001b[0m\u001b[0;34m]\u001b[0m\u001b[0;34m[\u001b[0m\u001b[0mq\u001b[0m\u001b[0;34m]\u001b[0m\u001b[0;34m:\u001b[0m \u001b[0;31m# if next car is in a position a head of another one\u001b[0m\u001b[0;34m\u001b[0m\u001b[0m\n\u001b[0m\u001b[1;32m     10\u001b[0m                 \u001b[0mg\u001b[0m \u001b[0;34m=\u001b[0m \u001b[0mx_v\u001b[0m\u001b[0;34m[\u001b[0m\u001b[0;36m0\u001b[0m\u001b[0;34m]\u001b[0m\u001b[0;34m[\u001b[0m\u001b[0mq\u001b[0m\u001b[0;34m+\u001b[0m\u001b[0;36m1\u001b[0m\u001b[0;34m]\u001b[0m\u001b[0;34m-\u001b[0m\u001b[0mx_v\u001b[0m\u001b[0;34m[\u001b[0m\u001b[0;36m0\u001b[0m\u001b[0;34m]\u001b[0m\u001b[0;34m[\u001b[0m\u001b[0mq\u001b[0m\u001b[0;34m]\u001b[0m\u001b[0;34m-\u001b[0m\u001b[0;36m1\u001b[0m \u001b[0;31m# spots between them\u001b[0m\u001b[0;34m\u001b[0m\u001b[0m\n\u001b[1;32m     11\u001b[0m             \u001b[0;32melse\u001b[0m\u001b[0;34m:\u001b[0m\u001b[0;34m\u001b[0m\u001b[0m\n",
        "\u001b[0;31mIndexError\u001b[0m: index out of bounds"
       ]
      }
     ],
     "prompt_number": 187
    },
    {
     "cell_type": "markdown",
     "metadata": {},
     "source": [
      "Now I created a program/function that will allow to create the initial conditions for each model and call the functions N times each for those initial conditions. "
     ]
    },
    {
     "cell_type": "code",
     "collapsed": false,
     "input": [
      "def T_F(model,R_L,cars_number,V_maximum,Slowdown_Probability,N):\n",
      "    \"\"\" This function returns averages for the postion and velocity of certain amount of carss\n",
      "    on a road with a certain length. Additionally factors such \n",
      "    as Slowdown_Probability, V_maximum will effect \n",
      "    the averages as accorrding to each model for N amount of times. Also parameter \"m\" will symbolizes the traffic model of which this function will call on \"\"\"\n",
      "    D=X_V(cars_number,R_L,V_maximum)\n",
      "    \n",
      "    if model=='STCA': # setting intial conditions for the function to call on STCA rules\n",
      "        \n",
      "        Average_P=np.zeros(N, dtype=float) # creating the average position and velocity arrays\n",
      "        Average_V=np.zeros(N, dtype=float) \n",
      "        \n",
      "        for z in range(N): # Assures STCA program is run for every N time step\n",
      "            T=STCA(D,R_L,cars_number,V_maximum,Slowdown_Probability)  # runs our ASEP model and returns a new x_v array which will be an input for the averages\n",
      "            Average_P[z]=np.sum(T[1],dtype=float)/len(T[1]) # returns average position for each time step\n",
      "            Average_V[z]=np.sum(T[0],dtype=float)/len(T[0]) # returns average velocity for each time step\n",
      "        \n",
      "        return Average_P, Average_V\n",
      "    \n",
      "    if model=='ASEP': # setting intial conditions for the function to call on ASEP rules\n",
      "        \n",
      "        Average_V=np.zeros(N,dtype=float)\n",
      "        Average_P=np.zeros(N,dtype=float)\n",
      "        \n",
      "        for z in range(N): # Assures ASEP program is run for every N time step\n",
      "            T=ASEP(D,R_L,cars_number,V_maximum)# runs our ASEP model and returns a new x_v array which will be an input for the averages\n",
      "        \n",
      "            Average_P[z]=np.sum(T[1],dtype=float)/len(T[1]) # returns average position for each time step\n",
      "            Average_V[z]=np.sum(T[0],dtype=float)/len(T[0]) # returns average velocity for each time step\n",
      "        \n",
      "        return Average_P, Average_V"
     ],
     "language": "python",
     "metadata": {},
     "outputs": [],
     "prompt_number": 191
    },
    {
     "cell_type": "code",
     "collapsed": false,
     "input": [
      "\"\"\"Test Cases\"\"\"\n",
      "\n",
      "T_F('STCA',10,3,3,0.0,5)"
     ],
     "language": "python",
     "metadata": {},
     "outputs": [
      {
       "output_type": "pyout",
       "prompt_number": 192,
       "text": [
        "(array([ 3.2,  2.6,  2.8,  3. ,  3. ]),\n",
        " array([ 18.6,  16. ,  13.6,  15.4,  15.2]))"
       ]
      }
     ],
     "prompt_number": 192
    },
    {
     "cell_type": "code",
     "collapsed": false,
     "input": [
      "T_F('ASEP',10,3,3,0.0,5)"
     ],
     "language": "python",
     "metadata": {},
     "outputs": [
      {
       "output_type": "pyout",
       "prompt_number": 190,
       "text": [
        "(array([ 1.4,  1.8,  2. ,  2.6,  3. ]),\n",
        " array([ 16.4,  15. ,  15.8,  13.2,  15. ]))"
       ]
      }
     ],
     "prompt_number": 190
    },
    {
     "cell_type": "code",
     "collapsed": false,
     "input": [],
     "language": "python",
     "metadata": {},
     "outputs": [],
     "prompt_number": 190
    },
    {
     "cell_type": "code",
     "collapsed": false,
     "input": [],
     "language": "python",
     "metadata": {},
     "outputs": [],
     "prompt_number": 167
    },
    {
     "cell_type": "code",
     "collapsed": false,
     "input": [],
     "language": "python",
     "metadata": {},
     "outputs": [],
     "prompt_number": 134
    },
    {
     "cell_type": "code",
     "collapsed": false,
     "input": [],
     "language": "python",
     "metadata": {},
     "outputs": [],
     "prompt_number": 248
    },
    {
     "cell_type": "code",
     "collapsed": false,
     "input": [],
     "language": "python",
     "metadata": {},
     "outputs": []
    }
   ],
   "metadata": {}
  }
 ]
}