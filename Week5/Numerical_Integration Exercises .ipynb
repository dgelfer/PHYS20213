{
 "metadata": {
  "name": "Numerical_Integration Exercises "
 },
 "nbformat": 3,
 "nbformat_minor": 0,
 "worksheets": [
  {
   "cells": [
    {
     "cell_type": "markdown",
     "metadata": {},
     "source": [
      "Numerical Integration Exercises 4\n",
      "="
     ]
    },
    {
     "cell_type": "markdown",
     "metadata": {},
     "source": [
      "1)\n",
      "=\n",
      "part a)\n",
      "\n",
      "$E(x) = \\int^x_0 e^{-t^2}dt$"
     ]
    },
    {
     "cell_type": "code",
     "collapsed": false,
     "input": [
      "def Etrap(x,N):\n",
      "    \"\"\" Using Trapaziod method to compute the integral from\n",
      "0 to x\"\"\"\n",
      "    \n",
      "    E = lambda x: e**(-(x)**2)\n",
      "    a = 0.\n",
      "    b = x\n",
      "    h =(b-a)/N\n",
      "    s = 0.5*E(a) + 0.5*E(b)\n",
      "    for d in arange(1,N):\n",
      "        s += E(a+d*h)\n",
      "    return (h*s)\n",
      "print Etrap(3.,30) # because from 0-3 in  steps of 0.1 there are 30 slices"
     ],
     "language": "python",
     "metadata": {},
     "outputs": [
      {
       "output_type": "stream",
       "stream": "stdout",
       "text": [
        "0.88620673428\n"
       ]
      }
     ],
     "prompt_number": 14
    },
    {
     "cell_type": "markdown",
     "metadata": {},
     "source": [
      "part b)\n"
     ]
    },
    {
     "cell_type": "code",
     "collapsed": false,
     "input": [
      "x_domain = arange(0.,3.,0.1)\n",
      "plot(x_domain, Etrap(x_domain,30), lw =2.5 , label = \"$\\int^x_0 e^{-t^2}dt$\")\n",
      "title( \"$\\int^x_0 e^{-t^2}dt$\")\n",
      "ylabel(\"$E(x)$\")\n",
      "xlabel(\"$t$\")\n",
      "legend()\n",
      "show()\n"
     ],
     "language": "python",
     "metadata": {},
     "outputs": [
      {
       "output_type": "display_data",
       "png": "[encoded data removed]"
      }
     ],
     "prompt_number": 19
    },
    {
     "cell_type": "markdown",
     "metadata": {},
     "source": [
      "2)\n",
      "=\n",
      "Consider a particle in a one-dimensional box of width L. The probability of \f",
      "nding the\n",
      "particle between a and b is given by\n",
      "$P(a,b) = \\int^b_a |\\psi(x)|^2 dx$"
     ]
    },
    {
     "cell_type": "markdown",
     "metadata": {},
     "source": [
      "part a)"
     ]
    },
    {
     "cell_type": "code",
     "collapsed": false,
     "input": [
      "def prob(n,N,L): \n",
      "    \"\"\" Used trapazoid method to calculate the integral of the wave function squared\"\"\"\n",
      "    psi_squared = lambda x: (sqrt(2/L) * sin((n*pi*x)/L))**2\n",
      "    a = L/3. \n",
      "    b = L/2.\n",
      "    h =(b-a)/N\n",
      "    s = 0.5*psi_squared(a) + 0.5*psi_squared(b)\n",
      "    for d in arange(1,N):\n",
      "        s += psi_squared(a+d*h)\n",
      "    return (h*s)\n",
      "print prob(1.,80000.,1.) # ground state assuming L =1 , n=1 # decided to use 80,000 bins which gave the corrrect first  6 sig-figs."
     ],
     "language": "python",
     "metadata": {},
     "outputs": [
      {
       "output_type": "stream",
       "stream": "stdout",
       "text": [
        "0.30449889052\n"
       ]
      }
     ],
     "prompt_number": 40
    },
    {
     "cell_type": "code",
     "collapsed": false,
     "input": [
      "prob(2.,80000.,1.) # first excited state"
     ],
     "language": "python",
     "metadata": {},
     "outputs": [
      {
       "output_type": "pyout",
       "prompt_number": 35,
       "text": [
        "0.097750554742879886"
       ]
      }
     ],
     "prompt_number": 35
    },
    {
     "cell_type": "code",
     "collapsed": false,
     "input": [
      "import scipy\n",
      "import scipy.integrate as integrate\n",
      "n = 1.\n",
      "L = 1.\n",
      "\n",
      "probinbox = integrate.quad(lambda x: (sqrt(2/L) * sin((n*pi*x)/L))**2,L/3.,L/2.)\n",
      "print probinbox , \"Probability, Estimated accuracy\""
     ],
     "language": "python",
     "metadata": {},
     "outputs": [
      {
       "output_type": "stream",
       "stream": "stdout",
       "text": [
        "(0.3044988905221147, 3.380616792304666e-15) Probability, Estimated accuracy\n"
       ]
      }
     ],
     "prompt_number": 31
    },
    {
     "cell_type": "markdown",
     "metadata": {},
     "source": [
      "part B)"
     ]
    },
    {
     "cell_type": "code",
     "collapsed": false,
     "input": [
      "x_domain2 = arange(1./3.,1./2.,0.0001) # I just chose a random number of steps for simplicity\n",
      "n = 1.\n",
      "L = 1.\n",
      "psi_squared2 = (sqrt(2/L) * sin((n*pi*x_domain2)/L))**2\n",
      "plot(x_domain2,psi_squared2, lw =2.5, label = \"$|\\psi(x)|^2$\" )\n",
      "title(\"$|\\psi(x)|^2$ vs. x\" , fontsize =20)\n",
      "xlabel(\"x (m)\", fontsize = 15)\n",
      "ylabel(\"$|\\psi(x)|^2$, probability density\", fontsize =15)\n",
      "legend(loc = \"lower right\")\n",
      "show()\n"
     ],
     "language": "python",
     "metadata": {},
     "outputs": [
      {
       "output_type": "display_data",
       "png": "[encoded data removed]"
      }
     ],
     "prompt_number": 51
    },
    {
     "cell_type": "markdown",
     "metadata": {},
     "source": [
      "3)\n",
      "=\n",
      "In natural units (where all the constants are 1), the wavefunction of the n-th energy\n",
      "level of the one-dimensional quantum harmonic oscillator - i.e., a spinless point particle in\n",
      "a quadratic potential well - is given by:\n",
      "\n",
      "$\\psi_n(x) = \\frac{1}{\\sqrt{2^nn!\\sqrt{\\pi}}}e^{\\frac{-x^2}{2}}H_n(x)$\n",
      "\n",
      "$ H_{n+1} (x) = 2xH_n(x) -2nH_{n-1}(x)$\n",
      "\n",
      "The \f",
      "rst two Hermite polynomials are $H_0(x) = 1$  and  $ H_1(x) = 2x$.\n"
     ]
    },
    {
     "cell_type": "markdown",
     "metadata": {},
     "source": [
      "part a)\n",
      "Write a user-de\f",
      "ned function H(n,x) that calculates Hn(x) for given x and any integer\n",
      "n \u0015 0. Use your function to make a plot that shows the wave functions for n=0, 1, 2,\n",
      "and 3, all on the same graph, in the range x = -4 to x = 4. Hint: There is a function\n",
      "factorial in the math package that calculates the factorial of an integer.\n"
     ]
    },
    {
     "cell_type": "code",
     "collapsed": false,
     "input": [
      "\n",
      "def H(n,x):\n",
      "    H_0 = 1\n",
      "    H_1 = 2x\n",
      "    H_nminus = 0\n",
      "    H_n = 0\n",
      "    x = 1 # just so i get a value, subject to change \n",
      "    H_nplus = 0\n",
      "    H_nplus = 2*x*H_n -2*n*H_nminus\n",
      "    for n in H_nplus:\n",
      "        if H_plus > 0:\n",
      "            H_n = (H_nplus +2*n*H_nminus)/(2*x)\n",
      "        return H_n"
     ],
     "language": "python",
     "metadata": {},
     "outputs": [
      {
       "ename": "SyntaxError",
       "evalue": "invalid syntax (<ipython-input-52-9a01dcaf15f7>, line 4)",
       "output_type": "pyerr",
       "traceback": [
        "\u001b[0;36m  File \u001b[0;32m\"<ipython-input-52-9a01dcaf15f7>\"\u001b[0;36m, line \u001b[0;32m4\u001b[0m\n\u001b[0;31m    H_1 = 2x\u001b[0m\n\u001b[0m           ^\u001b[0m\n\u001b[0;31mSyntaxError\u001b[0m\u001b[0;31m:\u001b[0m invalid syntax\n"
       ]
      }
     ],
     "prompt_number": 52
    },
    {
     "cell_type": "markdown",
     "metadata": {},
     "source": [
      "4)\n",
      "="
     ]
    },
    {
     "cell_type": "code",
     "collapsed": false,
     "input": [
      "import numpy as np\n",
      "np.polynomial.Hermite("
     ],
     "language": "python",
     "metadata": {},
     "outputs": []
    }
   ],
   "metadata": {}
  }
 ]
}