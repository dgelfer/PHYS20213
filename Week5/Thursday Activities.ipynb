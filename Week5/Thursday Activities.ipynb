{
 "metadata": {
  "name": "Thursday Activities"
 },
 "nbformat": 3,
 "nbformat_minor": 0,
 "worksheets": [
  {
   "cells": [
    {
     "cell_type": "markdown",
     "metadata": {},
     "source": [
      "Monte Carlo Integration\n",
      "="
     ]
    },
    {
     "cell_type": "markdown",
     "metadata": {},
     "source": [
      "Example 1:\n",
      "= \n",
      " I changed the N value but the rest is the same as the as the example\n",
      "$f(X) = x^{1/2} + \\sin(x)$"
     ]
    },
    {
     "cell_type": "code",
     "collapsed": false,
     "input": [
      "f = lambda x: x**(0.5) + sin(x)"
     ],
     "language": "python",
     "metadata": {},
     "outputs": []
    },
    {
     "cell_type": "code",
     "collapsed": false,
     "input": [
      "x = arange(0.,15.,0.001)"
     ],
     "language": "python",
     "metadata": {},
     "outputs": []
    },
    {
     "cell_type": "code",
     "collapsed": false,
     "input": [
      "myplot = plot(x,f(x), lw=3)\n",
      "ylabel(r'$x^{1/2} + \\sin{x}$', fontsize=20)\n",
      "xlabel(r'$x$' , fontsize = 20)\n",
      "xlim(0.,15.)\n",
      "show()"
     ],
     "language": "python",
     "metadata": {},
     "outputs": []
    },
    {
     "cell_type": "code",
     "collapsed": false,
     "input": [
      "xmin = 1.7\n",
      "xmax = 12.4 \n",
      "# find the maximum value of f within the boundary to set ymax\n",
      "subx = x[logical_and((x > xmin),(x < xmax))]\n",
      "ymax = max(f(subx))*1.05\n",
      "ymin = 0.\n",
      "#Replot the function0\n",
      "myplot = plot(x,f(x),lw=3)\n",
      "xlim(0.,15.)\n",
      "#plot the box\n",
      "plot([xmin, xmin], [ymin, ymax], color = 'k', linestyle = '--') #vertical left\n",
      "plot([xmax, xmax], [ymin, ymax], color = 'k', linestyle = '--') #vertical right\n",
      "plot([xmin, xmax], [ymax, ymax], color = 'k', linestyle = '--') #horizontal top\n",
      "show()"
     ],
     "language": "python",
     "metadata": {},
     "outputs": []
    },
    {
     "cell_type": "code",
     "collapsed": false,
     "input": [
      "N = 8000000 \n",
      "samples_x = xmin + (xmax-xmin)*random_sample(N);\n",
      "samples_y = ymin + (ymax-ymin)*random_sample(N);\n",
      "#Replot the function\n",
      "myplot = plot(x,f(x),lw=3)\n",
      "xlim(0.,15.)\n",
      "plot(samples_x[1:200],samples_y[1:200],'.')\n",
      "# plot the box\n",
      "plot([xmin, xmin], [ymin, ymax], color = 'k', linestyle = '--') #vertical left\n",
      "plot([xmax, xmax], [ymin, ymax], color = 'k', linestyle = '--') #vertical right\n",
      "plot([xmin, xmax], [ymax, ymax], color = 'k', linestyle = '--') #horizontal top\n",
      "show()\n"
     ],
     "language": "python",
     "metadata": {},
     "outputs": [
      {
       "ename": "KeyboardInterrupt",
       "evalue": "",
       "output_type": "pyerr",
       "traceback": [
        "\u001b[0;31m---------------------------------------------------------------------------\u001b[0m\n\u001b[0;31mKeyboardInterrupt\u001b[0m                         Traceback (most recent call last)",
        "\u001b[0;32m<ipython-input-49-a5dab918bc43>\u001b[0m in \u001b[0;36m<module>\u001b[0;34m()\u001b[0m\n\u001b[1;32m      1\u001b[0m \u001b[0mN\u001b[0m \u001b[0;34m=\u001b[0m \u001b[0;36m1000000000\u001b[0m\u001b[0;34m\u001b[0m\u001b[0m\n\u001b[0;32m----> 2\u001b[0;31m \u001b[0msamples_x\u001b[0m \u001b[0;34m=\u001b[0m \u001b[0mxmin\u001b[0m \u001b[0;34m+\u001b[0m \u001b[0;34m(\u001b[0m\u001b[0mxmax\u001b[0m\u001b[0;34m-\u001b[0m\u001b[0mxmin\u001b[0m\u001b[0;34m)\u001b[0m\u001b[0;34m*\u001b[0m\u001b[0mrandom_sample\u001b[0m\u001b[0;34m(\u001b[0m\u001b[0mN\u001b[0m\u001b[0;34m)\u001b[0m\u001b[0;34m;\u001b[0m\u001b[0;34m\u001b[0m\u001b[0m\n\u001b[0m\u001b[1;32m      3\u001b[0m \u001b[0msamples_y\u001b[0m \u001b[0;34m=\u001b[0m \u001b[0mymin\u001b[0m \u001b[0;34m+\u001b[0m \u001b[0;34m(\u001b[0m\u001b[0mymax\u001b[0m\u001b[0;34m-\u001b[0m\u001b[0mymin\u001b[0m\u001b[0;34m)\u001b[0m\u001b[0;34m*\u001b[0m\u001b[0mrandom_sample\u001b[0m\u001b[0;34m(\u001b[0m\u001b[0mN\u001b[0m\u001b[0;34m)\u001b[0m\u001b[0;34m;\u001b[0m\u001b[0;34m\u001b[0m\u001b[0m\n\u001b[1;32m      4\u001b[0m \u001b[0;31m#Replot the function\u001b[0m\u001b[0;34m\u001b[0m\u001b[0;34m\u001b[0m\u001b[0m\n\u001b[1;32m      5\u001b[0m \u001b[0mmyplot\u001b[0m \u001b[0;34m=\u001b[0m \u001b[0mplot\u001b[0m\u001b[0;34m(\u001b[0m\u001b[0mx\u001b[0m\u001b[0;34m,\u001b[0m\u001b[0mf\u001b[0m\u001b[0;34m(\u001b[0m\u001b[0mx\u001b[0m\u001b[0;34m)\u001b[0m\u001b[0;34m,\u001b[0m\u001b[0mlw\u001b[0m\u001b[0;34m=\u001b[0m\u001b[0;36m3\u001b[0m\u001b[0;34m)\u001b[0m\u001b[0;34m\u001b[0m\u001b[0m\n",
        "\u001b[0;31mKeyboardInterrupt\u001b[0m: "
       ]
      }
     ]
    },
    {
     "cell_type": "code",
     "collapsed": false,
     "input": [
      "newmask = (samples_y < f(samples_x))"
     ],
     "language": "python",
     "metadata": {},
     "outputs": []
    },
    {
     "cell_type": "code",
     "collapsed": false,
     "input": [
      "sum(newmask)"
     ],
     "language": "python",
     "metadata": {},
     "outputs": []
    },
    {
     "cell_type": "markdown",
     "metadata": {},
     "source": [
      "Now we can replot the points that lie below the function for the proof:"
     ]
    },
    {
     "cell_type": "code",
     "collapsed": false,
     "input": [
      "#replot the function\n",
      "myplot = plot(x,f(x),lw=3)\n",
      "xlim(0.,15.)\n",
      "plot(samples_x[1:200],samples_y[1:200],'.')\n",
      "#show the ones below the function in red\n",
      "plot(samples_x[newmask[:200]],samples_y[newmask[:200]],'r.')\n",
      "# plot the box\n",
      "plot([xmin, xmin], [ymin, ymax], color = 'k', linestyle = '--') #vertical left\n",
      "plot([xmax, xmax], [ymin, ymax], color = 'k', linestyle = '--') #vertical right\n",
      "plot([xmin, xmax], [ymax, ymax], color = 'k', linestyle = '--') #horizontal top\n",
      "show()\n"
     ],
     "language": "python",
     "metadata": {},
     "outputs": []
    },
    {
     "cell_type": "code",
     "collapsed": false,
     "input": [
      "I = (xmax-xmin)*(ymax-ymin)*sum(newmask)/newmask.size\n",
      "print I"
     ],
     "language": "python",
     "metadata": {},
     "outputs": []
    },
    {
     "cell_type": "code",
     "collapsed": false,
     "input": [
      "Iana = lambda x: (2./3.)*x**(3./2.)-cos(x)"
     ],
     "language": "python",
     "metadata": {},
     "outputs": []
    },
    {
     "cell_type": "code",
     "collapsed": false,
     "input": [
      "Iexact = Iana(xmax)-Iana(xmin)\n",
      "Ierr = 100*(Iexact-I)/Iexact\n",
      "print \"I_exact =\" ,Iexact\n",
      "print \"I_hitormiss_\", I\n",
      "print \"Error on I =\",Ierr,\"%\""
     ],
     "language": "python",
     "metadata": {},
     "outputs": [
      {
       "output_type": "stream",
       "stream": "stdout",
       "text": [
        "I_exact = 26.5172145362\n",
        "I_hitormiss_ 26.5651162487\n",
        "Error on I = -0.18064383225 %\n"
       ]
      }
     ],
     "prompt_number": 56
    },
    {
     "cell_type": "markdown",
     "metadata": {},
     "source": [
      "Exercise 2\n",
      "="
     ]
    },
    {
     "cell_type": "markdown",
     "metadata": {},
     "source": [
      "part a)"
     ]
    },
    {
     "cell_type": "code",
     "collapsed": false,
     "input": [
      "f =  lambda x: x**(1./2.)+sin(x)\n",
      "N = 10000.\n",
      "a = xmin\n",
      "b = xmax\n",
      "samples_x = xmin + (xmax-xmin)*random_sample(N);\n",
      "total = sum(f(samples_x))\n",
      "I2 = (b-a)*(total/N)\n",
      "print I2"
     ],
     "language": "python",
     "metadata": {},
     "outputs": [
      {
       "output_type": "stream",
       "stream": "stdout",
       "text": [
        "26.515744662\n"
       ]
      }
     ],
     "prompt_number": 57
    },
    {
     "cell_type": "markdown",
     "metadata": {},
     "source": [
      "part b)"
     ]
    },
    {
     "cell_type": "code",
     "collapsed": false,
     "input": [
      "myplot = plot(x,f(x),lw=3)\n",
      "xlim(0.,15.)\n",
      "plot([xmin, xmax], [total/N, total/N], color = 'r')\n",
      "plot([xmin, xmin], [ymin, ymax], color = 'k', linestyle = '--') #vertical left\n",
      "plot([xmax, xmax], [ymin, ymax], color = 'k', linestyle = '--') #vertical right\n",
      "plot([xmin, xmax], [ymax, ymax], color = 'k', linestyle = '--') #horizontal top\n",
      "show()"
     ],
     "language": "python",
     "metadata": {},
     "outputs": [
      {
       "output_type": "display_data",
       "png": "[encoded data removed]"
      }
     ],
     "prompt_number": 58
    },
    {
     "cell_type": "markdown",
     "metadata": {},
     "source": [
      "part c)"
     ]
    },
    {
     "cell_type": "code",
     "collapsed": false,
     "input": [
      "percent_error = 100*(Iexact-I2)/Iexact\n",
      "print \"Error on I =\",percent_error,\"%\""
     ],
     "language": "python",
     "metadata": {},
     "outputs": [
      {
       "output_type": "stream",
       "stream": "stdout",
       "text": [
        "Error on I = 0.00554309429405 %\n"
       ]
      }
     ],
     "prompt_number": 60
    },
    {
     "cell_type": "code",
     "collapsed": false,
     "input": [],
     "language": "python",
     "metadata": {},
     "outputs": []
    }
   ],
   "metadata": {}
  }
 ]
}