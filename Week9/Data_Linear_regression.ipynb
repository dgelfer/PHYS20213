{
 "metadata": {
  "name": "Data_Linear_regression"
 },
 "nbformat": 3,
 "nbformat_minor": 0,
 "worksheets": [
  {
   "cells": [
    {
     "cell_type": "markdown",
     "metadata": {},
     "source": [
      "Data I/O and Linear Regression\n",
      "=="
     ]
    },
    {
     "cell_type": "code",
     "collapsed": false,
     "input": [
      "DataIn = loadtxt( 'input.dat')\n",
      "print DataIn.shape\n",
      "print DataIn\n"
     ],
     "language": "python",
     "metadata": {},
     "outputs": [
      {
       "output_type": "stream",
       "stream": "stdout",
       "text": [
        "(5, 3)\n",
        "[[ 0.   1.1  0.1]\n",
        " [ 2.   1.9  0.2]\n",
        " [ 4.   3.2  0.1]\n",
        " [ 6.   4.   0.3]\n",
        " [ 8.   5.9  0.3]]\n"
       ]
      }
     ],
     "prompt_number": 58
    },
    {
     "cell_type": "code",
     "collapsed": false,
     "input": [
      "\"\"\" You can see the DataIn is a 3-dimensional array, each dimension contraining 5 numbers. You can work with the different dimensions by slicing the array:\"\"\"\n",
      "print DataIn[:2]\n"
     ],
     "language": "python",
     "metadata": {},
     "outputs": [
      {
       "output_type": "stream",
       "stream": "stdout",
       "text": [
        "[[ 0.   1.1  0.1]\n",
        " [ 2.   1.9  0.2]]\n"
       ]
      }
     ],
     "prompt_number": 59
    },
    {
     "cell_type": "code",
     "collapsed": false,
     "input": [
      "x, y, yerr = loadtxt('input.dat', unpack=True)\n",
      "print x\n",
      "print y\n",
      "print yerr"
     ],
     "language": "python",
     "metadata": {},
     "outputs": [
      {
       "output_type": "stream",
       "stream": "stdout",
       "text": [
        "[ 0.  2.  4.  6.  8.]\n",
        "[ 1.1  1.9  3.2  4.   5.9]\n",
        "[ 0.1  0.2  0.1  0.3  0.3]\n"
       ]
      }
     ],
     "prompt_number": 60
    },
    {
     "cell_type": "code",
     "collapsed": false,
     "input": [
      "x, y = loadtxt('input.dat', unpack=True, usecols=[0,1])\n",
      "print x\n",
      "print y"
     ],
     "language": "python",
     "metadata": {},
     "outputs": [
      {
       "output_type": "stream",
       "stream": "stdout",
       "text": [
        "[ 0.  2.  4.  6.  8.]\n",
        "[ 1.1  1.9  3.2  4.   5.9]\n"
       ]
      }
     ],
     "prompt_number": 61
    },
    {
     "cell_type": "markdown",
     "metadata": {},
     "source": [
      "Dealing with csv files\n",
      "==\n"
     ]
    },
    {
     "cell_type": "code",
     "collapsed": false,
     "input": [
      "x, y= loadtxt('input.csv',unpack=True, delimiter=',', usecols = [0,1])\n",
      "print x,y\n"
     ],
     "language": "python",
     "metadata": {},
     "outputs": [
      {
       "output_type": "stream",
       "stream": "stdout",
       "text": [
        "[ 0.  2.  4.  6.  8.] [ 1.1  1.9  3.2  4.   5.9]\n"
       ]
      }
     ],
     "prompt_number": 62
    },
    {
     "cell_type": "code",
     "collapsed": false,
     "input": [
      "import numpy as np\n",
      "t = array([0, 1, 2, 3, 4, 5, 6, 7, 8, 9])\n",
      "v = array([0.137, 0.456, 0.591,0.713,0.859,0.926,1.139,1.327,1.512,1.875])\n",
      "p = lambda v: 0.15 + v/10.0\n",
      "Pressure = p(v)\n",
      "print Pressure"
     ],
     "language": "python",
     "metadata": {},
     "outputs": [
      {
       "output_type": "stream",
       "stream": "stdout",
       "text": [
        "[ 0.1637  0.1956  0.2091  0.2213  0.2359  0.2426  0.2639  0.2827  0.3012\n",
        "  0.3375]\n"
       ]
      }
     ],
     "prompt_number": 63
    },
    {
     "cell_type": "code",
     "collapsed": false,
     "input": [
      "savetxt('output.dat', (t,Pressure))"
     ],
     "language": "python",
     "metadata": {},
     "outputs": [],
     "prompt_number": 64
    },
    {
     "cell_type": "code",
     "collapsed": false,
     "input": [
      "DataOut = column_stack((t,Pressure))\n",
      "savetxt('output.dat', DataOut)"
     ],
     "language": "python",
     "metadata": {},
     "outputs": [],
     "prompt_number": 65
    },
    {
     "cell_type": "code",
     "collapsed": false,
     "input": [
      "f = open(\"output.dat\",\"w\")\n",
      "f.write(\"My comment line for this file, followed by a blank line, then the data\\n\\n\")\n",
      "savetxt(f, DataOut, fmt=('%3i', '%4.3f'))\n",
      "f.close()"
     ],
     "language": "python",
     "metadata": {},
     "outputs": [],
     "prompt_number": 66
    },
    {
     "cell_type": "markdown",
     "metadata": {},
     "source": [
      "Exercise 1\n",
      "=="
     ]
    },
    {
     "cell_type": "code",
     "collapsed": false,
     "input": [
      "DataIn = loadtxt('linearData.dat')\n",
      "t, x, ux = loadtxt('linearData.dat', unpack=True)"
     ],
     "language": "python",
     "metadata": {},
     "outputs": [],
     "prompt_number": 67
    },
    {
     "cell_type": "code",
     "collapsed": false,
     "input": [
      "print t, x, ux"
     ],
     "language": "python",
     "metadata": {},
     "outputs": [
      {
       "output_type": "stream",
       "stream": "stdout",
       "text": [
        "[  1.   2.   3.   4.   5.   6.   7.   8.   9.  10.] [ 7.75  7.33  6.89  6.45  5.96  5.55  5.1   4.49  3.93  3.58] [ 0.02  0.03  0.03  0.04  0.05  0.06  0.08  0.11  0.14  0.17]\n"
       ]
      }
     ],
     "prompt_number": 68
    },
    {
     "cell_type": "code",
     "collapsed": false,
     "input": [
      "DataIn = loadtxt('linearData.dat')\n",
      "t, x, ux = loadtxt('linearData.dat', unpack=True)\n",
      "print t, x, ux"
     ],
     "language": "python",
     "metadata": {},
     "outputs": [
      {
       "output_type": "stream",
       "stream": "stdout",
       "text": [
        "[  1.   2.   3.   4.   5.   6.   7.   8.   9.  10.] [ 7.75  7.33  6.89  6.45  5.96  5.55  5.1   4.49  3.93  3.58] [ 0.02  0.03  0.03  0.04  0.05  0.06  0.08  0.11  0.14  0.17]\n"
       ]
      }
     ],
     "prompt_number": 69
    },
    {
     "cell_type": "markdown",
     "metadata": {},
     "source": [
      "Linear Regression\n",
      "=="
     ]
    },
    {
     "cell_type": "markdown",
     "metadata": {},
     "source": [
      "Exercise 2\n",
      "=\n",
      "a)\n",
      "=\n"
     ]
    },
    {
     "cell_type": "code",
     "collapsed": false,
     "input": [
      "\n",
      "\n",
      "def LinearLeastSquares(x,y):\n",
      "    \"\"\"Take in arrays representing (x,y) values for a set of linearly varying data and perform a linear least squares regression. \n",
      "    Return the resulting slope and intercept parameters of the nest fit line with their uncertainties.\"\"\"\n",
      "    n = len(x) \n",
      "    X = (1/n)*(sum(x))\n",
      "    Y = (1/n)*(sum(y))\n",
      "    X_squared = (1/n)*(sum(x**2))\n",
      "    X_Y = (1/n)*(sum(x*y))\n",
      "    m = ((X_Y)-X*Y)/(X_squared-(X**2))\n",
      "    b = ((X_squared*Y)-(X)*(X_Y))/(X_squared-(X**2))\n",
      "    sigma = y -((m*x)+b)\n",
      "    #slerr = (1./(n-2))*((sigma**2)/((X_squared)-(X**2)))))**(0.5)\n",
      "    #interr = (1./(n-2))*((sigma**2)/((X_squared)-(X**2))))**(0.5)\n",
      "    \n",
      "    return m,b,slerr"
     ],
     "language": "python",
     "metadata": {},
     "outputs": [
      {
       "ename": "SyntaxError",
       "evalue": "invalid syntax (<ipython-input-81-42d9e2be91c7>, line 14)",
       "output_type": "pyerr",
       "traceback": [
        "\u001b[0;36m  File \u001b[0;32m\"<ipython-input-81-42d9e2be91c7>\"\u001b[0;36m, line \u001b[0;32m14\u001b[0m\n\u001b[0;31m    slerr = (1./(n-2))*((sigma**2)/((X_squared)-(X**2))))))**(0.5)\u001b[0m\n\u001b[0m                                                        ^\u001b[0m\n\u001b[0;31mSyntaxError\u001b[0m\u001b[0;31m:\u001b[0m invalid syntax\n"
       ]
      }
     ],
     "prompt_number": 81
    },
    {
     "cell_type": "code",
     "collapsed": false,
     "input": [],
     "language": "python",
     "metadata": {},
     "outputs": [],
     "prompt_number": 70
    },
    {
     "cell_type": "code",
     "collapsed": false,
     "input": [],
     "language": "python",
     "metadata": {},
     "outputs": [],
     "prompt_number": 70
    },
    {
     "cell_type": "code",
     "collapsed": false,
     "input": [],
     "language": "python",
     "metadata": {},
     "outputs": []
    }
   ],
   "metadata": {}
  }
 ]
}