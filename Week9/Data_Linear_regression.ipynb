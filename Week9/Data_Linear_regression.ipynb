{
 "metadata": {
  "name": "Data_Linear_regression"
 },
 "nbformat": 3,
 "nbformat_minor": 0,
 "worksheets": [
  {
   "cells": [
    {
     "cell_type": "markdown",
     "metadata": {},
     "source": [
      "Data I/O and Linear Regression\n",
      "=="
     ]
    },
    {
     "cell_type": "code",
     "collapsed": false,
     "input": [
      "DataIn = loadtxt( 'input.dat')\n",
      "print DataIn.shape\n",
      "print DataIn\n"
     ],
     "language": "python",
     "metadata": {},
     "outputs": [
      {
       "output_type": "stream",
       "stream": "stdout",
       "text": [
        "(5, 3)\n",
        "[[ 0.   1.1  0.1]\n",
        " [ 2.   1.9  0.2]\n",
        " [ 4.   3.2  0.1]\n",
        " [ 6.   4.   0.3]\n",
        " [ 8.   5.9  0.3]]\n"
       ]
      }
     ],
     "prompt_number": 82
    },
    {
     "cell_type": "code",
     "collapsed": false,
     "input": [
      "\"\"\" You can see the DataIn is a 3-dimensional array, each dimension contraining 5 numbers. You can work with the different dimensions by slicing the array:\"\"\"\n",
      "print DataIn[:2]\n"
     ],
     "language": "python",
     "metadata": {},
     "outputs": [
      {
       "output_type": "stream",
       "stream": "stdout",
       "text": [
        "[[ 0.   1.1  0.1]\n",
        " [ 2.   1.9  0.2]]\n"
       ]
      }
     ],
     "prompt_number": 83
    },
    {
     "cell_type": "code",
     "collapsed": false,
     "input": [
      "x, y, yerr = loadtxt('input.dat', unpack=True)\n",
      "print x\n",
      "print y\n",
      "print yerr"
     ],
     "language": "python",
     "metadata": {},
     "outputs": [
      {
       "output_type": "stream",
       "stream": "stdout",
       "text": [
        "[ 0.  2.  4.  6.  8.]\n",
        "[ 1.1  1.9  3.2  4.   5.9]\n",
        "[ 0.1  0.2  0.1  0.3  0.3]\n"
       ]
      }
     ],
     "prompt_number": 84
    },
    {
     "cell_type": "code",
     "collapsed": false,
     "input": [
      "x, y = loadtxt('input.dat', unpack=True, usecols=[0,1])\n",
      "print x\n",
      "print y"
     ],
     "language": "python",
     "metadata": {},
     "outputs": [
      {
       "output_type": "stream",
       "stream": "stdout",
       "text": [
        "[ 0.  2.  4.  6.  8.]\n",
        "[ 1.1  1.9  3.2  4.   5.9]\n"
       ]
      }
     ],
     "prompt_number": 85
    },
    {
     "cell_type": "markdown",
     "metadata": {},
     "source": [
      "Dealing with csv files\n",
      "==\n"
     ]
    },
    {
     "cell_type": "code",
     "collapsed": false,
     "input": [
      "x, y= loadtxt('input.csv',unpack=True, delimiter=',', usecols = [0,1])\n",
      "print x,y\n"
     ],
     "language": "python",
     "metadata": {},
     "outputs": [
      {
       "output_type": "stream",
       "stream": "stdout",
       "text": [
        "[ 0.  2.  4.  6.  8.] [ 1.1  1.9  3.2  4.   5.9]\n"
       ]
      }
     ],
     "prompt_number": 86
    },
    {
     "cell_type": "code",
     "collapsed": false,
     "input": [
      "import numpy as np\n",
      "t = array([0, 1, 2, 3, 4, 5, 6, 7, 8, 9])\n",
      "v = array([0.137, 0.456, 0.591,0.713,0.859,0.926,1.139,1.327,1.512,1.875])\n",
      "p = lambda v: 0.15 + v/10.0\n",
      "Pressure = p(v)\n",
      "print Pressure"
     ],
     "language": "python",
     "metadata": {},
     "outputs": [
      {
       "output_type": "stream",
       "stream": "stdout",
       "text": [
        "[ 0.1637  0.1956  0.2091  0.2213  0.2359  0.2426  0.2639  0.2827  0.3012\n",
        "  0.3375]\n"
       ]
      }
     ],
     "prompt_number": 87
    },
    {
     "cell_type": "code",
     "collapsed": false,
     "input": [
      "savetxt('output.dat', (t,Pressure))"
     ],
     "language": "python",
     "metadata": {},
     "outputs": [],
     "prompt_number": 88
    },
    {
     "cell_type": "code",
     "collapsed": false,
     "input": [
      "DataOut = column_stack((t,Pressure))\n",
      "savetxt('output.dat', DataOut)"
     ],
     "language": "python",
     "metadata": {},
     "outputs": [],
     "prompt_number": 89
    },
    {
     "cell_type": "code",
     "collapsed": false,
     "input": [
      "f = open(\"output.dat\",\"w\")\n",
      "f.write(\"My comment line for this file, followed by a blank line, then the data\\n\\n\")\n",
      "savetxt(f, DataOut, fmt=('%3i', '%4.3f'))\n",
      "f.close()"
     ],
     "language": "python",
     "metadata": {},
     "outputs": [],
     "prompt_number": 90
    },
    {
     "cell_type": "markdown",
     "metadata": {},
     "source": [
      "Exercise 1\n",
      "=="
     ]
    },
    {
     "cell_type": "code",
     "collapsed": false,
     "input": [
      "DataIn = loadtxt('linearData.dat')\n",
      "t, x, ux = loadtxt('linearData.dat', unpack=True)"
     ],
     "language": "python",
     "metadata": {},
     "outputs": [],
     "prompt_number": 91
    },
    {
     "cell_type": "code",
     "collapsed": false,
     "input": [
      "print t, x, ux"
     ],
     "language": "python",
     "metadata": {},
     "outputs": [
      {
       "output_type": "stream",
       "stream": "stdout",
       "text": [
        "[  1.   2.   3.   4.   5.   6.   7.   8.   9.  10.] [ 7.75  7.33  6.89  6.45  5.96  5.55  5.1   4.49  3.93  3.58] [ 0.02  0.03  0.03  0.04  0.05  0.06  0.08  0.11  0.14  0.17]\n"
       ]
      }
     ],
     "prompt_number": 92
    },
    {
     "cell_type": "code",
     "collapsed": false,
     "input": [
      "DataIn = loadtxt('linearData.dat')\n",
      "t, x, ux = loadtxt('linearData.dat', unpack=True)\n",
      "print t, x, ux"
     ],
     "language": "python",
     "metadata": {},
     "outputs": [
      {
       "output_type": "stream",
       "stream": "stdout",
       "text": [
        "[  1.   2.   3.   4.   5.   6.   7.   8.   9.  10.] [ 7.75  7.33  6.89  6.45  5.96  5.55  5.1   4.49  3.93  3.58] [ 0.02  0.03  0.03  0.04  0.05  0.06  0.08  0.11  0.14  0.17]\n"
       ]
      }
     ],
     "prompt_number": 93
    },
    {
     "cell_type": "markdown",
     "metadata": {},
     "source": [
      "Linear Regression\n",
      "=="
     ]
    },
    {
     "cell_type": "markdown",
     "metadata": {},
     "source": [
      "Exercise 2\n",
      "=\n",
      "a)\n",
      "=\n"
     ]
    },
    {
     "cell_type": "code",
     "collapsed": false,
     "input": [
      "def LinearLeastSquaresFit(x,y):\n",
      "    \"\"\"Take in arrays representing (x,y) values for a set of linearly varying data and perform a linear least squares regression. \n",
      "    Return the resulting slope and intercept parameters of the best fit line with their uncertainties.\"\"\"\n",
      "    \n",
      "    n = double(len(x))# makes the length of array x a float \n",
      "    X = mean(x)\n",
      "    Y = mean(y)\n",
      "    X_squared = mean(x**2)\n",
      "    X_Y = mean(x*y)\n",
      "    m = ((X_Y)-X*Y)/(X_squared-(X**2))\n",
      "    b = ((X_squared*Y)-(X)*(X_Y))/(X_squared-(X**2))\n",
      "    D = y -((m*x)+b)\n",
      "    D_Squared = mean(D**2)\n",
      "    slerr = sqrt((1/(n-2))*(D_Squared/(X_squared - (X**2))))\n",
      "    interr = sqrt((1/(n-2))*((D_Squared*X_squared)/(X_squared - (X**2))))\n",
      "    return m,b,slerr,interr\n"
     ],
     "language": "python",
     "metadata": {},
     "outputs": [],
     "prompt_number": 139
    },
    {
     "cell_type": "markdown",
     "metadata": {},
     "source": [
      "b)\n",
      "="
     ]
    },
    {
     "cell_type": "code",
     "collapsed": false,
     "input": [
      "x,y = loadtxt('linearData.dat',unpack=True, usecols=[0,1])\n",
      "print x\n",
      "print Y"
     ],
     "language": "python",
     "metadata": {},
     "outputs": [
      {
       "output_type": "stream",
       "stream": "stdout",
       "text": [
        "[  1.   2.   3.   4.   5.   6.   7.   8.   9.  10.]\n",
        "[ 7.75  7.33  6.89  6.45  5.96  5.55  5.1   4.49  3.93  3.58]\n"
       ]
      }
     ],
     "prompt_number": 140
    },
    {
     "cell_type": "code",
     "collapsed": false,
     "input": [
      "m,b,slerr,interr =  LinearLeastSquaresFit(x,y)\n",
      "print 'm = %.4f +/- %.4f' % (m,slerr)\n",
      "print 'b = %.4f +/- %.4f' % (b,interr)\n"
     ],
     "language": "python",
     "metadata": {},
     "outputs": [
      {
       "output_type": "stream",
       "stream": "stdout",
       "text": [
        "m = -0.4715 +/- 0.0080\n",
        "b = 8.2960 +/- 0.0496\n"
       ]
      }
     ],
     "prompt_number": 141
    },
    {
     "cell_type": "markdown",
     "metadata": {},
     "source": [
      "c)\n",
      "="
     ]
    },
    {
     "cell_type": "code",
     "collapsed": false,
     "input": [
      "y = lambda x: m*x+b\n",
      "y_plus = lambda x: (m + slerr)*x + (b + interr)\n",
      "y_minus = lambda x: (m + slerr)*x + (b + interr)\n",
      "plot(x,y(x), label='y = %.4f x + %.4f'%(m,b), lw=2)\n",
      "plot(x,y_plus(x),color = 'red',linestyle = '--', label = 'y = (%.4f + %.4f) x + (%.4f + %.4f)'%(m,slerr,b,interr), lw=1)\n",
      "plot(x,y_minus(x),color = 'green',linestyle ='--', label = 'y = (%.4f - %.4f) x + (%.4f - %.4f)'%(m,slerr,b,interr), lw=1)\n",
      "legend(loc = 'lower left',prop={'size':10})\n",
      "title(\"Linear Approximation Data\", size=20)\n",
      "xlabel(\"x\",size = 20)\n",
      "ylabel(\"y\",size = 20)\n",
      "show()"
     ],
     "language": "python",
     "metadata": {},
     "outputs": [
      {
       "output_type": "display_data",
       "png": "[encoded data removed]"
      }
     ],
     "prompt_number": 149
    },
    {
     "cell_type": "markdown",
     "metadata": {},
     "source": [
      "Exercise 3\n",
      "="
     ]
    },
    {
     "cell_type": "markdown",
     "metadata": {},
     "source": [
      "a)\n",
      "="
     ]
    },
    {
     "cell_type": "code",
     "collapsed": false,
     "input": [
      "def WeightedLinearLeastSquaresFit(x,y,w):\n",
      "    \"\"\"Take in arrays representing (x,y) values for a set of linearly varying data and and an array of weights w. Perform a weighted linear least squares regression. \n",
      "    Return the resulting slope and intercept parameters of the best fit line with their uncertainties. If the weights are all equal to one, the uncertianties  on the parameters\n",
      "    are calculated  using the non-weighted least squares equations.\"\"\"\n",
      "    "
     ],
     "language": "python",
     "metadata": {},
     "outputs": []
    }
   ],
   "metadata": {}
  }
 ]
}