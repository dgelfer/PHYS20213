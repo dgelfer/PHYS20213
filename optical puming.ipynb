{
 "metadata": {
  "name": "optical puming"
 },
 "nbformat": 3,
 "nbformat_minor": 0,
 "worksheets": [
  {
   "cells": [
    {
     "cell_type": "markdown",
     "metadata": {},
     "source": [
      "Optical Pumping : Rapid field switching \n",
      "    \n",
      "\n"
     ]
    },
    {
     "cell_type": "code",
     "collapsed": false,
     "input": [
      "# dip 1 use RF coil R and N values for B calculation , equation 5 in manual \n",
      "\n",
      "A1= 1.65 #V voltage amplitudes \n",
      "\n",
      "T1= 2.6 #ms periods\n",
      "\n",
      "\n",
      "A2 = 1.775#v\n",
      "T2=  5.6# ms\n",
      "\n",
      "A3= 2.7\n",
      "\n",
      "T3=1.4\n",
      "\n",
      "A4= 1.45\n",
      "\n",
      "T4=  2.4 \n",
      "\n",
      "A5= 1.475 \n",
      "T5=  2.8\n",
      "\n",
      "\n",
      "\n",
      "\n"
     ],
     "language": "python",
     "metadata": {},
     "outputs": [],
     "prompt_number": 2
    },
    {
     "cell_type": "code",
     "collapsed": false,
     "input": [
      "#dip2\n",
      "\n",
      "T1 =  3.0\n",
      "\n",
      "A1= 1.525\n",
      "\n",
      "T2=  2.0\n",
      "\n",
      "A2 = 2.925\n",
      "\n",
      "T3 = 5.4 \n",
      "\n",
      "A3  = 1.0 V\n",
      "\n",
      "T4= 1.80\n",
      "\n",
      "A4=  2.875\n",
      "\n",
      "T5= 1.25\n",
      "\n",
      "A5=  4.8\n"
     ],
     "language": "python",
     "metadata": {},
     "outputs": []
    }
   ],
   "metadata": {}
  }
 ]
}