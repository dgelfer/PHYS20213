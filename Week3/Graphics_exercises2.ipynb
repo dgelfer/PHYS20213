{
 "metadata": {
  "name": "Graphics_exercises2"
 },
 "nbformat": 3,
 "nbformat_minor": 0,
 "worksheets": [
  {
   "cells": [
    {
     "cell_type": "markdown",
     "metadata": {},
     "source": [
      "Publication quality graphics, Exercises 2\n",
      "=\n",
      "\n",
      "18-Apr-2013\n",
      "="
     ]
    },
    {
     "cell_type": "markdown",
     "metadata": {},
     "source": [
      "Question 1\n",
      "=\n",
      "Download the American Math Society's short math guide (ftp://ftp.ams.org/pub/\n",
      "tex/doc/amsmath/short-math-guide.pdf) for LATEX formatting of math equations and\n",
      "symbols. Use it as a reference to reproduce the following equations in markdown cells in\n",
      "your notebook. Be careful with parentheses and brackets - if they span over larger than\n",
      "one line, yours should too."
     ]
    },
    {
     "cell_type": "markdown",
     "metadata": {},
     "source": [
      "a)"
     ]
    },
    {
     "cell_type": "markdown",
     "metadata": {},
     "source": [
      "$\\Psi_k(x)= A\\Bigl(\\frac{ik-a\\tanh(ax)}{ik+a}\\Bigl)e^{+ikx}$  "
     ]
    },
    {
     "cell_type": "markdown",
     "metadata": {},
     "source": [
      "b)"
     ]
    },
    {
     "cell_type": "markdown",
     "metadata": {},
     "source": [
      "$v_1=m_2\\sqrt{{\\frac{2G}{M}}\\Bigl({\\frac{1}{r}}-{\\frac{1}{r_0}}\\Bigl)}$"
     ]
    },
    {
     "cell_type": "markdown",
     "metadata": {},
     "source": [
      "c)"
     ]
    },
    {
     "cell_type": "markdown",
     "metadata": {},
     "source": [
      "$f(\\theta)= \\dfrac{\\hslash}{P}\\\\sum\\limits_{\\ell=0} ^{\\infty} (2l+1)e^{i\\delta_l}\\sin\\delta_\\ell P_\\ell (\\cos\\theta)$"
     ]
    },
    {
     "cell_type": "markdown",
     "metadata": {},
     "source": [
      "d)"
     ]
    },
    {
     "cell_type": "markdown",
     "metadata": {},
     "source": [
      "$\\dfrac{d\\sigma}{d\\Omega}= \\cfrac{k\\pi^2 (\\pi-\\theta)}{mu_0 ^2 \\theta^2 (2\\pi-\\theta)^2 \\sin\\theta}$\n"
     ]
    },
    {
     "cell_type": "markdown",
     "metadata": {},
     "source": [
      "e)"
     ]
    },
    {
     "cell_type": "markdown",
     "metadata": {},
     "source": [
      "\\begin{equation}\\langle f \\rangle = \\dfrac{1}{\\tau} \\int_0^{\\tau}f(t)dt\\end{equation}$"
     ]
    },
    {
     "cell_type": "code",
     "collapsed": false,
     "input": [],
     "language": "python",
     "metadata": {},
     "outputs": []
    }
   ],
   "metadata": {}
  }
 ]
}