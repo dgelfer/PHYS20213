{
 "metadata": {
  "name": "PlotTemplates"
 },
 "nbformat": 3,
 "nbformat_minor": 0,
 "worksheets": [
  {
   "cells": [
    {
     "cell_type": "markdown",
     "metadata": {},
     "source": [
      "Publication ready plot template\n",
      "=\n",
      "Simple graphing template for matplotlib functions and data plots\n",
      "-"
     ]
    },
    {
     "cell_type": "markdown",
     "metadata": {},
     "source": [
      "###Line plots"
     ]
    },
    {
     "cell_type": "code",
     "collapsed": false,
     "input": [
      "y = arange(-5,6,0.1) # I created an array that goes from -5 to 5 ( set it to 6 because an arange is exclusive)\n",
      "E = cosh(y) # set variable E to cosh of y\n",
      "p =  sinh(y) # in order to get absolute value of p , we orginally set it equal to sinh of y. \n",
      "             #But then we utilized the absolute value command in order to get the absolute value of p.\n",
      "abs(p)"
     ],
     "language": "python",
     "metadata": {},
     "outputs": [
      {
       "output_type": "pyout",
       "prompt_number": 3,
       "text": [
        "array([  7.42032106e+01,   6.71411666e+01,   6.07510939e+01,\n",
        "         5.49690386e+01,   4.97371319e+01,   4.50030112e+01,\n",
        "         4.07192957e+01,   3.68431126e+01,   3.33356677e+01,\n",
        "         3.01618575e+01,   2.72899172e+01,   2.46911036e+01,\n",
        "         2.23394069e+01,   2.02112904e+01,   1.82854554e+01,\n",
        "         1.65426273e+01,   1.49653634e+01,   1.35378779e+01,\n",
        "         1.22458840e+01,   1.10764510e+01,   1.00178749e+01,\n",
        "         9.05956107e+00,   8.19191835e+00,   7.40626311e+00,\n",
        "         6.69473223e+00,   6.05020448e+00,   5.46622921e+00,\n",
        "         4.93696181e+00,   4.45710517e+00,   4.02185674e+00,\n",
        "         3.62686041e+00,   3.26816291e+00,   2.94217429e+00,\n",
        "         2.64563193e+00,   2.37556795e+00,   2.12927946e+00,\n",
        "         1.90430150e+00,   1.69838244e+00,   1.50946136e+00,\n",
        "         1.33564747e+00,   1.17520119e+00,   1.02651673e+00,\n",
        "         8.88105982e-01,   7.58583702e-01,   6.36653582e-01,\n",
        "         5.21095305e-01,   4.10752326e-01,   3.04520293e-01,\n",
        "         2.01336003e-01,   1.00166750e-01,   1.77635684e-14,\n",
        "         1.00166750e-01,   2.01336003e-01,   3.04520293e-01,\n",
        "         4.10752326e-01,   5.21095305e-01,   6.36653582e-01,\n",
        "         7.58583702e-01,   8.88105982e-01,   1.02651673e+00,\n",
        "         1.17520119e+00,   1.33564747e+00,   1.50946136e+00,\n",
        "         1.69838244e+00,   1.90430150e+00,   2.12927946e+00,\n",
        "         2.37556795e+00,   2.64563193e+00,   2.94217429e+00,\n",
        "         3.26816291e+00,   3.62686041e+00,   4.02185674e+00,\n",
        "         4.45710517e+00,   4.93696181e+00,   5.46622921e+00,\n",
        "         6.05020448e+00,   6.69473223e+00,   7.40626311e+00,\n",
        "         8.19191835e+00,   9.05956107e+00,   1.00178749e+01,\n",
        "         1.10764510e+01,   1.22458840e+01,   1.35378779e+01,\n",
        "         1.49653634e+01,   1.65426273e+01,   1.82854554e+01,\n",
        "         2.02112904e+01,   2.23394069e+01,   2.46911036e+01,\n",
        "         2.72899172e+01,   3.01618575e+01,   3.33356677e+01,\n",
        "         3.68431126e+01,   4.07192957e+01,   4.50030112e+01,\n",
        "         4.97371319e+01,   5.49690386e+01,   6.07510939e+01,\n",
        "         6.71411666e+01,   7.42032106e+01,   8.20079053e+01,\n",
        "         9.06333627e+01,   1.00165909e+02,   1.10700950e+02,\n",
        "         1.22343923e+02,   1.35211355e+02,   1.49432028e+02,\n",
        "         1.65148266e+02,   1.82517364e+02])"
       ]
      }
     ],
     "prompt_number": 3
    },
    {
     "cell_type": "code",
     "collapsed": false,
     "input": [
      "plot(y,abs(p),color=\"green\",label = \"|P|\")# plot absolute value of p with respect to y\n",
      "plot(y,E, color=\"blue\", label = \"E\") # plot absolute value of p with respect to y\n",
      "xlabel(\"y\",fontsize=20)# labeled the x -axis as \"y\"\n",
      "ylabel(\"|P|, E\",fontsize=20) # labeled the y-axis as \"E and |P|\"\n",
      "title(\"E,|P|\",fontsize = 24)# titled\n",
      "legend()\n",
      "ax = gca()\n",
      "ax.spines['top'].set_color('none') # removed all bounding box parameters but bottom one\n",
      "ax.spines['right'].set_color('none')\n",
      "ax.spines['left'].set_color('none')\n",
      "ax.xaxis.set_ticks_position('none')\n",
      "ax.yaxis.set_ticks_position('none')\n",
      "ax."
     ],
     "language": "python",
     "metadata": {},
     "outputs": [
      {
       "ename": "ValueError",
       "evalue": "unknown value for which",
       "output_type": "pyerr",
       "traceback": [
        "\u001b[0;31m---------------------------------------------------------------------------\u001b[0m\n\u001b[0;31mValueError\u001b[0m                                Traceback (most recent call last)",
        "\u001b[0;32m<ipython-input-19-5c4f3a78d8bf>\u001b[0m in \u001b[0;36m<module>\u001b[0;34m()\u001b[0m\n\u001b[1;32m     11\u001b[0m \u001b[0max\u001b[0m\u001b[0;34m.\u001b[0m\u001b[0mxaxis\u001b[0m\u001b[0;34m.\u001b[0m\u001b[0mset_ticks_position\u001b[0m\u001b[0;34m(\u001b[0m\u001b[0;34m'none'\u001b[0m\u001b[0;34m)\u001b[0m\u001b[0;34m\u001b[0m\u001b[0m\n\u001b[1;32m     12\u001b[0m \u001b[0max\u001b[0m\u001b[0;34m.\u001b[0m\u001b[0myaxis\u001b[0m\u001b[0;34m.\u001b[0m\u001b[0mset_ticks_position\u001b[0m\u001b[0;34m(\u001b[0m\u001b[0;34m'none'\u001b[0m\u001b[0;34m)\u001b[0m\u001b[0;34m\u001b[0m\u001b[0m\n\u001b[0;32m---> 13\u001b[0;31m \u001b[0max\u001b[0m\u001b[0;34m.\u001b[0m\u001b[0mget_yaxis_transform\u001b[0m\u001b[0;34m(\u001b[0m\u001b[0;36m0\u001b[0m\u001b[0;34m)\u001b[0m\u001b[0;34m\u001b[0m\u001b[0m\n\u001b[0m",
        "\u001b[0;32m/Library/Frameworks/EPD64.framework/Versions/7.3/lib/python2.7/site-packages/matplotlib/axes.py\u001b[0m in \u001b[0;36mget_yaxis_transform\u001b[0;34m(self, which)\u001b[0m\n\u001b[1;32m    655\u001b[0m             \u001b[0;32mreturn\u001b[0m \u001b[0mself\u001b[0m\u001b[0;34m.\u001b[0m\u001b[0mspines\u001b[0m\u001b[0;34m[\u001b[0m\u001b[0;34m'right'\u001b[0m\u001b[0;34m]\u001b[0m\u001b[0;34m.\u001b[0m\u001b[0mget_spine_transform\u001b[0m\u001b[0;34m(\u001b[0m\u001b[0;34m)\u001b[0m\u001b[0;34m\u001b[0m\u001b[0m\n\u001b[1;32m    656\u001b[0m         \u001b[0;32melse\u001b[0m\u001b[0;34m:\u001b[0m\u001b[0;34m\u001b[0m\u001b[0m\n\u001b[0;32m--> 657\u001b[0;31m             \u001b[0;32mraise\u001b[0m \u001b[0mValueError\u001b[0m\u001b[0;34m(\u001b[0m\u001b[0;34m'unknown value for which'\u001b[0m\u001b[0;34m)\u001b[0m\u001b[0;34m\u001b[0m\u001b[0m\n\u001b[0m\u001b[1;32m    658\u001b[0m \u001b[0;34m\u001b[0m\u001b[0m\n\u001b[1;32m    659\u001b[0m     \u001b[0;32mdef\u001b[0m \u001b[0mget_yaxis_text1_transform\u001b[0m\u001b[0;34m(\u001b[0m\u001b[0mself\u001b[0m\u001b[0;34m,\u001b[0m \u001b[0mpad_points\u001b[0m\u001b[0;34m)\u001b[0m\u001b[0;34m:\u001b[0m\u001b[0;34m\u001b[0m\u001b[0m\n",
        "\u001b[0;31mValueError\u001b[0m: unknown value for which"
       ]
      },
      {
       "output_type": "display_data",
       "png": "[encoded data removed]"
      }
     ],
     "prompt_number": 19
    },
    {
     "cell_type": "code",
     "collapsed": false,
     "input": [],
     "language": "python",
     "metadata": {},
     "outputs": []
    },
    {
     "cell_type": "code",
     "collapsed": false,
     "input": [],
     "language": "python",
     "metadata": {},
     "outputs": []
    },
    {
     "cell_type": "code",
     "collapsed": false,
     "input": [],
     "language": "python",
     "metadata": {},
     "outputs": []
    }
   ],
   "metadata": {}
  }
 ]
}