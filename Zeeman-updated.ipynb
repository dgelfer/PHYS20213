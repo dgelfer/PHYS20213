{
 "metadata": {
  "name": "Zeeman-updated"
 },
 "nbformat": 3,
 "nbformat_minor": 0,
 "worksheets": [
  {
   "cells": [
    {
     "cell_type": "markdown",
     "metadata": {},
     "source": [
      "##Magnetic Field vs Current"
     ]
    },
    {
     "cell_type": "code",
     "collapsed": false,
     "input": [
      "#amps and gauss?\n",
      "B1=4.2\n",
      "I1=0\n",
      "B2=1098.0/10\n",
      "I2=1.13\n",
      "B3=1902.4/10\n",
      "I3=2.02\n",
      "B4=2908.9/10\n",
      "I4=3.07\n",
      "B5=3704.7/10\n",
      "I5=4\n",
      "B6=4463.7/10\n",
      "I6=5.02\n",
      "B7=4971.8/10\n",
      "I7=6\n",
      "B8=5274.4/10\n",
      "I8=7.01\n",
      "B9=5381.0/10\n",
      "I9=7.46\n",
      "B=array([B1,B2,B3,B4,B5,B6,B7,B8,B9])\n",
      "I=array([I1,I2,I3,I4,I5,I6,I7,I8,I9])\n",
      "scatter(I,B)\n",
      "xlim(-.5,8)\n",
      "ylim(-5,600)\n",
      "xlabel('Current (A)')\n",
      "ylabel('B (mT)')\n",
      "show()"
     ],
     "language": "python",
     "metadata": {},
     "outputs": [
      {
       "output_type": "display_data",
       "png": "[encoded data removed]"
      }
     ],
     "prompt_number": 2
    },
    {
     "cell_type": "code",
     "collapsed": false,
     "input": [
      "#Central Peaks"
     ],
     "language": "python",
     "metadata": {},
     "outputs": [],
     "prompt_number": 3
    },
    {
     "cell_type": "code",
     "collapsed": false,
     "input": [
      "a1=-.535\n",
      "a2=.845\n",
      "zeroshift=(a1+a2)/2.\n",
      "print zeroshift"
     ],
     "language": "python",
     "metadata": {},
     "outputs": [
      {
       "output_type": "stream",
       "stream": "stdout",
       "text": [
        "0.155\n"
       ]
      }
     ],
     "prompt_number": 4
    },
    {
     "cell_type": "code",
     "collapsed": false,
     "input": [
      "#1st Scan"
     ],
     "language": "python",
     "metadata": {},
     "outputs": [],
     "prompt_number": 5
    },
    {
     "cell_type": "code",
     "collapsed": false,
     "input": [
      "def Calib(x,a,b,c,d):\n",
      "    return x**3*a+x**2*b+x*c+d\n",
      "p=[.2,.3,1,4]\n",
      "from scipy.optimize import curve_fit  # import the curve fitting function\n",
      "plsq, pcov = curve_fit(Calib, I, B, p)"
     ],
     "language": "python",
     "metadata": {},
     "outputs": [],
     "prompt_number": 6
    },
    {
     "cell_type": "code",
     "collapsed": false,
     "input": [
      "xlots=linspace(0,10,1000)\n",
      "plot(xlots,Calib(xlots,plsq[0],plsq[1],plsq[2],plsq[3]))\n",
      "scatter(I,B)\n",
      "A_=plsq[0]\n",
      "B_=plsq[1]\n",
      "C_=plsq[2]\n",
      "D_=plsq[3]\n",
      "xlim(0,8)\n",
      "print A_,B_,C_"
     ],
     "language": "python",
     "metadata": {},
     "outputs": [
      {
       "output_type": "stream",
       "stream": "stdout",
       "text": [
        "-0.885536729993 4.31835871688 88.3048247443\n"
       ]
      },
      {
       "output_type": "display_data",
       "png": "[encoded data removed]"
      }
     ],
     "prompt_number": 7
    },
    {
     "cell_type": "code",
     "collapsed": false,
     "input": [
      "def Calibration(x):\n",
      "    return x**3*A_+x**2*B_+x*C_+D_"
     ],
     "language": "python",
     "metadata": {},
     "outputs": [],
     "prompt_number": 8
    },
    {
     "cell_type": "code",
     "collapsed": false,
     "input": [
      "uncI=[.1,.1,.1,.1,.1,.1,.1,.1,.1]\n",
      "uncB=[]\n",
      "for i in range(shape(I)[0]):\n",
      "    uncB.append((A_*I[i]**2*3+2*B_*I[i]+C_)*uncI[i])\n",
      "print uncB"
     ],
     "language": "python",
     "metadata": {},
     "outputs": [
      {
       "output_type": "stream",
       "stream": "stdout",
       "text": [
        "[8.8304824744339641, 9.4672089892898992, 9.4910961741332809, 8.978126188642781, 8.034593143968225, 6.4713506830219574, 4.4487162507590101, 1.830212355832451, 0.48901291514584105]\n"
       ]
      }
     ],
     "prompt_number": 9
    },
    {
     "cell_type": "code",
     "collapsed": false,
     "input": [
      "figure(num=None, figsize=(8, 6), dpi=80, facecolor='w', edgecolor='k')\n",
      "plot(xlots,Calibration(xlots))\n",
      "scatter(I,B)\n",
      "errorbar(I, B, yerr=uncB, xerr=uncI,fmt='.')\n",
      "xlim(-.1,8)\n",
      "ylim(-100,600)\n",
      "title('Current as function of Magnetic Field',color='r')\n",
      "xlabel('$I$ (A)',color='r',fontsize=14)\n",
      "ylabel('$B$ (mT)',color='r',fontsize=14)\n",
      "show()"
     ],
     "language": "python",
     "metadata": {},
     "outputs": [
      {
       "output_type": "display_data",
       "png": "[encoded data removed]"
      }
     ],
     "prompt_number": 21
    },
    {
     "cell_type": "code",
     "collapsed": false,
     "input": [
      "a1_unshifted=-.631\n",
      "a2=-.690\n",
      "B11=Calibration(3.03)\n",
      "\n",
      "a3=-.727\n",
      "B12=Calibration(4.02)\n",
      "\n",
      "a4=-.732\n",
      "B13=Calibration(4.31)\n",
      "\n",
      "a5=-.743\n",
      "B14=Calibration(5.02)\n",
      "\n",
      "a6=-.748\n",
      "B15=Calibration(5.52)\n",
      "\n",
      "a7=-.754\n",
      "B16=Calibration(6)\n",
      "\n",
      "a8=-.764\n",
      "B17=Calibration(6.49)\n",
      "\n",
      "\n",
      "a9=-.764\n",
      "B18=Calibration(7.02)\n",
      "print B18\n",
      "a10=-.775\n",
      "B19=Calibration(7.5)\n",
      "print B19\n",
      "\n",
      "ii=array([0,3.03,4.02,4.31,5.02,5.52,6,6.49,7.02,7.5])"
     ],
     "language": "python",
     "metadata": {},
     "outputs": [
      {
       "output_type": "stream",
       "stream": "stdout",
       "text": [
        "530.631498789\n",
        "535.87926158\n"
       ]
      }
     ],
     "prompt_number": 11
    },
    {
     "cell_type": "code",
     "collapsed": false,
     "input": [
      "b1=.808\n",
      "\n",
      "B21=Calibration(2.17)\n",
      "b2=.77\n",
      "b3=.760\n",
      "B22=Calibration(2.49)\n",
      "\n",
      "b4=.749\n",
      "B23=Calibration(3.04)\n",
      "\n",
      "b5=.727\n",
      "B24=Calibration(3.5)\n",
      "\n",
      "                \n",
      "b6=.711\n",
      "B25=Calibration(4.0)\n",
      "\n",
      "b7=.706\n",
      "B26=Calibration(4.5)\n",
      "\n",
      "b8=.695\n",
      "B27=Calibration(5)\n",
      "\n",
      "b9=.69\n",
      "B28=Calibration(5.5)\n",
      "\n",
      "b10=.685\n",
      "B29=Calibration(6.0)\n",
      "\n",
      "b11=.674\n",
      "B210=Calibration(7)\n",
      "print B210\n",
      "\n",
      "iii=array([0,2.17,2.49,3.04,3.54,4,4.5,5,5.5,6,7])"
     ],
     "language": "python",
     "metadata": {},
     "outputs": [
      {
       "output_type": "stream",
       "stream": "stdout",
       "text": [
        "530.265458089\n"
       ]
      }
     ],
     "prompt_number": 25
    },
    {
     "cell_type": "code",
     "collapsed": false,
     "input": [
      "Slope_top=48.1 #microeV/Tesla\n",
      "Slope_bot=-50.9"
     ],
     "language": "python",
     "metadata": {},
     "outputs": [],
     "prompt_number": 13
    },
    {
     "cell_type": "code",
     "collapsed": false,
     "input": [
      "#Magnetic Field\n",
      "Q_up=array([0,.287,.372,.394,.444,.474,.498,.517,.531,.536])\n",
      "Q_do=array([0,.207,.238,.288,.329,.37,.408,.443,.473,.498,.53])\n",
      "\n",
      "#Delta E\n",
      "E_up=array([0,10.7,17.9,18.9,21.2,22.2,23.4,25.5,25.5,27.9])\n",
      "E_do=array([0,-8.3,-10.4,-12.6,-17.1,-20.3,-21.2,-23.4,-24.3,-25.3,-27.3])"
     ],
     "language": "python",
     "metadata": {},
     "outputs": [],
     "prompt_number": 14
    },
    {
     "cell_type": "code",
     "collapsed": false,
     "input": [
      "figure(num=None, figsize=(8, 6), dpi=80, facecolor='w', edgecolor='k')\n",
      "scatter(Q_up,E_up)\n",
      "xlabel('$B$ (T)')\n",
      "ylabel('$\\Delta E$ ($\\mu$eV)')"
     ],
     "language": "python",
     "metadata": {},
     "outputs": [
      {
       "output_type": "pyout",
       "prompt_number": 15,
       "text": [
        "<matplotlib.text.Text at 0x108155410>"
       ]
      },
      {
       "output_type": "display_data",
       "png": "[encoded data removed]"
      }
     ],
     "prompt_number": 15
    },
    {
     "cell_type": "code",
     "collapsed": false,
     "input": [
      "def Lin(a,x):\n",
      "    return a*x\n",
      "p_0=[1]\n",
      "from scipy.optimize import curve_fit  # import the curve fitting function\n",
      "plsq, pcov = curve_fit(Lin, Q_up, E_up, p_0)\n",
      "rr=plsq[0]\n",
      "print rr\n",
      "xlots2=linspace(0,6,1000)\n",
      "\n",
      "from scipy.optimize import curve_fit  # import the curve fitting function\n",
      "plsq, pcov = curve_fit(Lin, Q_do, E_do, p_0)\n",
      "ss=plsq[0]\n",
      "print ss\n"
     ],
     "language": "python",
     "metadata": {},
     "outputs": [
      {
       "output_type": "stream",
       "stream": "stdout",
       "text": [
        "48.0481589267\n",
        "-50.9014701904\n"
       ]
      }
     ],
     "prompt_number": 16
    },
    {
     "cell_type": "code",
     "collapsed": false,
     "input": [
      "uncB_up=[0]\n",
      "for i in range(1,shape(ii)[0]):\n",
      "    uncB_up.append((A_*ii[i]**2*3+2*B_*ii[i]+C_)*.001/2)\n",
      "\n",
      "uncB_do=[0]\n",
      "for i in range(1,shape(iii)[0]):\n",
      "    uncB_do.append((A_*iii[i]**2*3+2*B_*iii[i]+C_)*.001/2)\n",
      "\n",
      "uncE_up=[]\n",
      "uncE_do=[]\n",
      "for i in range(shape(ii)[0]):\n",
      "    uncE_up.append((1.7588*10**11.)*((1.055*10**-34)/2.)*uncB_up[i]*6.24150934*10**18.*10**6)\n",
      "for i in range(shape(iii)[0]):\n",
      "    uncE_do.append((1.7588*10**11.)*((1.055*10**-34)/2.)*uncB_do[i]*6.24150934*10**18.*10**6)\n",
      "print len(uncB_up)\n",
      "print len(Q_up)\n",
      "print len(Q_do)\n",
      "print len(E_do)\n",
      "print len(uncE_do)"
     ],
     "language": "python",
     "metadata": {},
     "outputs": [
      {
       "output_type": "stream",
       "stream": "stdout",
       "text": [
        "10\n",
        "10\n",
        "11\n",
        "11\n",
        "11\n"
       ]
      }
     ],
     "prompt_number": 17
    },
    {
     "cell_type": "code",
     "collapsed": false,
     "input": [
      "figure(num=None, figsize=(10, 8), dpi=80, facecolor='w', edgecolor='k')\n",
      "scatter(Q_up,E_up,c='k')\n",
      "plot(xlots2,Lin(rr,xlots2))\n",
      "errorbar(Q_up, E_up,yerr=uncE_up, xerr=uncB_up,fmt='.',ecolor='k')\n",
      "xlabel('$B$ (T)',fontsize=16)\n",
      "ylabel('$\\Delta E$ ($\\mu$eV)', fontsize=16)\n",
      "xlim(0,.6)\n",
      "ylim(-60,60)\n",
      "title('Energy splitting for $\\sigma$ spectral lines')\n",
      "scatter(Q_do,E_do,c='k')\n",
      "plot(xlots2,Lin(ss,xlots2))\n",
      "errorbar(Q_do,E_do, yerr=uncE_do, xerr=uncB_do,fmt='.', ecolor='k')\n",
      "show()"
     ],
     "language": "python",
     "metadata": {},
     "outputs": [
      {
       "output_type": "display_data",
       "png": "[encoded data removed]"
      }
     ],
     "prompt_number": 24
    },
    {
     "cell_type": "code",
     "collapsed": false,
     "input": [
      "E_up_th=[]\n",
      "for i in range("
     ],
     "language": "python",
     "metadata": {},
     "outputs": [
      {
       "ename": "SyntaxError",
       "evalue": "invalid syntax (<ipython-input-19-327d95f2a104>, line 2)",
       "output_type": "pyerr",
       "traceback": [
        "\u001b[0;36m  File \u001b[0;32m\"<ipython-input-19-327d95f2a104>\"\u001b[0;36m, line \u001b[0;32m2\u001b[0m\n\u001b[0;31m    for i in range(\u001b[0m\n\u001b[0m                   ^\u001b[0m\n\u001b[0;31mSyntaxError\u001b[0m\u001b[0;31m:\u001b[0m invalid syntax\n"
       ]
      }
     ],
     "prompt_number": 19
    },
    {
     "cell_type": "code",
     "collapsed": false,
     "input": [
      "#def Delt_E(a):\n",
      "   # c=3*10**8.\n",
      " #   h=6.626*10**-34.\n",
      "   # hc=h*c\n",
      "   # f=150*10**-3\n",
      "   # n=1.46\n",
      "   # Lam=642.8*10**-9\n",
      "    #R=hc*(2*f*sqrt((n**2.)-(sin(a))**2.)-Lam)/(Lam**2.)\n",
      "    #return R*10**6.\n",
      "\n",
      "#Delt_E(.5)"
     ],
     "language": "python",
     "metadata": {},
     "outputs": []
    },
    {
     "cell_type": "code",
     "collapsed": false,
     "input": [
      "def Delt_E(B):\n",
      "    return (((1.055*10**-34)/2)*1.759*10**11)*B\n",
      "((Delt_E(.5))*6.24150934*10**18.)*10**6"
     ],
     "language": "python",
     "metadata": {},
     "outputs": []
    },
    {
     "cell_type": "code",
     "collapsed": false,
     "input": [],
     "language": "python",
     "metadata": {},
     "outputs": []
    },
    {
     "cell_type": "code",
     "collapsed": false,
     "input": [],
     "language": "python",
     "metadata": {},
     "outputs": []
    }
   ],
   "metadata": {}
  }
 ]
}