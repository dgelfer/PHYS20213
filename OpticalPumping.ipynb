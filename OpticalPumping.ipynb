{
 "metadata": {
  "name": "OpticalPumping"
 },
 "nbformat": 3,
 "nbformat_minor": 0,
 "worksheets": [
  {
   "cells": [
    {
     "cell_type": "code",
     "collapsed": false,
     "input": [
      "f_0=100.73 #kHz\n",
      "I_0magnetic=.55"
     ],
     "language": "python",
     "metadata": {},
     "outputs": [],
     "prompt_number": 1
    },
    {
     "cell_type": "code",
     "collapsed": false,
     "input": [
      "N=11\n",
      "R=.163\n",
      "def b(I):\n",
      "    return 8.991*10**(-3.)*I*N/R\n",
      "\n",
      "I_firstdip=.457\n",
      "I_seconddip=.574\n",
      "B_earth_horiz=b(I_0magnetic)\n"
     ],
     "language": "python",
     "metadata": {},
     "outputs": [],
     "prompt_number": 2
    },
    {
     "cell_type": "code",
     "collapsed": false,
     "input": [
      "def E(B,a):\n",
      "    return a*B"
     ],
     "language": "python",
     "metadata": {},
     "outputs": [],
     "prompt_number": 3
    },
    {
     "cell_type": "code",
     "collapsed": false,
     "input": [
      "#first_dip Rb87\n",
      "f1array=array([81.331,100.73,130.117,155.171,179.036,200.107,224.904])\n",
      "I1array=array([.411,.457,.524,.582,.637,.686,.743])\n",
      "B1=[]\n",
      "for i in range(shape(I1array)[0]):\n",
      "    B1.append(b(I1array[i]))\n",
      "B1array=array(B1)\n",
      "\n",
      "#second_dip Rb85\n",
      "f2array=array([81.331,100.340,100.73,136.254,150.200,180.265,212.352])\n",
      "I2array=array([.505,.571,.574,.696,.745,.849,.960])\n",
      "B2=[]\n",
      "for i in range(shape(I2array)[0]):\n",
      "    B2.append(b(I2array[i]))\n",
      "B2array=array(B2)             \n",
      "               "
     ],
     "language": "python",
     "metadata": {},
     "outputs": [],
     "prompt_number": 4
    },
    {
     "cell_type": "code",
     "collapsed": false,
     "input": [
      "#TIME CONSTANT\n",
      "f_t=154.266"
     ],
     "language": "python",
     "metadata": {},
     "outputs": [],
     "prompt_number": 4
    },
    {
     "cell_type": "code",
     "collapsed": false,
     "input": [],
     "language": "python",
     "metadata": {},
     "outputs": [],
     "prompt_number": 4
    },
    {
     "cell_type": "code",
     "collapsed": false,
     "input": [],
     "language": "python",
     "metadata": {},
     "outputs": []
    }
   ],
   "metadata": {}
  }
 ]
}