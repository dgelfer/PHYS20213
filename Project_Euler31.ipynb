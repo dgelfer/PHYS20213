{
 "metadata": {
  "name": "Project_Euler31"
 },
 "nbformat": 3,
 "nbformat_minor": 0,
 "worksheets": [
  {
   "cells": [
    {
     "cell_type": "markdown",
     "metadata": {},
     "source": [
      "Project Euler 31 \n",
      "\n",
      "In England the currency is made up of pound, \u00a3, and pence, p, and there are eight coins in general circulation:\n",
      "\n",
      "1p, 2p, 5p, 10p, 20p, 50p, \u00a31 (100p) and \u00a32 (200p).\n",
      "It is possible to make \u00a32 in the following way:\n",
      "\n",
      "1\u00a31 + 150p + 220p + 15p + 12p + 31p\n",
      "How many different ways can \u00a32 be made using any number of coins?"
     ]
    },
    {
     "cell_type": "code",
     "collapsed": false,
     "input": [
      "\n",
      "twop = np.zeros(201, dtype =int) # created an array of zeros of which items/elements will be called on. \n",
      "# using the 200 p worth of 1p and 2p, then finding how many ways they can create zero p. \n",
      "for n in range(0,201):\n",
      "    if n<2:\n",
      "       twop[n] = 1 # 1p\n",
      "    else:\n",
      "        twop[n]=1+twop[n-2] # counts all the possibilites to get 0p from 200p of 1p and 2p \n",
      "        \n",
      "        \n",
      "\n",
      "print twop[200]\n"
     ],
     "language": "python",
     "metadata": {},
     "outputs": [
      {
       "output_type": "stream",
       "stream": "stdout",
       "text": [
        "101\n"
       ]
      }
     ],
     "prompt_number": 14
    },
    {
     "cell_type": "code",
     "collapsed": false,
     "input": [
      "Fivep = np.zeros(201, dtype =int) # using the 200 p worth of 1p,2p,5p then finding  how many ways they can create zero p. \n",
      "for n in range(0,201):\n",
      "    if n<5:\n",
      "       Fivep[n] = twop[n]\n",
      "    else:\n",
      "        Fivep[n]=twop[n]+Fivep[n-5] # counts all the possibilites to get 0p from using 200p consisted of 1p,2p and 5p \n",
      "        \n",
      "        \n",
      "\n",
      "print Fivep[200]"
     ],
     "language": "python",
     "metadata": {},
     "outputs": [
      {
       "output_type": "stream",
       "stream": "stdout",
       "text": [
        "2081\n"
       ]
      }
     ],
     "prompt_number": 15
    },
    {
     "cell_type": "code",
     "collapsed": false,
     "input": [
      "Tenp = np.zeros(201, dtype =int) # same approach now including 10p \n",
      "for n in range(0,201):\n",
      "    if n<10:\n",
      "      Tenp[n]=Fivep[n]\n",
      "    else:\n",
      "        Tenp[n]=Fivep[n]+Tenp[n-10] \n",
      "\n",
      "        \n",
      "\n",
      "print Tenp[200]"
     ],
     "language": "python",
     "metadata": {},
     "outputs": [
      {
       "output_type": "stream",
       "stream": "stdout",
       "text": [
        "15214\n"
       ]
      }
     ],
     "prompt_number": 22
    },
    {
     "cell_type": "code",
     "collapsed": false,
     "input": [
      "Towentyp = np.zeros(201, dtype =int) # same approach now including 20p \n",
      "for n in range(0,201):\n",
      "    if n<20:\n",
      "      Towentyp[n]=Tenp[n]\n",
      "    else:\n",
      "        Towentyp[n]=Tenp[n]+Towentyp[n-20] \n",
      "\n",
      "        \n",
      "\n",
      "print Towentyp[200]"
     ],
     "language": "python",
     "metadata": {},
     "outputs": [
      {
       "output_type": "stream",
       "stream": "stdout",
       "text": [
        "47726\n"
       ]
      }
     ],
     "prompt_number": 24
    },
    {
     "cell_type": "code",
     "collapsed": false,
     "input": [
      "Fiftyp = np.zeros(201, dtype =int) # same approach now including 50p \n",
      "for n in range(0,201):\n",
      "    if n<50:\n",
      "      Fiftyp[n]=Towentyp[n]\n",
      "    else:\n",
      "        Fiftyp[n]=Towentyp[n]+Fiftyp[n-50] \n",
      "\n",
      "        \n",
      "\n",
      "print Fiftyp[200]"
     ],
     "language": "python",
     "metadata": {},
     "outputs": [
      {
       "output_type": "stream",
       "stream": "stdout",
       "text": [
        "69196\n"
       ]
      }
     ],
     "prompt_number": 26
    },
    {
     "cell_type": "code",
     "collapsed": false,
     "input": [
      "Pound = np.zeros(201, dtype =int) # same approach now including 100p \n",
      "for n in range(0,201):\n",
      "    if n<100:\n",
      "      Pound[n]=Fiftyp[n]\n",
      "    else:\n",
      "        Pound[n]=Fiftyp[n]+Pound[n-100] \n",
      "\n",
      "        \n",
      "\n",
      "print Pound[200]"
     ],
     "language": "python",
     "metadata": {},
     "outputs": [
      {
       "output_type": "stream",
       "stream": "stdout",
       "text": [
        "73783\n"
       ]
      }
     ],
     "prompt_number": 27
    },
    {
     "cell_type": "code",
     "collapsed": false,
     "input": [
      "Two_Pound = np.zeros(201, dtype =int) # same approach now including 200p \n",
      "for n in range(0,201):\n",
      "    if n<200:\n",
      "      Two_Pound[n]=Pound[n]\n",
      "    else:\n",
      "        Two_Pound[n]=Pound[n]+Two_Pound[n-200] \n",
      "\n",
      "        \n",
      "\n",
      "print Two_Pound[200], \"Final Solution\""
     ],
     "language": "python",
     "metadata": {},
     "outputs": [
      {
       "output_type": "stream",
       "stream": "stdout",
       "text": [
        "73784 Final Solution\n"
       ]
      }
     ],
     "prompt_number": 28
    },
    {
     "cell_type": "code",
     "collapsed": false,
     "input": [],
     "language": "python",
     "metadata": {},
     "outputs": []
    }
   ],
   "metadata": {}
  }
 ]
}