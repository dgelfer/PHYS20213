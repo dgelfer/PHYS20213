{
 "metadata": {
  "name": "PhotoelectricEffect"
 },
 "nbformat": 3,
 "nbformat_minor": 0,
 "worksheets": [
  {
   "cells": [
    {
     "cell_type": "code",
     "collapsed": false,
     "input": [
      "#No light in room Background\n",
      "I_bck = .002 #nA\n",
      "\n",
      "#Voltage current curve\n",
      "lam1=545.1 #nm\n",
      "I1= 10.03 #nanoAmps\n",
      "V1= 0. \n",
      "\n",
      "V2 = 0.504\n",
      "I2=31.3\n",
      "V3=1. #volts\n",
      "I3=31.4\n",
      "\n",
      "V4=1.503\n",
      "I4=50.5\n",
      "\n",
      "V5=2.00\n",
      "I5=54.8\n",
      "\n",
      "V6=2.504\n",
      "I6=57.2\n",
      "\n",
      "V7=3.00\n",
      "I7=58.90\n",
      "\n",
      "V01 =-2.999\n",
      "I01=-.015\n",
      "\n",
      "V02=-2.498\n",
      "I02=-.013\n",
      "\n",
      "V03=-1.999\n",
      "I03=-.012\n",
      "\n",
      "V04=-1.507\n",
      "I04=-0.01\n",
      "\n",
      "V05=-1.009\n",
      "I05=0.008\n",
      "\n",
      "V06=-.504\n",
      "I06=0.232\n",
      "\n",
      "\n",
      "Var=[V01,V02,V03,V04,V05,V06,V1,V2,V3,V4,V5,V6,V7]\n",
      "Iar=[I01,I02,I03,I04,I05,I06,I1,I2,I3,I4,I5,I6,I7]\n",
      "\n",
      "plot(Var,Iar)\n",
      "xlim(-3,3)\n",
      "\n",
      "\n",
      "#Measure stopping voltage at -0.738 #volts.  Take absolute value\n",
      "Vstop1=0.738"
     ],
     "language": "python",
     "metadata": {},
     "outputs": [
      {
       "output_type": "display_data",
       "png": "[encoded data removed]"
      }
     ],
     "prompt_number": 14
    },
    {
     "cell_type": "code",
     "collapsed": false,
     "input": [
      "#See barely any change in stopping voltage when change intensity"
     ],
     "language": "python",
     "metadata": {},
     "outputs": [],
     "prompt_number": 15
    },
    {
     "cell_type": "code",
     "collapsed": false,
     "input": [
      "lam2=576.0 #nm\n",
      "Vstop2=abs(-.907)\n",
      "\n",
      "lam3=434.8\n",
      "Vstop3=abs(-1.329)\n",
      "\n",
      "lam4=402.7\n",
      "Vstop4=abs(-1.438)\n",
      "\n",
      "lam5=364.0\n",
      "Vstop5=abs(-1.808)\n",
      "\n",
      "def lin(x,a,b):\n",
      "    return a*x+b\n",
      "lamar=[lam5,lam4,lam3,lam1,lam2]\n",
      "Vstop=[Vstop5,Vstop4,Vstop3,Vstop1,Vstop2]\n",
      "one_over_lam=[]\n",
      "for i in range(len(lamar)):\n",
      "    one_over_lam.append(1./(lamar[i]*(1e-9)))\n",
      "    \n",
      "Vstop=array(Vstop)\n",
      "one_over_lam=array(one_over_lam)\n",
      "\n",
      "scatter(one_over_lam,Vstop)"
     ],
     "language": "python",
     "metadata": {},
     "outputs": [
      {
       "output_type": "pyout",
       "prompt_number": 32,
       "text": [
        "<matplotlib.collections.PathCollection at 0x42847d0>"
       ]
      },
      {
       "output_type": "display_data",
       "png": "[encoded data removed]"
      }
     ],
     "prompt_number": 32
    },
    {
     "cell_type": "code",
     "collapsed": false,
     "input": [
      "from scipy.optimize import curve_fit\n",
      "p_0=[2,3]\n",
      "plsq,pcov=curve_fit(lin,one_over_lam,Vstop,p_0)"
     ],
     "language": "python",
     "metadata": {},
     "outputs": [],
     "prompt_number": 26
    },
    {
     "cell_type": "code",
     "collapsed": false,
     "input": [
      "print 'h is', plsq[0]*1.6*10**(-19.)/3e8\n",
      "print 'phi is', -plsq[1], 'volts'"
     ],
     "language": "python",
     "metadata": {},
     "outputs": [
      {
       "output_type": "stream",
       "stream": "stdout",
       "text": [
        "h is 5.16630949669e-34\n",
        "phi is 0.906676996392 volts\n"
       ]
      }
     ],
     "prompt_number": 31
    },
    {
     "cell_type": "code",
     "collapsed": false,
     "input": [],
     "language": "python",
     "metadata": {},
     "outputs": []
    }
   ],
   "metadata": {}
  }
 ]
}